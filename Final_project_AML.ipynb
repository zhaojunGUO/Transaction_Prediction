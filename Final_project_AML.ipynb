{
  "cells": [
    {
      "cell_type": "markdown",
      "metadata": {
        "id": "kQiXChlgFjjv"
      },
      "source": [
        "# Read data"
      ]
    },
    {
      "cell_type": "code",
      "execution_count": null,
      "metadata": {
        "id": "kYivCk5aFWox",
        "colab": {
          "base_uri": "https://localhost:8080/"
        },
        "outputId": "49825411-b918-4ddd-f45d-b46f1825b52d"
      },
      "outputs": [
        {
          "output_type": "stream",
          "name": "stdout",
          "text": [
            "Mounted at /content/drive\n"
          ]
        },
        {
          "output_type": "execute_result",
          "data": {
            "text/plain": [
              "['train2.csv', 'Colab Notebooks', 'avisassurance_test.csv']"
            ]
          },
          "metadata": {},
          "execution_count": 1
        }
      ],
      "source": [
        "import os\n",
        "from google.colab import drive\n",
        "drive.mount('/content/drive')\n",
        "\n",
        "path = \"/content/drive/My Drive/\"\n",
        "\n",
        "os.chdir(path)\n",
        "os.listdir(path)"
      ]
    },
    {
      "cell_type": "code",
      "execution_count": null,
      "metadata": {
        "id": "u8ZSX-EyFm5i",
        "colab": {
          "base_uri": "https://localhost:8080/"
        },
        "outputId": "a6ee4c3e-75a4-48d8-b56b-f706a035b6e1"
      },
      "outputs": [
        {
          "output_type": "stream",
          "name": "stderr",
          "text": [
            "/usr/local/lib/python3.7/dist-packages/IPython/core/interactiveshell.py:2718: DtypeWarning: Columns (2) have mixed types.Specify dtype option on import or set low_memory=False.\n",
            "  interactivity=interactivity, compiler=compiler, result=result)\n"
          ]
        }
      ],
      "source": [
        "import pandas as pd\n",
        "data=pd.read_csv(\"train2.csv\",sep=',')"
      ]
    },
    {
      "cell_type": "code",
      "execution_count": null,
      "metadata": {
        "id": "PRCu8D_YFrBq",
        "colab": {
          "base_uri": "https://localhost:8080/",
          "height": 933
        },
        "outputId": "7f6fa6e0-a93c-4938-eada-8be3e2f5f8a5"
      },
      "outputs": [
        {
          "output_type": "execute_result",
          "data": {
            "text/html": [
              "\n",
              "  <div id=\"df-d792a0d7-7973-48e5-a01b-c361828ce62c\">\n",
              "    <div class=\"colab-df-container\">\n",
              "      <div>\n",
              "<style scoped>\n",
              "    .dataframe tbody tr th:only-of-type {\n",
              "        vertical-align: middle;\n",
              "    }\n",
              "\n",
              "    .dataframe tbody tr th {\n",
              "        vertical-align: top;\n",
              "    }\n",
              "\n",
              "    .dataframe thead th {\n",
              "        text-align: right;\n",
              "    }\n",
              "</style>\n",
              "<table border=\"1\" class=\"dataframe\">\n",
              "  <thead>\n",
              "    <tr style=\"text-align: right;\">\n",
              "      <th></th>\n",
              "      <th>channelGrouping</th>\n",
              "      <th>date</th>\n",
              "      <th>fullVisitorId</th>\n",
              "      <th>sessionId</th>\n",
              "      <th>socialEngagementType</th>\n",
              "      <th>visitId</th>\n",
              "      <th>visitNumber</th>\n",
              "      <th>visitStartTime</th>\n",
              "      <th>datasplit</th>\n",
              "      <th>campaign</th>\n",
              "      <th>source</th>\n",
              "      <th>medium</th>\n",
              "      <th>keyword</th>\n",
              "      <th>isTrueDirect</th>\n",
              "      <th>referralPath</th>\n",
              "      <th>adContent</th>\n",
              "      <th>visits</th>\n",
              "      <th>hits</th>\n",
              "      <th>pageviews</th>\n",
              "      <th>bounces</th>\n",
              "      <th>newVisits</th>\n",
              "      <th>transactionRevenue</th>\n",
              "      <th>continent</th>\n",
              "      <th>subContinent</th>\n",
              "      <th>country</th>\n",
              "      <th>region</th>\n",
              "      <th>metro</th>\n",
              "      <th>city</th>\n",
              "      <th>cityId</th>\n",
              "      <th>networkDomain</th>\n",
              "      <th>latitude</th>\n",
              "      <th>longitude</th>\n",
              "      <th>networkLocation</th>\n",
              "      <th>browser</th>\n",
              "      <th>browserVersion</th>\n",
              "      <th>browserSize</th>\n",
              "      <th>operatingSystem</th>\n",
              "      <th>operatingSystemVersion</th>\n",
              "      <th>isMobile</th>\n",
              "      <th>mobileDeviceBranding</th>\n",
              "      <th>mobileDeviceModel</th>\n",
              "      <th>mobileInputSelector</th>\n",
              "      <th>mobileDeviceInfo</th>\n",
              "      <th>mobileDeviceMarketingName</th>\n",
              "      <th>flashVersion</th>\n",
              "      <th>language</th>\n",
              "      <th>screenColors</th>\n",
              "      <th>screenResolution</th>\n",
              "      <th>deviceCategory</th>\n",
              "      <th>criteriaParameters</th>\n",
              "      <th>page</th>\n",
              "      <th>slot</th>\n",
              "      <th>gclId</th>\n",
              "      <th>adNetworkType</th>\n",
              "      <th>isVideoAd</th>\n",
              "    </tr>\n",
              "  </thead>\n",
              "  <tbody>\n",
              "    <tr>\n",
              "      <th>0</th>\n",
              "      <td>Organic Search</td>\n",
              "      <td>20160902</td>\n",
              "      <td>1131660440785968503</td>\n",
              "      <td>1131660440785968503_1472830385</td>\n",
              "      <td>Not Socially Engaged</td>\n",
              "      <td>1472830385</td>\n",
              "      <td>1</td>\n",
              "      <td>1472830385</td>\n",
              "      <td>train</td>\n",
              "      <td>(not set)</td>\n",
              "      <td>google</td>\n",
              "      <td>organic</td>\n",
              "      <td>(not provided)</td>\n",
              "      <td>NaN</td>\n",
              "      <td>NaN</td>\n",
              "      <td>NaN</td>\n",
              "      <td>1</td>\n",
              "      <td>1</td>\n",
              "      <td>1.0</td>\n",
              "      <td>1.0</td>\n",
              "      <td>1.0</td>\n",
              "      <td>NaN</td>\n",
              "      <td>Asia</td>\n",
              "      <td>Western Asia</td>\n",
              "      <td>Turkey</td>\n",
              "      <td>Izmir</td>\n",
              "      <td>(not set)</td>\n",
              "      <td>Izmir</td>\n",
              "      <td>not available in demo dataset</td>\n",
              "      <td>ttnet.com.tr</td>\n",
              "      <td>not available in demo dataset</td>\n",
              "      <td>not available in demo dataset</td>\n",
              "      <td>not available in demo dataset</td>\n",
              "      <td>Chrome</td>\n",
              "      <td>not available in demo dataset</td>\n",
              "      <td>not available in demo dataset</td>\n",
              "      <td>Windows</td>\n",
              "      <td>not available in demo dataset</td>\n",
              "      <td>False</td>\n",
              "      <td>not available in demo dataset</td>\n",
              "      <td>not available in demo dataset</td>\n",
              "      <td>not available in demo dataset</td>\n",
              "      <td>not available in demo dataset</td>\n",
              "      <td>not available in demo dataset</td>\n",
              "      <td>not available in demo dataset</td>\n",
              "      <td>not available in demo dataset</td>\n",
              "      <td>not available in demo dataset</td>\n",
              "      <td>not available in demo dataset</td>\n",
              "      <td>desktop</td>\n",
              "      <td>not available in demo dataset</td>\n",
              "      <td>NaN</td>\n",
              "      <td>NaN</td>\n",
              "      <td>NaN</td>\n",
              "      <td>NaN</td>\n",
              "      <td>NaN</td>\n",
              "    </tr>\n",
              "    <tr>\n",
              "      <th>1</th>\n",
              "      <td>Organic Search</td>\n",
              "      <td>20160902</td>\n",
              "      <td>377306020877927890</td>\n",
              "      <td>377306020877927890_1472880147</td>\n",
              "      <td>Not Socially Engaged</td>\n",
              "      <td>1472880147</td>\n",
              "      <td>1</td>\n",
              "      <td>1472880147</td>\n",
              "      <td>train</td>\n",
              "      <td>(not set)</td>\n",
              "      <td>google</td>\n",
              "      <td>organic</td>\n",
              "      <td>(not provided)</td>\n",
              "      <td>NaN</td>\n",
              "      <td>NaN</td>\n",
              "      <td>NaN</td>\n",
              "      <td>1</td>\n",
              "      <td>1</td>\n",
              "      <td>1.0</td>\n",
              "      <td>1.0</td>\n",
              "      <td>1.0</td>\n",
              "      <td>NaN</td>\n",
              "      <td>Oceania</td>\n",
              "      <td>Australasia</td>\n",
              "      <td>Australia</td>\n",
              "      <td>not available in demo dataset</td>\n",
              "      <td>not available in demo dataset</td>\n",
              "      <td>not available in demo dataset</td>\n",
              "      <td>not available in demo dataset</td>\n",
              "      <td>dodo.net.au</td>\n",
              "      <td>not available in demo dataset</td>\n",
              "      <td>not available in demo dataset</td>\n",
              "      <td>not available in demo dataset</td>\n",
              "      <td>Firefox</td>\n",
              "      <td>not available in demo dataset</td>\n",
              "      <td>not available in demo dataset</td>\n",
              "      <td>Macintosh</td>\n",
              "      <td>not available in demo dataset</td>\n",
              "      <td>False</td>\n",
              "      <td>not available in demo dataset</td>\n",
              "      <td>not available in demo dataset</td>\n",
              "      <td>not available in demo dataset</td>\n",
              "      <td>not available in demo dataset</td>\n",
              "      <td>not available in demo dataset</td>\n",
              "      <td>not available in demo dataset</td>\n",
              "      <td>not available in demo dataset</td>\n",
              "      <td>not available in demo dataset</td>\n",
              "      <td>not available in demo dataset</td>\n",
              "      <td>desktop</td>\n",
              "      <td>not available in demo dataset</td>\n",
              "      <td>NaN</td>\n",
              "      <td>NaN</td>\n",
              "      <td>NaN</td>\n",
              "      <td>NaN</td>\n",
              "      <td>NaN</td>\n",
              "    </tr>\n",
              "    <tr>\n",
              "      <th>2</th>\n",
              "      <td>Organic Search</td>\n",
              "      <td>20160902</td>\n",
              "      <td>3895546263509774583</td>\n",
              "      <td>3895546263509774583_1472865386</td>\n",
              "      <td>Not Socially Engaged</td>\n",
              "      <td>1472865386</td>\n",
              "      <td>1</td>\n",
              "      <td>1472865386</td>\n",
              "      <td>train</td>\n",
              "      <td>(not set)</td>\n",
              "      <td>google</td>\n",
              "      <td>organic</td>\n",
              "      <td>(not provided)</td>\n",
              "      <td>NaN</td>\n",
              "      <td>NaN</td>\n",
              "      <td>NaN</td>\n",
              "      <td>1</td>\n",
              "      <td>1</td>\n",
              "      <td>1.0</td>\n",
              "      <td>1.0</td>\n",
              "      <td>1.0</td>\n",
              "      <td>NaN</td>\n",
              "      <td>Europe</td>\n",
              "      <td>Southern Europe</td>\n",
              "      <td>Spain</td>\n",
              "      <td>Community of Madrid</td>\n",
              "      <td>(not set)</td>\n",
              "      <td>Madrid</td>\n",
              "      <td>not available in demo dataset</td>\n",
              "      <td>unknown.unknown</td>\n",
              "      <td>not available in demo dataset</td>\n",
              "      <td>not available in demo dataset</td>\n",
              "      <td>not available in demo dataset</td>\n",
              "      <td>Chrome</td>\n",
              "      <td>not available in demo dataset</td>\n",
              "      <td>not available in demo dataset</td>\n",
              "      <td>Windows</td>\n",
              "      <td>not available in demo dataset</td>\n",
              "      <td>False</td>\n",
              "      <td>not available in demo dataset</td>\n",
              "      <td>not available in demo dataset</td>\n",
              "      <td>not available in demo dataset</td>\n",
              "      <td>not available in demo dataset</td>\n",
              "      <td>not available in demo dataset</td>\n",
              "      <td>not available in demo dataset</td>\n",
              "      <td>not available in demo dataset</td>\n",
              "      <td>not available in demo dataset</td>\n",
              "      <td>not available in demo dataset</td>\n",
              "      <td>desktop</td>\n",
              "      <td>not available in demo dataset</td>\n",
              "      <td>NaN</td>\n",
              "      <td>NaN</td>\n",
              "      <td>NaN</td>\n",
              "      <td>NaN</td>\n",
              "      <td>NaN</td>\n",
              "    </tr>\n",
              "    <tr>\n",
              "      <th>3</th>\n",
              "      <td>Organic Search</td>\n",
              "      <td>20160902</td>\n",
              "      <td>4763447161404445595</td>\n",
              "      <td>4763447161404445595_1472881213</td>\n",
              "      <td>Not Socially Engaged</td>\n",
              "      <td>1472881213</td>\n",
              "      <td>1</td>\n",
              "      <td>1472881213</td>\n",
              "      <td>train</td>\n",
              "      <td>(not set)</td>\n",
              "      <td>google</td>\n",
              "      <td>organic</td>\n",
              "      <td>google + online</td>\n",
              "      <td>NaN</td>\n",
              "      <td>NaN</td>\n",
              "      <td>NaN</td>\n",
              "      <td>1</td>\n",
              "      <td>1</td>\n",
              "      <td>1.0</td>\n",
              "      <td>1.0</td>\n",
              "      <td>1.0</td>\n",
              "      <td>NaN</td>\n",
              "      <td>Asia</td>\n",
              "      <td>Southeast Asia</td>\n",
              "      <td>Indonesia</td>\n",
              "      <td>not available in demo dataset</td>\n",
              "      <td>not available in demo dataset</td>\n",
              "      <td>not available in demo dataset</td>\n",
              "      <td>not available in demo dataset</td>\n",
              "      <td>unknown.unknown</td>\n",
              "      <td>not available in demo dataset</td>\n",
              "      <td>not available in demo dataset</td>\n",
              "      <td>not available in demo dataset</td>\n",
              "      <td>UC Browser</td>\n",
              "      <td>not available in demo dataset</td>\n",
              "      <td>not available in demo dataset</td>\n",
              "      <td>Linux</td>\n",
              "      <td>not available in demo dataset</td>\n",
              "      <td>False</td>\n",
              "      <td>not available in demo dataset</td>\n",
              "      <td>not available in demo dataset</td>\n",
              "      <td>not available in demo dataset</td>\n",
              "      <td>not available in demo dataset</td>\n",
              "      <td>not available in demo dataset</td>\n",
              "      <td>not available in demo dataset</td>\n",
              "      <td>not available in demo dataset</td>\n",
              "      <td>not available in demo dataset</td>\n",
              "      <td>not available in demo dataset</td>\n",
              "      <td>desktop</td>\n",
              "      <td>not available in demo dataset</td>\n",
              "      <td>NaN</td>\n",
              "      <td>NaN</td>\n",
              "      <td>NaN</td>\n",
              "      <td>NaN</td>\n",
              "      <td>NaN</td>\n",
              "    </tr>\n",
              "    <tr>\n",
              "      <th>4</th>\n",
              "      <td>Organic Search</td>\n",
              "      <td>20160902</td>\n",
              "      <td>27294437909732085</td>\n",
              "      <td>27294437909732085_1472822600</td>\n",
              "      <td>Not Socially Engaged</td>\n",
              "      <td>1472822600</td>\n",
              "      <td>2</td>\n",
              "      <td>1472822600</td>\n",
              "      <td>train</td>\n",
              "      <td>(not set)</td>\n",
              "      <td>google</td>\n",
              "      <td>organic</td>\n",
              "      <td>(not provided)</td>\n",
              "      <td>True</td>\n",
              "      <td>NaN</td>\n",
              "      <td>NaN</td>\n",
              "      <td>1</td>\n",
              "      <td>1</td>\n",
              "      <td>1.0</td>\n",
              "      <td>1.0</td>\n",
              "      <td>NaN</td>\n",
              "      <td>NaN</td>\n",
              "      <td>Europe</td>\n",
              "      <td>Northern Europe</td>\n",
              "      <td>United Kingdom</td>\n",
              "      <td>not available in demo dataset</td>\n",
              "      <td>not available in demo dataset</td>\n",
              "      <td>not available in demo dataset</td>\n",
              "      <td>not available in demo dataset</td>\n",
              "      <td>unknown.unknown</td>\n",
              "      <td>not available in demo dataset</td>\n",
              "      <td>not available in demo dataset</td>\n",
              "      <td>not available in demo dataset</td>\n",
              "      <td>Chrome</td>\n",
              "      <td>not available in demo dataset</td>\n",
              "      <td>not available in demo dataset</td>\n",
              "      <td>Android</td>\n",
              "      <td>not available in demo dataset</td>\n",
              "      <td>True</td>\n",
              "      <td>not available in demo dataset</td>\n",
              "      <td>not available in demo dataset</td>\n",
              "      <td>not available in demo dataset</td>\n",
              "      <td>not available in demo dataset</td>\n",
              "      <td>not available in demo dataset</td>\n",
              "      <td>not available in demo dataset</td>\n",
              "      <td>not available in demo dataset</td>\n",
              "      <td>not available in demo dataset</td>\n",
              "      <td>not available in demo dataset</td>\n",
              "      <td>mobile</td>\n",
              "      <td>not available in demo dataset</td>\n",
              "      <td>NaN</td>\n",
              "      <td>NaN</td>\n",
              "      <td>NaN</td>\n",
              "      <td>NaN</td>\n",
              "      <td>NaN</td>\n",
              "    </tr>\n",
              "    <tr>\n",
              "      <th>5</th>\n",
              "      <td>Organic Search</td>\n",
              "      <td>20160902</td>\n",
              "      <td>2938943183656635653</td>\n",
              "      <td>2938943183656635653_1472807194</td>\n",
              "      <td>Not Socially Engaged</td>\n",
              "      <td>1472807194</td>\n",
              "      <td>1</td>\n",
              "      <td>1472807194</td>\n",
              "      <td>train</td>\n",
              "      <td>(not set)</td>\n",
              "      <td>google</td>\n",
              "      <td>organic</td>\n",
              "      <td>(not provided)</td>\n",
              "      <td>NaN</td>\n",
              "      <td>NaN</td>\n",
              "      <td>NaN</td>\n",
              "      <td>1</td>\n",
              "      <td>1</td>\n",
              "      <td>1.0</td>\n",
              "      <td>1.0</td>\n",
              "      <td>1.0</td>\n",
              "      <td>NaN</td>\n",
              "      <td>Europe</td>\n",
              "      <td>Southern Europe</td>\n",
              "      <td>Italy</td>\n",
              "      <td>not available in demo dataset</td>\n",
              "      <td>not available in demo dataset</td>\n",
              "      <td>not available in demo dataset</td>\n",
              "      <td>not available in demo dataset</td>\n",
              "      <td>fastwebnet.it</td>\n",
              "      <td>not available in demo dataset</td>\n",
              "      <td>not available in demo dataset</td>\n",
              "      <td>not available in demo dataset</td>\n",
              "      <td>Chrome</td>\n",
              "      <td>not available in demo dataset</td>\n",
              "      <td>not available in demo dataset</td>\n",
              "      <td>Windows</td>\n",
              "      <td>not available in demo dataset</td>\n",
              "      <td>False</td>\n",
              "      <td>not available in demo dataset</td>\n",
              "      <td>not available in demo dataset</td>\n",
              "      <td>not available in demo dataset</td>\n",
              "      <td>not available in demo dataset</td>\n",
              "      <td>not available in demo dataset</td>\n",
              "      <td>not available in demo dataset</td>\n",
              "      <td>not available in demo dataset</td>\n",
              "      <td>not available in demo dataset</td>\n",
              "      <td>not available in demo dataset</td>\n",
              "      <td>desktop</td>\n",
              "      <td>not available in demo dataset</td>\n",
              "      <td>NaN</td>\n",
              "      <td>NaN</td>\n",
              "      <td>NaN</td>\n",
              "      <td>NaN</td>\n",
              "      <td>NaN</td>\n",
              "    </tr>\n",
              "    <tr>\n",
              "      <th>6</th>\n",
              "      <td>Organic Search</td>\n",
              "      <td>20160902</td>\n",
              "      <td>1905672039242460897</td>\n",
              "      <td>1905672039242460897_1472817241</td>\n",
              "      <td>Not Socially Engaged</td>\n",
              "      <td>1472817241</td>\n",
              "      <td>1</td>\n",
              "      <td>1472817241</td>\n",
              "      <td>train</td>\n",
              "      <td>(not set)</td>\n",
              "      <td>google</td>\n",
              "      <td>organic</td>\n",
              "      <td>(not provided)</td>\n",
              "      <td>NaN</td>\n",
              "      <td>NaN</td>\n",
              "      <td>NaN</td>\n",
              "      <td>1</td>\n",
              "      <td>1</td>\n",
              "      <td>1.0</td>\n",
              "      <td>1.0</td>\n",
              "      <td>1.0</td>\n",
              "      <td>NaN</td>\n",
              "      <td>Asia</td>\n",
              "      <td>Southern Asia</td>\n",
              "      <td>Pakistan</td>\n",
              "      <td>not available in demo dataset</td>\n",
              "      <td>not available in demo dataset</td>\n",
              "      <td>not available in demo dataset</td>\n",
              "      <td>not available in demo dataset</td>\n",
              "      <td>unknown.unknown</td>\n",
              "      <td>not available in demo dataset</td>\n",
              "      <td>not available in demo dataset</td>\n",
              "      <td>not available in demo dataset</td>\n",
              "      <td>Chrome</td>\n",
              "      <td>not available in demo dataset</td>\n",
              "      <td>not available in demo dataset</td>\n",
              "      <td>Windows</td>\n",
              "      <td>not available in demo dataset</td>\n",
              "      <td>False</td>\n",
              "      <td>not available in demo dataset</td>\n",
              "      <td>not available in demo dataset</td>\n",
              "      <td>not available in demo dataset</td>\n",
              "      <td>not available in demo dataset</td>\n",
              "      <td>not available in demo dataset</td>\n",
              "      <td>not available in demo dataset</td>\n",
              "      <td>not available in demo dataset</td>\n",
              "      <td>not available in demo dataset</td>\n",
              "      <td>not available in demo dataset</td>\n",
              "      <td>desktop</td>\n",
              "      <td>not available in demo dataset</td>\n",
              "      <td>NaN</td>\n",
              "      <td>NaN</td>\n",
              "      <td>NaN</td>\n",
              "      <td>NaN</td>\n",
              "      <td>NaN</td>\n",
              "    </tr>\n",
              "    <tr>\n",
              "      <th>7</th>\n",
              "      <td>Organic Search</td>\n",
              "      <td>20160902</td>\n",
              "      <td>537222803633850821</td>\n",
              "      <td>537222803633850821_1472812602</td>\n",
              "      <td>Not Socially Engaged</td>\n",
              "      <td>1472812602</td>\n",
              "      <td>1</td>\n",
              "      <td>1472812602</td>\n",
              "      <td>train</td>\n",
              "      <td>(not set)</td>\n",
              "      <td>google</td>\n",
              "      <td>organic</td>\n",
              "      <td>(not provided)</td>\n",
              "      <td>NaN</td>\n",
              "      <td>NaN</td>\n",
              "      <td>NaN</td>\n",
              "      <td>1</td>\n",
              "      <td>1</td>\n",
              "      <td>1.0</td>\n",
              "      <td>1.0</td>\n",
              "      <td>1.0</td>\n",
              "      <td>NaN</td>\n",
              "      <td>Oceania</td>\n",
              "      <td>Australasia</td>\n",
              "      <td>Australia</td>\n",
              "      <td>Queensland</td>\n",
              "      <td>(not set)</td>\n",
              "      <td>Brisbane</td>\n",
              "      <td>not available in demo dataset</td>\n",
              "      <td>bigpond.net.au</td>\n",
              "      <td>not available in demo dataset</td>\n",
              "      <td>not available in demo dataset</td>\n",
              "      <td>not available in demo dataset</td>\n",
              "      <td>Chrome</td>\n",
              "      <td>not available in demo dataset</td>\n",
              "      <td>not available in demo dataset</td>\n",
              "      <td>Windows</td>\n",
              "      <td>not available in demo dataset</td>\n",
              "      <td>False</td>\n",
              "      <td>not available in demo dataset</td>\n",
              "      <td>not available in demo dataset</td>\n",
              "      <td>not available in demo dataset</td>\n",
              "      <td>not available in demo dataset</td>\n",
              "      <td>not available in demo dataset</td>\n",
              "      <td>not available in demo dataset</td>\n",
              "      <td>not available in demo dataset</td>\n",
              "      <td>not available in demo dataset</td>\n",
              "      <td>not available in demo dataset</td>\n",
              "      <td>desktop</td>\n",
              "      <td>not available in demo dataset</td>\n",
              "      <td>NaN</td>\n",
              "      <td>NaN</td>\n",
              "      <td>NaN</td>\n",
              "      <td>NaN</td>\n",
              "      <td>NaN</td>\n",
              "    </tr>\n",
              "    <tr>\n",
              "      <th>8</th>\n",
              "      <td>Organic Search</td>\n",
              "      <td>20160902</td>\n",
              "      <td>4445454811831400414</td>\n",
              "      <td>4445454811831400414_1472805784</td>\n",
              "      <td>Not Socially Engaged</td>\n",
              "      <td>1472805784</td>\n",
              "      <td>1</td>\n",
              "      <td>1472805784</td>\n",
              "      <td>train</td>\n",
              "      <td>(not set)</td>\n",
              "      <td>google</td>\n",
              "      <td>organic</td>\n",
              "      <td>(not provided)</td>\n",
              "      <td>NaN</td>\n",
              "      <td>NaN</td>\n",
              "      <td>NaN</td>\n",
              "      <td>1</td>\n",
              "      <td>1</td>\n",
              "      <td>1.0</td>\n",
              "      <td>1.0</td>\n",
              "      <td>1.0</td>\n",
              "      <td>NaN</td>\n",
              "      <td>Europe</td>\n",
              "      <td>Western Europe</td>\n",
              "      <td>Austria</td>\n",
              "      <td>not available in demo dataset</td>\n",
              "      <td>not available in demo dataset</td>\n",
              "      <td>not available in demo dataset</td>\n",
              "      <td>not available in demo dataset</td>\n",
              "      <td>spar.at</td>\n",
              "      <td>not available in demo dataset</td>\n",
              "      <td>not available in demo dataset</td>\n",
              "      <td>not available in demo dataset</td>\n",
              "      <td>Internet Explorer</td>\n",
              "      <td>not available in demo dataset</td>\n",
              "      <td>not available in demo dataset</td>\n",
              "      <td>Windows</td>\n",
              "      <td>not available in demo dataset</td>\n",
              "      <td>False</td>\n",
              "      <td>not available in demo dataset</td>\n",
              "      <td>not available in demo dataset</td>\n",
              "      <td>not available in demo dataset</td>\n",
              "      <td>not available in demo dataset</td>\n",
              "      <td>not available in demo dataset</td>\n",
              "      <td>not available in demo dataset</td>\n",
              "      <td>not available in demo dataset</td>\n",
              "      <td>not available in demo dataset</td>\n",
              "      <td>not available in demo dataset</td>\n",
              "      <td>desktop</td>\n",
              "      <td>not available in demo dataset</td>\n",
              "      <td>NaN</td>\n",
              "      <td>NaN</td>\n",
              "      <td>NaN</td>\n",
              "      <td>NaN</td>\n",
              "      <td>NaN</td>\n",
              "    </tr>\n",
              "    <tr>\n",
              "      <th>9</th>\n",
              "      <td>Organic Search</td>\n",
              "      <td>20160902</td>\n",
              "      <td>9499785259412240342</td>\n",
              "      <td>9499785259412240342_1472812272</td>\n",
              "      <td>Not Socially Engaged</td>\n",
              "      <td>1472812272</td>\n",
              "      <td>1</td>\n",
              "      <td>1472812272</td>\n",
              "      <td>train</td>\n",
              "      <td>(not set)</td>\n",
              "      <td>google</td>\n",
              "      <td>organic</td>\n",
              "      <td>(not provided)</td>\n",
              "      <td>NaN</td>\n",
              "      <td>NaN</td>\n",
              "      <td>NaN</td>\n",
              "      <td>1</td>\n",
              "      <td>1</td>\n",
              "      <td>1.0</td>\n",
              "      <td>1.0</td>\n",
              "      <td>1.0</td>\n",
              "      <td>NaN</td>\n",
              "      <td>Europe</td>\n",
              "      <td>Western Europe</td>\n",
              "      <td>Netherlands</td>\n",
              "      <td>not available in demo dataset</td>\n",
              "      <td>not available in demo dataset</td>\n",
              "      <td>not available in demo dataset</td>\n",
              "      <td>not available in demo dataset</td>\n",
              "      <td>chello.nl</td>\n",
              "      <td>not available in demo dataset</td>\n",
              "      <td>not available in demo dataset</td>\n",
              "      <td>not available in demo dataset</td>\n",
              "      <td>Firefox</td>\n",
              "      <td>not available in demo dataset</td>\n",
              "      <td>not available in demo dataset</td>\n",
              "      <td>Windows</td>\n",
              "      <td>not available in demo dataset</td>\n",
              "      <td>False</td>\n",
              "      <td>not available in demo dataset</td>\n",
              "      <td>not available in demo dataset</td>\n",
              "      <td>not available in demo dataset</td>\n",
              "      <td>not available in demo dataset</td>\n",
              "      <td>not available in demo dataset</td>\n",
              "      <td>not available in demo dataset</td>\n",
              "      <td>not available in demo dataset</td>\n",
              "      <td>not available in demo dataset</td>\n",
              "      <td>not available in demo dataset</td>\n",
              "      <td>desktop</td>\n",
              "      <td>not available in demo dataset</td>\n",
              "      <td>NaN</td>\n",
              "      <td>NaN</td>\n",
              "      <td>NaN</td>\n",
              "      <td>NaN</td>\n",
              "      <td>NaN</td>\n",
              "    </tr>\n",
              "  </tbody>\n",
              "</table>\n",
              "</div>\n",
              "      <button class=\"colab-df-convert\" onclick=\"convertToInteractive('df-d792a0d7-7973-48e5-a01b-c361828ce62c')\"\n",
              "              title=\"Convert this dataframe to an interactive table.\"\n",
              "              style=\"display:none;\">\n",
              "        \n",
              "  <svg xmlns=\"http://www.w3.org/2000/svg\" height=\"24px\"viewBox=\"0 0 24 24\"\n",
              "       width=\"24px\">\n",
              "    <path d=\"M0 0h24v24H0V0z\" fill=\"none\"/>\n",
              "    <path d=\"M18.56 5.44l.94 2.06.94-2.06 2.06-.94-2.06-.94-.94-2.06-.94 2.06-2.06.94zm-11 1L8.5 8.5l.94-2.06 2.06-.94-2.06-.94L8.5 2.5l-.94 2.06-2.06.94zm10 10l.94 2.06.94-2.06 2.06-.94-2.06-.94-.94-2.06-.94 2.06-2.06.94z\"/><path d=\"M17.41 7.96l-1.37-1.37c-.4-.4-.92-.59-1.43-.59-.52 0-1.04.2-1.43.59L10.3 9.45l-7.72 7.72c-.78.78-.78 2.05 0 2.83L4 21.41c.39.39.9.59 1.41.59.51 0 1.02-.2 1.41-.59l7.78-7.78 2.81-2.81c.8-.78.8-2.07 0-2.86zM5.41 20L4 18.59l7.72-7.72 1.47 1.35L5.41 20z\"/>\n",
              "  </svg>\n",
              "      </button>\n",
              "      \n",
              "  <style>\n",
              "    .colab-df-container {\n",
              "      display:flex;\n",
              "      flex-wrap:wrap;\n",
              "      gap: 12px;\n",
              "    }\n",
              "\n",
              "    .colab-df-convert {\n",
              "      background-color: #E8F0FE;\n",
              "      border: none;\n",
              "      border-radius: 50%;\n",
              "      cursor: pointer;\n",
              "      display: none;\n",
              "      fill: #1967D2;\n",
              "      height: 32px;\n",
              "      padding: 0 0 0 0;\n",
              "      width: 32px;\n",
              "    }\n",
              "\n",
              "    .colab-df-convert:hover {\n",
              "      background-color: #E2EBFA;\n",
              "      box-shadow: 0px 1px 2px rgba(60, 64, 67, 0.3), 0px 1px 3px 1px rgba(60, 64, 67, 0.15);\n",
              "      fill: #174EA6;\n",
              "    }\n",
              "\n",
              "    [theme=dark] .colab-df-convert {\n",
              "      background-color: #3B4455;\n",
              "      fill: #D2E3FC;\n",
              "    }\n",
              "\n",
              "    [theme=dark] .colab-df-convert:hover {\n",
              "      background-color: #434B5C;\n",
              "      box-shadow: 0px 1px 3px 1px rgba(0, 0, 0, 0.15);\n",
              "      filter: drop-shadow(0px 1px 2px rgba(0, 0, 0, 0.3));\n",
              "      fill: #FFFFFF;\n",
              "    }\n",
              "  </style>\n",
              "\n",
              "      <script>\n",
              "        const buttonEl =\n",
              "          document.querySelector('#df-d792a0d7-7973-48e5-a01b-c361828ce62c button.colab-df-convert');\n",
              "        buttonEl.style.display =\n",
              "          google.colab.kernel.accessAllowed ? 'block' : 'none';\n",
              "\n",
              "        async function convertToInteractive(key) {\n",
              "          const element = document.querySelector('#df-d792a0d7-7973-48e5-a01b-c361828ce62c');\n",
              "          const dataTable =\n",
              "            await google.colab.kernel.invokeFunction('convertToInteractive',\n",
              "                                                     [key], {});\n",
              "          if (!dataTable) return;\n",
              "\n",
              "          const docLinkHtml = 'Like what you see? Visit the ' +\n",
              "            '<a target=\"_blank\" href=https://colab.research.google.com/notebooks/data_table.ipynb>data table notebook</a>'\n",
              "            + ' to learn more about interactive tables.';\n",
              "          element.innerHTML = '';\n",
              "          dataTable['output_type'] = 'display_data';\n",
              "          await google.colab.output.renderOutput(dataTable, element);\n",
              "          const docLink = document.createElement('div');\n",
              "          docLink.innerHTML = docLinkHtml;\n",
              "          element.appendChild(docLink);\n",
              "        }\n",
              "      </script>\n",
              "    </div>\n",
              "  </div>\n",
              "  "
            ],
            "text/plain": [
              "  channelGrouping      date        fullVisitorId  ... gclId adNetworkType  isVideoAd\n",
              "0  Organic Search  20160902  1131660440785968503  ...   NaN           NaN        NaN\n",
              "1  Organic Search  20160902   377306020877927890  ...   NaN           NaN        NaN\n",
              "2  Organic Search  20160902  3895546263509774583  ...   NaN           NaN        NaN\n",
              "3  Organic Search  20160902  4763447161404445595  ...   NaN           NaN        NaN\n",
              "4  Organic Search  20160902    27294437909732085  ...   NaN           NaN        NaN\n",
              "5  Organic Search  20160902  2938943183656635653  ...   NaN           NaN        NaN\n",
              "6  Organic Search  20160902  1905672039242460897  ...   NaN           NaN        NaN\n",
              "7  Organic Search  20160902   537222803633850821  ...   NaN           NaN        NaN\n",
              "8  Organic Search  20160902  4445454811831400414  ...   NaN           NaN        NaN\n",
              "9  Organic Search  20160902  9499785259412240342  ...   NaN           NaN        NaN\n",
              "\n",
              "[10 rows x 55 columns]"
            ]
          },
          "metadata": {},
          "execution_count": 3
        }
      ],
      "source": [
        "data.head(10)"
      ]
    },
    {
      "cell_type": "code",
      "execution_count": null,
      "metadata": {
        "id": "diwEtZoYFttW",
        "colab": {
          "base_uri": "https://localhost:8080/"
        },
        "outputId": "6a685675-38d9-4682-ad0b-691663774ea9"
      },
      "outputs": [
        {
          "output_type": "execute_result",
          "data": {
            "text/plain": [
              "Index(['channelGrouping', 'date', 'fullVisitorId', 'sessionId',\n",
              "       'socialEngagementType', 'visitId', 'visitNumber', 'visitStartTime',\n",
              "       'datasplit', 'campaign', 'source', 'medium', 'keyword', 'isTrueDirect',\n",
              "       'referralPath', 'adContent', 'visits', 'hits', 'pageviews', 'bounces',\n",
              "       'newVisits', 'transactionRevenue', 'continent', 'subContinent',\n",
              "       'country', 'region', 'metro', 'city', 'cityId', 'networkDomain',\n",
              "       'latitude', 'longitude', 'networkLocation', 'browser', 'browserVersion',\n",
              "       'browserSize', 'operatingSystem', 'operatingSystemVersion', 'isMobile',\n",
              "       'mobileDeviceBranding', 'mobileDeviceModel', 'mobileInputSelector',\n",
              "       'mobileDeviceInfo', 'mobileDeviceMarketingName', 'flashVersion',\n",
              "       'language', 'screenColors', 'screenResolution', 'deviceCategory',\n",
              "       'criteriaParameters', 'page', 'slot', 'gclId', 'adNetworkType',\n",
              "       'isVideoAd'],\n",
              "      dtype='object')"
            ]
          },
          "metadata": {},
          "execution_count": 4
        }
      ],
      "source": [
        "data.columns"
      ]
    },
    {
      "cell_type": "markdown",
      "metadata": {
        "id": "zHKCgyyXFxRK"
      },
      "source": [
        "# Data processing"
      ]
    },
    {
      "cell_type": "markdown",
      "metadata": {
        "id": "lSz8vo4tGVJB"
      },
      "source": [
        "Check if there are columns with only one value"
      ]
    },
    {
      "cell_type": "code",
      "execution_count": null,
      "metadata": {
        "id": "Uv95U3_QFzVY",
        "colab": {
          "base_uri": "https://localhost:8080/"
        },
        "outputId": "65b07d25-2b12-4fc1-fffb-23efb8064959"
      },
      "outputs": [
        {
          "output_type": "stream",
          "name": "stdout",
          "text": [
            "Columns with just one value:  24 columns\n",
            "Name of constant columns: \n",
            " ['socialEngagementType', 'datasplit', 'isTrueDirect', 'visits', 'bounces', 'newVisits', 'cityId', 'latitude', 'longitude', 'networkLocation', 'browserVersion', 'browserSize', 'operatingSystemVersion', 'mobileDeviceBranding', 'mobileDeviceModel', 'mobileInputSelector', 'mobileDeviceInfo', 'mobileDeviceMarketingName', 'flashVersion', 'language', 'screenColors', 'screenResolution', 'criteriaParameters', 'isVideoAd']\n"
          ]
        }
      ],
      "source": [
        "discovering_consts = [col for col in data.columns if data[col].nunique() == 1]\n",
        "# printing the total of columns dropped and the name of columns \n",
        "print(\"Columns with just one value: \", len(discovering_consts), \"columns\")\n",
        "print(\"Name of constant columns: \\n\", discovering_consts)"
      ]
    },
    {
      "cell_type": "markdown",
      "metadata": {
        "id": "RxIvDTP8HKIm"
      },
      "source": [
        "So we decided to drop these feature from our data."
      ]
    },
    {
      "cell_type": "code",
      "execution_count": null,
      "metadata": {
        "id": "pSZhaw2WHJIs"
      },
      "outputs": [],
      "source": [
        "\n",
        "delete=['socialEngagementType', 'datasplit', 'isTrueDirect', 'visits', 'bounces', 'newVisits', 'cityId', 'latitude', 'longitude', 'networkLocation', 'browserVersion', 'browserSize', 'operatingSystemVersion', 'mobileDeviceBranding', 'mobileDeviceModel', 'mobileInputSelector', 'mobileDeviceInfo', 'mobileDeviceMarketingName', 'flashVersion', 'language', 'screenColors', 'screenResolution', 'criteriaParameters', 'adNetworkType', 'isVideoAd']\n"
      ]
    },
    {
      "cell_type": "code",
      "execution_count": null,
      "metadata": {
        "id": "zM12OTfOIU16"
      },
      "outputs": [],
      "source": [
        "data=data.drop(delete,axis=1)"
      ]
    },
    {
      "cell_type": "code",
      "execution_count": null,
      "metadata": {
        "id": "yV1D0Ny7IYAZ",
        "colab": {
          "base_uri": "https://localhost:8080/",
          "height": 831
        },
        "outputId": "b51db594-7e95-440b-933f-74b3f7533bdb"
      },
      "outputs": [
        {
          "output_type": "execute_result",
          "data": {
            "text/html": [
              "\n",
              "  <div id=\"df-1ac8b80e-7a97-415a-a345-58f9b4ee8c73\">\n",
              "    <div class=\"colab-df-container\">\n",
              "      <div>\n",
              "<style scoped>\n",
              "    .dataframe tbody tr th:only-of-type {\n",
              "        vertical-align: middle;\n",
              "    }\n",
              "\n",
              "    .dataframe tbody tr th {\n",
              "        vertical-align: top;\n",
              "    }\n",
              "\n",
              "    .dataframe thead th {\n",
              "        text-align: right;\n",
              "    }\n",
              "</style>\n",
              "<table border=\"1\" class=\"dataframe\">\n",
              "  <thead>\n",
              "    <tr style=\"text-align: right;\">\n",
              "      <th></th>\n",
              "      <th>channelGrouping</th>\n",
              "      <th>date</th>\n",
              "      <th>fullVisitorId</th>\n",
              "      <th>sessionId</th>\n",
              "      <th>visitId</th>\n",
              "      <th>visitNumber</th>\n",
              "      <th>visitStartTime</th>\n",
              "      <th>campaign</th>\n",
              "      <th>source</th>\n",
              "      <th>medium</th>\n",
              "      <th>keyword</th>\n",
              "      <th>referralPath</th>\n",
              "      <th>adContent</th>\n",
              "      <th>hits</th>\n",
              "      <th>pageviews</th>\n",
              "      <th>transactionRevenue</th>\n",
              "      <th>continent</th>\n",
              "      <th>subContinent</th>\n",
              "      <th>country</th>\n",
              "      <th>region</th>\n",
              "      <th>metro</th>\n",
              "      <th>city</th>\n",
              "      <th>networkDomain</th>\n",
              "      <th>browser</th>\n",
              "      <th>operatingSystem</th>\n",
              "      <th>isMobile</th>\n",
              "      <th>deviceCategory</th>\n",
              "      <th>page</th>\n",
              "      <th>slot</th>\n",
              "      <th>gclId</th>\n",
              "    </tr>\n",
              "  </thead>\n",
              "  <tbody>\n",
              "    <tr>\n",
              "      <th>0</th>\n",
              "      <td>Organic Search</td>\n",
              "      <td>20160902</td>\n",
              "      <td>1131660440785968503</td>\n",
              "      <td>1131660440785968503_1472830385</td>\n",
              "      <td>1472830385</td>\n",
              "      <td>1</td>\n",
              "      <td>1472830385</td>\n",
              "      <td>(not set)</td>\n",
              "      <td>google</td>\n",
              "      <td>organic</td>\n",
              "      <td>(not provided)</td>\n",
              "      <td>NaN</td>\n",
              "      <td>NaN</td>\n",
              "      <td>1</td>\n",
              "      <td>1.0</td>\n",
              "      <td>NaN</td>\n",
              "      <td>Asia</td>\n",
              "      <td>Western Asia</td>\n",
              "      <td>Turkey</td>\n",
              "      <td>Izmir</td>\n",
              "      <td>(not set)</td>\n",
              "      <td>Izmir</td>\n",
              "      <td>ttnet.com.tr</td>\n",
              "      <td>Chrome</td>\n",
              "      <td>Windows</td>\n",
              "      <td>False</td>\n",
              "      <td>desktop</td>\n",
              "      <td>NaN</td>\n",
              "      <td>NaN</td>\n",
              "      <td>NaN</td>\n",
              "    </tr>\n",
              "    <tr>\n",
              "      <th>1</th>\n",
              "      <td>Organic Search</td>\n",
              "      <td>20160902</td>\n",
              "      <td>377306020877927890</td>\n",
              "      <td>377306020877927890_1472880147</td>\n",
              "      <td>1472880147</td>\n",
              "      <td>1</td>\n",
              "      <td>1472880147</td>\n",
              "      <td>(not set)</td>\n",
              "      <td>google</td>\n",
              "      <td>organic</td>\n",
              "      <td>(not provided)</td>\n",
              "      <td>NaN</td>\n",
              "      <td>NaN</td>\n",
              "      <td>1</td>\n",
              "      <td>1.0</td>\n",
              "      <td>NaN</td>\n",
              "      <td>Oceania</td>\n",
              "      <td>Australasia</td>\n",
              "      <td>Australia</td>\n",
              "      <td>not available in demo dataset</td>\n",
              "      <td>not available in demo dataset</td>\n",
              "      <td>not available in demo dataset</td>\n",
              "      <td>dodo.net.au</td>\n",
              "      <td>Firefox</td>\n",
              "      <td>Macintosh</td>\n",
              "      <td>False</td>\n",
              "      <td>desktop</td>\n",
              "      <td>NaN</td>\n",
              "      <td>NaN</td>\n",
              "      <td>NaN</td>\n",
              "    </tr>\n",
              "    <tr>\n",
              "      <th>2</th>\n",
              "      <td>Organic Search</td>\n",
              "      <td>20160902</td>\n",
              "      <td>3895546263509774583</td>\n",
              "      <td>3895546263509774583_1472865386</td>\n",
              "      <td>1472865386</td>\n",
              "      <td>1</td>\n",
              "      <td>1472865386</td>\n",
              "      <td>(not set)</td>\n",
              "      <td>google</td>\n",
              "      <td>organic</td>\n",
              "      <td>(not provided)</td>\n",
              "      <td>NaN</td>\n",
              "      <td>NaN</td>\n",
              "      <td>1</td>\n",
              "      <td>1.0</td>\n",
              "      <td>NaN</td>\n",
              "      <td>Europe</td>\n",
              "      <td>Southern Europe</td>\n",
              "      <td>Spain</td>\n",
              "      <td>Community of Madrid</td>\n",
              "      <td>(not set)</td>\n",
              "      <td>Madrid</td>\n",
              "      <td>unknown.unknown</td>\n",
              "      <td>Chrome</td>\n",
              "      <td>Windows</td>\n",
              "      <td>False</td>\n",
              "      <td>desktop</td>\n",
              "      <td>NaN</td>\n",
              "      <td>NaN</td>\n",
              "      <td>NaN</td>\n",
              "    </tr>\n",
              "    <tr>\n",
              "      <th>3</th>\n",
              "      <td>Organic Search</td>\n",
              "      <td>20160902</td>\n",
              "      <td>4763447161404445595</td>\n",
              "      <td>4763447161404445595_1472881213</td>\n",
              "      <td>1472881213</td>\n",
              "      <td>1</td>\n",
              "      <td>1472881213</td>\n",
              "      <td>(not set)</td>\n",
              "      <td>google</td>\n",
              "      <td>organic</td>\n",
              "      <td>google + online</td>\n",
              "      <td>NaN</td>\n",
              "      <td>NaN</td>\n",
              "      <td>1</td>\n",
              "      <td>1.0</td>\n",
              "      <td>NaN</td>\n",
              "      <td>Asia</td>\n",
              "      <td>Southeast Asia</td>\n",
              "      <td>Indonesia</td>\n",
              "      <td>not available in demo dataset</td>\n",
              "      <td>not available in demo dataset</td>\n",
              "      <td>not available in demo dataset</td>\n",
              "      <td>unknown.unknown</td>\n",
              "      <td>UC Browser</td>\n",
              "      <td>Linux</td>\n",
              "      <td>False</td>\n",
              "      <td>desktop</td>\n",
              "      <td>NaN</td>\n",
              "      <td>NaN</td>\n",
              "      <td>NaN</td>\n",
              "    </tr>\n",
              "    <tr>\n",
              "      <th>4</th>\n",
              "      <td>Organic Search</td>\n",
              "      <td>20160902</td>\n",
              "      <td>27294437909732085</td>\n",
              "      <td>27294437909732085_1472822600</td>\n",
              "      <td>1472822600</td>\n",
              "      <td>2</td>\n",
              "      <td>1472822600</td>\n",
              "      <td>(not set)</td>\n",
              "      <td>google</td>\n",
              "      <td>organic</td>\n",
              "      <td>(not provided)</td>\n",
              "      <td>NaN</td>\n",
              "      <td>NaN</td>\n",
              "      <td>1</td>\n",
              "      <td>1.0</td>\n",
              "      <td>NaN</td>\n",
              "      <td>Europe</td>\n",
              "      <td>Northern Europe</td>\n",
              "      <td>United Kingdom</td>\n",
              "      <td>not available in demo dataset</td>\n",
              "      <td>not available in demo dataset</td>\n",
              "      <td>not available in demo dataset</td>\n",
              "      <td>unknown.unknown</td>\n",
              "      <td>Chrome</td>\n",
              "      <td>Android</td>\n",
              "      <td>True</td>\n",
              "      <td>mobile</td>\n",
              "      <td>NaN</td>\n",
              "      <td>NaN</td>\n",
              "      <td>NaN</td>\n",
              "    </tr>\n",
              "    <tr>\n",
              "      <th>5</th>\n",
              "      <td>Organic Search</td>\n",
              "      <td>20160902</td>\n",
              "      <td>2938943183656635653</td>\n",
              "      <td>2938943183656635653_1472807194</td>\n",
              "      <td>1472807194</td>\n",
              "      <td>1</td>\n",
              "      <td>1472807194</td>\n",
              "      <td>(not set)</td>\n",
              "      <td>google</td>\n",
              "      <td>organic</td>\n",
              "      <td>(not provided)</td>\n",
              "      <td>NaN</td>\n",
              "      <td>NaN</td>\n",
              "      <td>1</td>\n",
              "      <td>1.0</td>\n",
              "      <td>NaN</td>\n",
              "      <td>Europe</td>\n",
              "      <td>Southern Europe</td>\n",
              "      <td>Italy</td>\n",
              "      <td>not available in demo dataset</td>\n",
              "      <td>not available in demo dataset</td>\n",
              "      <td>not available in demo dataset</td>\n",
              "      <td>fastwebnet.it</td>\n",
              "      <td>Chrome</td>\n",
              "      <td>Windows</td>\n",
              "      <td>False</td>\n",
              "      <td>desktop</td>\n",
              "      <td>NaN</td>\n",
              "      <td>NaN</td>\n",
              "      <td>NaN</td>\n",
              "    </tr>\n",
              "    <tr>\n",
              "      <th>6</th>\n",
              "      <td>Organic Search</td>\n",
              "      <td>20160902</td>\n",
              "      <td>1905672039242460897</td>\n",
              "      <td>1905672039242460897_1472817241</td>\n",
              "      <td>1472817241</td>\n",
              "      <td>1</td>\n",
              "      <td>1472817241</td>\n",
              "      <td>(not set)</td>\n",
              "      <td>google</td>\n",
              "      <td>organic</td>\n",
              "      <td>(not provided)</td>\n",
              "      <td>NaN</td>\n",
              "      <td>NaN</td>\n",
              "      <td>1</td>\n",
              "      <td>1.0</td>\n",
              "      <td>NaN</td>\n",
              "      <td>Asia</td>\n",
              "      <td>Southern Asia</td>\n",
              "      <td>Pakistan</td>\n",
              "      <td>not available in demo dataset</td>\n",
              "      <td>not available in demo dataset</td>\n",
              "      <td>not available in demo dataset</td>\n",
              "      <td>unknown.unknown</td>\n",
              "      <td>Chrome</td>\n",
              "      <td>Windows</td>\n",
              "      <td>False</td>\n",
              "      <td>desktop</td>\n",
              "      <td>NaN</td>\n",
              "      <td>NaN</td>\n",
              "      <td>NaN</td>\n",
              "    </tr>\n",
              "    <tr>\n",
              "      <th>7</th>\n",
              "      <td>Organic Search</td>\n",
              "      <td>20160902</td>\n",
              "      <td>537222803633850821</td>\n",
              "      <td>537222803633850821_1472812602</td>\n",
              "      <td>1472812602</td>\n",
              "      <td>1</td>\n",
              "      <td>1472812602</td>\n",
              "      <td>(not set)</td>\n",
              "      <td>google</td>\n",
              "      <td>organic</td>\n",
              "      <td>(not provided)</td>\n",
              "      <td>NaN</td>\n",
              "      <td>NaN</td>\n",
              "      <td>1</td>\n",
              "      <td>1.0</td>\n",
              "      <td>NaN</td>\n",
              "      <td>Oceania</td>\n",
              "      <td>Australasia</td>\n",
              "      <td>Australia</td>\n",
              "      <td>Queensland</td>\n",
              "      <td>(not set)</td>\n",
              "      <td>Brisbane</td>\n",
              "      <td>bigpond.net.au</td>\n",
              "      <td>Chrome</td>\n",
              "      <td>Windows</td>\n",
              "      <td>False</td>\n",
              "      <td>desktop</td>\n",
              "      <td>NaN</td>\n",
              "      <td>NaN</td>\n",
              "      <td>NaN</td>\n",
              "    </tr>\n",
              "    <tr>\n",
              "      <th>8</th>\n",
              "      <td>Organic Search</td>\n",
              "      <td>20160902</td>\n",
              "      <td>4445454811831400414</td>\n",
              "      <td>4445454811831400414_1472805784</td>\n",
              "      <td>1472805784</td>\n",
              "      <td>1</td>\n",
              "      <td>1472805784</td>\n",
              "      <td>(not set)</td>\n",
              "      <td>google</td>\n",
              "      <td>organic</td>\n",
              "      <td>(not provided)</td>\n",
              "      <td>NaN</td>\n",
              "      <td>NaN</td>\n",
              "      <td>1</td>\n",
              "      <td>1.0</td>\n",
              "      <td>NaN</td>\n",
              "      <td>Europe</td>\n",
              "      <td>Western Europe</td>\n",
              "      <td>Austria</td>\n",
              "      <td>not available in demo dataset</td>\n",
              "      <td>not available in demo dataset</td>\n",
              "      <td>not available in demo dataset</td>\n",
              "      <td>spar.at</td>\n",
              "      <td>Internet Explorer</td>\n",
              "      <td>Windows</td>\n",
              "      <td>False</td>\n",
              "      <td>desktop</td>\n",
              "      <td>NaN</td>\n",
              "      <td>NaN</td>\n",
              "      <td>NaN</td>\n",
              "    </tr>\n",
              "    <tr>\n",
              "      <th>9</th>\n",
              "      <td>Organic Search</td>\n",
              "      <td>20160902</td>\n",
              "      <td>9499785259412240342</td>\n",
              "      <td>9499785259412240342_1472812272</td>\n",
              "      <td>1472812272</td>\n",
              "      <td>1</td>\n",
              "      <td>1472812272</td>\n",
              "      <td>(not set)</td>\n",
              "      <td>google</td>\n",
              "      <td>organic</td>\n",
              "      <td>(not provided)</td>\n",
              "      <td>NaN</td>\n",
              "      <td>NaN</td>\n",
              "      <td>1</td>\n",
              "      <td>1.0</td>\n",
              "      <td>NaN</td>\n",
              "      <td>Europe</td>\n",
              "      <td>Western Europe</td>\n",
              "      <td>Netherlands</td>\n",
              "      <td>not available in demo dataset</td>\n",
              "      <td>not available in demo dataset</td>\n",
              "      <td>not available in demo dataset</td>\n",
              "      <td>chello.nl</td>\n",
              "      <td>Firefox</td>\n",
              "      <td>Windows</td>\n",
              "      <td>False</td>\n",
              "      <td>desktop</td>\n",
              "      <td>NaN</td>\n",
              "      <td>NaN</td>\n",
              "      <td>NaN</td>\n",
              "    </tr>\n",
              "  </tbody>\n",
              "</table>\n",
              "</div>\n",
              "      <button class=\"colab-df-convert\" onclick=\"convertToInteractive('df-1ac8b80e-7a97-415a-a345-58f9b4ee8c73')\"\n",
              "              title=\"Convert this dataframe to an interactive table.\"\n",
              "              style=\"display:none;\">\n",
              "        \n",
              "  <svg xmlns=\"http://www.w3.org/2000/svg\" height=\"24px\"viewBox=\"0 0 24 24\"\n",
              "       width=\"24px\">\n",
              "    <path d=\"M0 0h24v24H0V0z\" fill=\"none\"/>\n",
              "    <path d=\"M18.56 5.44l.94 2.06.94-2.06 2.06-.94-2.06-.94-.94-2.06-.94 2.06-2.06.94zm-11 1L8.5 8.5l.94-2.06 2.06-.94-2.06-.94L8.5 2.5l-.94 2.06-2.06.94zm10 10l.94 2.06.94-2.06 2.06-.94-2.06-.94-.94-2.06-.94 2.06-2.06.94z\"/><path d=\"M17.41 7.96l-1.37-1.37c-.4-.4-.92-.59-1.43-.59-.52 0-1.04.2-1.43.59L10.3 9.45l-7.72 7.72c-.78.78-.78 2.05 0 2.83L4 21.41c.39.39.9.59 1.41.59.51 0 1.02-.2 1.41-.59l7.78-7.78 2.81-2.81c.8-.78.8-2.07 0-2.86zM5.41 20L4 18.59l7.72-7.72 1.47 1.35L5.41 20z\"/>\n",
              "  </svg>\n",
              "      </button>\n",
              "      \n",
              "  <style>\n",
              "    .colab-df-container {\n",
              "      display:flex;\n",
              "      flex-wrap:wrap;\n",
              "      gap: 12px;\n",
              "    }\n",
              "\n",
              "    .colab-df-convert {\n",
              "      background-color: #E8F0FE;\n",
              "      border: none;\n",
              "      border-radius: 50%;\n",
              "      cursor: pointer;\n",
              "      display: none;\n",
              "      fill: #1967D2;\n",
              "      height: 32px;\n",
              "      padding: 0 0 0 0;\n",
              "      width: 32px;\n",
              "    }\n",
              "\n",
              "    .colab-df-convert:hover {\n",
              "      background-color: #E2EBFA;\n",
              "      box-shadow: 0px 1px 2px rgba(60, 64, 67, 0.3), 0px 1px 3px 1px rgba(60, 64, 67, 0.15);\n",
              "      fill: #174EA6;\n",
              "    }\n",
              "\n",
              "    [theme=dark] .colab-df-convert {\n",
              "      background-color: #3B4455;\n",
              "      fill: #D2E3FC;\n",
              "    }\n",
              "\n",
              "    [theme=dark] .colab-df-convert:hover {\n",
              "      background-color: #434B5C;\n",
              "      box-shadow: 0px 1px 3px 1px rgba(0, 0, 0, 0.15);\n",
              "      filter: drop-shadow(0px 1px 2px rgba(0, 0, 0, 0.3));\n",
              "      fill: #FFFFFF;\n",
              "    }\n",
              "  </style>\n",
              "\n",
              "      <script>\n",
              "        const buttonEl =\n",
              "          document.querySelector('#df-1ac8b80e-7a97-415a-a345-58f9b4ee8c73 button.colab-df-convert');\n",
              "        buttonEl.style.display =\n",
              "          google.colab.kernel.accessAllowed ? 'block' : 'none';\n",
              "\n",
              "        async function convertToInteractive(key) {\n",
              "          const element = document.querySelector('#df-1ac8b80e-7a97-415a-a345-58f9b4ee8c73');\n",
              "          const dataTable =\n",
              "            await google.colab.kernel.invokeFunction('convertToInteractive',\n",
              "                                                     [key], {});\n",
              "          if (!dataTable) return;\n",
              "\n",
              "          const docLinkHtml = 'Like what you see? Visit the ' +\n",
              "            '<a target=\"_blank\" href=https://colab.research.google.com/notebooks/data_table.ipynb>data table notebook</a>'\n",
              "            + ' to learn more about interactive tables.';\n",
              "          element.innerHTML = '';\n",
              "          dataTable['output_type'] = 'display_data';\n",
              "          await google.colab.output.renderOutput(dataTable, element);\n",
              "          const docLink = document.createElement('div');\n",
              "          docLink.innerHTML = docLinkHtml;\n",
              "          element.appendChild(docLink);\n",
              "        }\n",
              "      </script>\n",
              "    </div>\n",
              "  </div>\n",
              "  "
            ],
            "text/plain": [
              "  channelGrouping      date        fullVisitorId  ... page  slot  gclId\n",
              "0  Organic Search  20160902  1131660440785968503  ...  NaN   NaN    NaN\n",
              "1  Organic Search  20160902   377306020877927890  ...  NaN   NaN    NaN\n",
              "2  Organic Search  20160902  3895546263509774583  ...  NaN   NaN    NaN\n",
              "3  Organic Search  20160902  4763447161404445595  ...  NaN   NaN    NaN\n",
              "4  Organic Search  20160902    27294437909732085  ...  NaN   NaN    NaN\n",
              "5  Organic Search  20160902  2938943183656635653  ...  NaN   NaN    NaN\n",
              "6  Organic Search  20160902  1905672039242460897  ...  NaN   NaN    NaN\n",
              "7  Organic Search  20160902   537222803633850821  ...  NaN   NaN    NaN\n",
              "8  Organic Search  20160902  4445454811831400414  ...  NaN   NaN    NaN\n",
              "9  Organic Search  20160902  9499785259412240342  ...  NaN   NaN    NaN\n",
              "\n",
              "[10 rows x 30 columns]"
            ]
          },
          "metadata": {},
          "execution_count": 8
        }
      ],
      "source": [
        "data.head(10)"
      ]
    },
    {
      "cell_type": "markdown",
      "metadata": {
        "id": "Dlu3rS3ZIjxL"
      },
      "source": [
        "Deal with the missing data"
      ]
    },
    {
      "cell_type": "code",
      "execution_count": null,
      "metadata": {
        "id": "QHXQNRViIn9Y",
        "colab": {
          "base_uri": "https://localhost:8080/"
        },
        "outputId": "bc20635a-9f52-4493-aae8-6f23eb9036eb"
      },
      "outputs": [
        {
          "output_type": "execute_result",
          "data": {
            "text/plain": [
              "channelGrouping            0\n",
              "region                     0\n",
              "country                    0\n",
              "subContinent               0\n",
              "continent                  0\n",
              "networkDomain              0\n",
              "browser                    0\n",
              "hits                       0\n",
              "operatingSystem            0\n",
              "isMobile                   0\n",
              "deviceCategory             0\n",
              "medium                     0\n",
              "source                     0\n",
              "campaign                   0\n",
              "visitStartTime             0\n",
              "visitNumber                0\n",
              "visitId                    0\n",
              "sessionId                  0\n",
              "fullVisitorId              0\n",
              "date                       0\n",
              "metro                      0\n",
              "city                       0\n",
              "pageviews                100\n",
              "keyword               502929\n",
              "referralPath          572712\n",
              "gclId                 882092\n",
              "slot                  882193\n",
              "page                  882193\n",
              "transactionRevenue    892138\n",
              "adContent             892707\n",
              "dtype: int64"
            ]
          },
          "metadata": {},
          "execution_count": 9
        }
      ],
      "source": [
        "data.isnull().sum().sort_values()"
      ]
    },
    {
      "cell_type": "code",
      "execution_count": null,
      "metadata": {
        "id": "8_ZcQHfiIw8I"
      },
      "outputs": [],
      "source": [
        "import matplotlib.pyplot as plt\n",
        "import seaborn as sns"
      ]
    },
    {
      "cell_type": "code",
      "execution_count": null,
      "metadata": {
        "id": "q3_6x-hnIuoP",
        "colab": {
          "base_uri": "https://localhost:8080/",
          "height": 844
        },
        "outputId": "6750e30d-9945-4f55-acd0-6baa4498e114"
      },
      "outputs": [
        {
          "output_type": "execute_result",
          "data": {
            "text/plain": [
              "Text(0.5, 1.0, 'Percent missing data by feature')"
            ]
          },
          "metadata": {},
          "execution_count": 11
        },
        {
          "output_type": "display_data",
          "data": {
            "image/png": "[encoded data removed]",
            "text/plain": [
              "<Figure size 1080x864 with 1 Axes>"
            ]
          },
          "metadata": {
            "needs_background": "light"
          }
        }
      ],
      "source": [
        "# View missing values\n",
        "data_na = (data.isnull().sum() / len(data)) * 100\n",
        "data_na = data_na.drop(data_na[data_na == 0].index).sort_values(ascending=False)[:10]\n",
        "missing_data = pd.DataFrame({'Missing Ratio' :data_na})\n",
        "missing_data.head(20)\n",
        "\n",
        "# Draw a histogram of missing values\n",
        "f, ax = plt.subplots(figsize=(15,12))\n",
        "plt.xticks(rotation='90')\n",
        "sns.barplot(x=data_na.index, y=data_na)\n",
        "plt.xlabel('Features', fontsize=15)\n",
        "plt.ylabel('Percent of missing values', fontsize=15)\n",
        "plt.title('Percent missing data by feature', fontsize=15)"
      ]
    },
    {
      "cell_type": "code",
      "execution_count": null,
      "metadata": {
        "id": "_hYzbUOwI_xl",
        "colab": {
          "base_uri": "https://localhost:8080/"
        },
        "outputId": "1e2aa0a9-0dfa-4956-df42-d5d7708b78b8"
      },
      "outputs": [
        {
          "output_type": "execute_result",
          "data": {
            "text/plain": [
              "desktop    664479\n",
              "mobile     208725\n",
              "tablet      30449\n",
              "Name: deviceCategory, dtype: int64"
            ]
          },
          "metadata": {},
          "execution_count": 12
        }
      ],
      "source": [
        "data.deviceCategory.value_counts()"
      ]
    },
    {
      "cell_type": "markdown",
      "metadata": {
        "id": "dY5TzVi-JFKp"
      },
      "source": [
        "We can delete this data"
      ]
    },
    {
      "cell_type": "code",
      "execution_count": null,
      "metadata": {
        "id": "iVEwgsZHKGhQ",
        "colab": {
          "base_uri": "https://localhost:8080/"
        },
        "outputId": "f24b6d3a-742b-497e-b4d2-edf8e802b4d3"
      },
      "outputs": [
        {
          "output_type": "execute_result",
          "data": {
            "text/plain": [
              "Series([], Name: deviceCategory, dtype: bool)"
            ]
          },
          "metadata": {},
          "execution_count": 13
        }
      ],
      "source": [
        "data.deviceCategory.isna()[data.deviceCategory.isna()==True]"
      ]
    },
    {
      "cell_type": "code",
      "execution_count": null,
      "metadata": {
        "id": "_BvgJHBJKRPq"
      },
      "outputs": [],
      "source": [
        "data=data.drop(index=[11817])"
      ]
    },
    {
      "cell_type": "markdown",
      "metadata": {
        "id": "JGaCoTkRKTaa"
      },
      "source": [
        "Deal with isMobile"
      ]
    },
    {
      "cell_type": "code",
      "execution_count": null,
      "metadata": {
        "id": "g5BDMOkNKYJa",
        "colab": {
          "base_uri": "https://localhost:8080/"
        },
        "outputId": "c13ed676-d101-4e8a-d110-55f9b07050b1"
      },
      "outputs": [
        {
          "output_type": "execute_result",
          "data": {
            "text/plain": [
              "False    664529\n",
              "True     239123\n",
              "Name: isMobile, dtype: int64"
            ]
          },
          "metadata": {},
          "execution_count": 15
        }
      ],
      "source": [
        "data.isMobile.value_counts()"
      ]
    },
    {
      "cell_type": "code",
      "execution_count": null,
      "metadata": {
        "id": "PraT7FWvKbTV",
        "colab": {
          "base_uri": "https://localhost:8080/"
        },
        "outputId": "29b48517-0c69-42d0-d401-7145d4f35a75"
      },
      "outputs": [
        {
          "output_type": "execute_result",
          "data": {
            "text/plain": [
              "Series([], Name: isMobile, dtype: bool)"
            ]
          },
          "metadata": {},
          "execution_count": 16
        }
      ],
      "source": [
        "data.isMobile.isna()[data.isMobile.isna()==True]"
      ]
    },
    {
      "cell_type": "markdown",
      "metadata": {
        "id": "MPng5PU-KkbI"
      },
      "source": [
        "I think we have deleted before when we delete the missing data."
      ]
    },
    {
      "cell_type": "code",
      "execution_count": null,
      "metadata": {
        "id": "plRQr-YbKrc3",
        "colab": {
          "base_uri": "https://localhost:8080/"
        },
        "outputId": "7f546f9e-3f91-4811-bacd-2bab3ac0ff4a"
      },
      "outputs": [
        {
          "output_type": "execute_result",
          "data": {
            "text/plain": [
              "(not provided)                     366363\n",
              "6qEhsCssdK0z36ri                    11503\n",
              "(Remarketing/Content targeting)      2298\n",
              "1hZbAqLCbjwfgOH7                     2264\n",
              "google merchandise store             2209\n",
              "                                    ...  \n",
              "buy youtube tshirt online               1\n",
              "Google Tshirt                           1\n",
              "google developer merchandise            1\n",
              "singapore google store                  1\n",
              "you tou e                               1\n",
              "Name: keyword, Length: 3659, dtype: int64"
            ]
          },
          "metadata": {},
          "execution_count": 17
        }
      ],
      "source": [
        "data.keyword.value_counts()"
      ]
    },
    {
      "cell_type": "markdown",
      "metadata": {
        "id": "3n5bXF6MK017"
      },
      "source": [
        "This value is too messey,we decided to use the nlp method to deal with them."
      ]
    },
    {
      "cell_type": "code",
      "execution_count": null,
      "metadata": {
        "id": "DDfJfGGnPEEK"
      },
      "outputs": [],
      "source": [
        "data.keyword=data.keyword.fillna(\"(not provided)\")"
      ]
    },
    {
      "cell_type": "code",
      "execution_count": null,
      "metadata": {
        "id": "tn2f6LcqTnFX"
      },
      "outputs": [],
      "source": [
        "keywords=list(data.keyword.values)"
      ]
    },
    {
      "cell_type": "code",
      "execution_count": null,
      "metadata": {
        "id": "njhul7C1-p8g",
        "colab": {
          "base_uri": "https://localhost:8080/"
        },
        "outputId": "dc87c72d-bb24-44b5-a53d-bc793f5f3c21"
      },
      "outputs": [
        {
          "output_type": "stream",
          "name": "stdout",
          "text": [
            "[nltk_data] Downloading package words to /root/nltk_data...\n",
            "[nltk_data]   Unzipping corpora/words.zip.\n"
          ]
        },
        {
          "output_type": "execute_result",
          "data": {
            "text/plain": [
              "True"
            ]
          },
          "metadata": {},
          "execution_count": 20
        }
      ],
      "source": [
        "import nltk\n",
        "nltk.download('words')"
      ]
    },
    {
      "cell_type": "code",
      "execution_count": null,
      "metadata": {
        "id": "JJmRPzVQKxVU",
        "colab": {
          "base_uri": "https://localhost:8080/"
        },
        "outputId": "6f286637-0dc8-49cd-9d6a-5ec17f71c8aa"
      },
      "outputs": [
        {
          "output_type": "stream",
          "name": "stdout",
          "text": [
            "[nltk_data] Downloading package stopwords to /root/nltk_data...\n",
            "[nltk_data]   Unzipping corpora/stopwords.zip.\n",
            "[nltk_data] Downloading package punkt to /root/nltk_data...\n",
            "[nltk_data]   Unzipping tokenizers/punkt.zip.\n",
            "[nltk_data] Downloading package wordnet to /root/nltk_data...\n",
            "[nltk_data]   Unzipping corpora/wordnet.zip.\n"
          ]
        }
      ],
      "source": [
        "import nltk\n",
        "from nltk.corpus import stopwords\n",
        "import re,string\n",
        "from nltk.tokenize import TweetTokenizer\n",
        "nltk.download('stopwords')\n",
        "nltk.download('punkt')\n",
        "tokenizer=nltk.data.load('tokenizers/punkt/english.pickle')\n",
        "from nltk.stem import WordNetLemmatizer,PorterStemmer\n",
        "lemmatizer_output=WordNetLemmatizer()\n",
        "nltk.download('wordnet')\n",
        "from nltk.tokenize import word_tokenize\n",
        "english_words = set(nltk.corpus.words.words())\n",
        "\n",
        "def process_tweet(tweet):\n",
        "    \"\"\"Process tweet function.\n",
        "    Input:\n",
        "        tweet: a string containing a tweet\n",
        "    Output:\n",
        "        tweets_clean: a list of words containing the processed tweet\n",
        "\n",
        "    \"\"\"\n",
        "    stemmer = PorterStemmer()\n",
        "    stopwords_english = stopwords.words('english')\n",
        "    # remove stock market tickers like $GE\n",
        "    tweet = re.sub(r'\\$\\w*', '', tweet)\n",
        "    # remove old style retweet text \"RT\"\n",
        "    tweet = re.sub(r'^RT[\\s]+', '', tweet)\n",
        "    # remove hyperlinks\n",
        "    tweet = re.sub(r'https?:\\/\\/.*[\\r\\n]*', '', tweet)\n",
        "    # remove hashtags\n",
        "    # only removing the hash # sign from the word\n",
        "    tweet = re.sub(r'#', '', tweet)\n",
        "    # tokenize tweets\n",
        "    list_token=word_tokenize(tweet)\n",
        "    tweets=[]\n",
        "    for word in list_token:\n",
        "      if word in english_words:\n",
        "        tweets.append(word)\n",
        "\n",
        "    return tweets"
      ]
    },
    {
      "cell_type": "code",
      "execution_count": null,
      "metadata": {
        "id": "l7TyVMI5MvKA"
      },
      "outputs": [],
      "source": [
        "for i in range(len(keywords)):\n",
        "  keywords[i]=process_tweet(keywords[i])"
      ]
    },
    {
      "cell_type": "code",
      "source": [
        ""
      ],
      "metadata": {
        "id": "juBYEV9aT8N6"
      },
      "execution_count": null,
      "outputs": []
    },
    {
      "cell_type": "code",
      "execution_count": null,
      "metadata": {
        "id": "jRdAEFXCXR6T",
        "colab": {
          "base_uri": "https://localhost:8080/"
        },
        "outputId": "28d11fd2-9554-4b74-99f6-62f19d0ab111"
      },
      "outputs": [
        {
          "output_type": "stream",
          "name": "stdout",
          "text": [
            "not;11337\n",
            "provided;11337\n",
            "store;41\n",
            "merchandise;31\n",
            "shop;10\n",
            "t;10\n",
            "you;10\n",
            "shirt;9\n",
            "tube;9\n",
            "content;8\n",
            "automatic;8\n",
            "matching;8\n",
            "vertical;5\n",
            "merch;4\n",
            "lava;3\n",
            "lamp;3\n",
            "on;3\n",
            "stickers;3\n",
            "shopping;2\n",
            "how;2\n",
            "to;2\n",
            "bag;2\n",
            "free;2\n",
            "for;2\n",
            "buy;1\n",
            "hood;1\n",
            "pink;1\n",
            "player;1\n",
            "clothes;1\n",
            "blue;1\n"
          ]
        }
      ],
      "source": [
        "import nltk\n",
        "vocabulary = nltk.FreqDist()\n",
        "new_list=[]\n",
        "for word in keywords:\n",
        "    for i in word:\n",
        "      new_list.append(i)\n",
        "    vocabulary.update(word)\n",
        "for word, frequency in vocabulary.most_common(30):\n",
        "    print(f'{word};{frequency}')"
      ]
    },
    {
      "cell_type": "markdown",
      "metadata": {
        "id": "kZaHKrM1X8sz"
      },
      "source": [
        "It'is clear that the most frequence keyword is \"merchandise\" \"store\" \"shop\" \"store\""
      ]
    },
    {
      "cell_type": "code",
      "execution_count": null,
      "metadata": {
        "id": "9ijruk41RIEp"
      },
      "outputs": [],
      "source": [
        "newkeywords=[]\n",
        "for i in keywords:\n",
        "  new=''\n",
        "  for j in i:\n",
        "    new=new+\" \"+j\n",
        "  newkeywords.append(new)"
      ]
    },
    {
      "cell_type": "code",
      "execution_count": null,
      "metadata": {
        "id": "tfuwqs8GVB5-",
        "colab": {
          "base_uri": "https://localhost:8080/"
        },
        "outputId": "da717538-3ee7-4aac-80f6-83e4d8dc227b"
      },
      "outputs": [
        {
          "output_type": "stream",
          "name": "stderr",
          "text": [
            "/usr/local/lib/python3.7/dist-packages/ipykernel_launcher.py:5: SettingWithCopyWarning: \n",
            "A value is trying to be set on a copy of a slice from a DataFrame\n",
            "\n",
            "See the caveats in the documentation: https://pandas.pydata.org/pandas-docs/stable/user_guide/indexing.html#returning-a-view-versus-a-copy\n",
            "  \"\"\"\n",
            "/usr/local/lib/python3.7/dist-packages/ipykernel_launcher.py:3: SettingWithCopyWarning: \n",
            "A value is trying to be set on a copy of a slice from a DataFrame\n",
            "\n",
            "See the caveats in the documentation: https://pandas.pydata.org/pandas-docs/stable/user_guide/indexing.html#returning-a-view-versus-a-copy\n",
            "  This is separate from the ipykernel package so we can avoid doing imports until\n"
          ]
        }
      ],
      "source": [
        "for i in range(len(data)):\n",
        "  if newkeywords[i] ==\"\":\n",
        "    data.keyword[i]=\"unreadable\"\n",
        "  else:\n",
        "    data.keyword[i]=newkeywords[i]"
      ]
    },
    {
      "cell_type": "code",
      "execution_count": null,
      "metadata": {
        "id": "ZWAepsgGVv2S",
        "colab": {
          "base_uri": "https://localhost:8080/"
        },
        "outputId": "2791e3dd-a143-4e69-eed8-9b411bafc7fc"
      },
      "outputs": [
        {
          "output_type": "execute_result",
          "data": {
            "text/plain": [
              " not provided                       11337\n",
              "unreadable                            353\n",
              " merchandise store                     25\n",
              " store                                 15\n",
              " content                                8\n",
              " automatic matching                     8\n",
              " shop                                   7\n",
              " t shirt                                5\n",
              " vertical                               5\n",
              " merch                                  4\n",
              " you tube                               3\n",
              " stickers                               3\n",
              " tube                                   3\n",
              " you                                    3\n",
              " shirt                                  2\n",
              " t                                      2\n",
              " merchandise                            2\n",
              " hood pink                              1\n",
              " bag                                    1\n",
              " jacket you tube                        1\n",
              " free                                   1\n",
              " address                                1\n",
              " on                                     1\n",
              " merchandise for                        1\n",
              " toddler raglan baseball t shirt        1\n",
              " stylus                                 1\n",
              " buy                                    1\n",
              " shop you tube                          1\n",
              " large lava lamp                        1\n",
              " polo                                   1\n",
              " tou tube                               1\n",
              " blue lava lamp                         1\n",
              " clothing                               1\n",
              " player t shirt                         1\n",
              " store merchandise                      1\n",
              " fun                                    1\n",
              " you tuber                              1\n",
              " shopping bag                           1\n",
              " T                                      1\n",
              " how to get free merchandise            1\n",
              " clothes shopping                       1\n",
              " you t                                  1\n",
              " android merchandise                    1\n",
              " check us out on sticker                1\n",
              " how to purchase shop on                1\n",
              " men                                    1\n",
              " apparel shop                           1\n",
              " for sale                               1\n",
              " coca cola lava lamp                    1\n",
              "Name: keyword, dtype: int64"
            ]
          },
          "metadata": {},
          "execution_count": 26
        }
      ],
      "source": [
        "data.keyword.value_counts()"
      ]
    },
    {
      "cell_type": "code",
      "execution_count": null,
      "metadata": {
        "id": "GrkC1xMzY_A1"
      },
      "outputs": [],
      "source": [
        "from plotly.subplots import make_subplots\n",
        "import plotly.offline as py\n",
        "import plotly.graph_objs as go"
      ]
    },
    {
      "cell_type": "code",
      "execution_count": null,
      "metadata": {
        "id": "PHGcANoiYL5a",
        "colab": {
          "base_uri": "https://localhost:8080/",
          "height": 1000
        },
        "outputId": "7c2c1403-1119-4caf-a010-4b7995ffc44a"
      },
      "outputs": [
        {
          "output_type": "display_data",
          "data": {
            "text/html": [
              "<html>\n",
              "<head><meta charset=\"utf-8\" /></head>\n",
              "<body>\n",
              "    <div>\n",
              "            <script src=\"https://cdnjs.cloudflare.com/ajax/libs/mathjax/2.7.5/MathJax.js?config=TeX-AMS-MML_SVG\"></script><script type=\"text/javascript\">if (window.MathJax) {MathJax.Hub.Config({SVG: {font: \"STIX-Web\"}});}</script>\n",
              "                <script type=\"text/javascript\">window.PlotlyConfig = {MathJaxConfig: 'local'};</script>\n",
              "        <script src=\"https://cdn.plot.ly/plotly-latest.min.js\"></script>    \n",
              "            <div id=\"1eccd5fe-4668-48c4-b938-fdf509b85620\" class=\"plotly-graph-div\" style=\"height:1200px; width:1200px;\"></div>\n",
              "            <script type=\"text/javascript\">\n",
              "                \n",
              "                    window.PLOTLYENV=window.PLOTLYENV || {};\n",
              "                    \n",
              "                if (document.getElementById(\"1eccd5fe-4668-48c4-b938-fdf509b85620\")) {\n",
              "                    Plotly.newPlot(\n",
              "                        '1eccd5fe-4668-48c4-b938-fdf509b85620',\n",
              "                        [{\"marker\": {\"color\": \"rgba(58, 71, 80, 0.6)\"}, \"orientation\": \"h\", \"showlegend\": false, \"type\": \"bar\", \"x\": [4, 5, 5, 7, 8, 8, 15, 25, 353, 11337], \"xaxis\": \"x\", \"y\": [\" merch\", \" t shirt\", \" vertical\", \" shop\", \" content\", \" automatic matching\", \" store\", \" merchandise store\", \"unreadable\", \" not provided\"], \"yaxis\": \"y\"}, {\"marker\": {\"color\": \"rgba(58, 71, 80, 0.6)\"}, \"orientation\": \"h\", \"showlegend\": false, \"type\": \"bar\", \"x\": [0, 0, 0, 0, 0, 0, 0, 0, 2, 161], \"xaxis\": \"x2\", \"y\": [\" merch\", \" t shirt\", \" vertical\", \" shop\", \" content\", \" automatic matching\", \" store\", \" merchandise store\", \"unreadable\", \" not provided\"], \"yaxis\": \"y2\"}, {\"marker\": {\"color\": \"rgba(58, 71, 80, 0.6)\"}, \"orientation\": \"h\", \"showlegend\": false, \"type\": \"bar\", \"x\": [null, null, null, null, null, null, null, null, 141030000.0, 138815527.95031056], \"xaxis\": \"x3\", \"y\": [\" merch\", \" t shirt\", \" vertical\", \" shop\", \" content\", \" automatic matching\", \" store\", \" merchandise store\", \"unreadable\", \" not provided\"], \"yaxis\": \"y3\"}],\n",
              "                        {\"annotations\": [{\"font\": {\"size\": 16}, \"showarrow\": false, \"text\": \"Keyword - Count\", \"x\": 0.14444444444444446, \"xanchor\": \"center\", \"xref\": \"paper\", \"y\": 1.0, \"yanchor\": \"bottom\", \"yref\": \"paper\"}, {\"font\": {\"size\": 16}, \"showarrow\": false, \"text\": \"Keyword - Non-zero Revenue Count\", \"x\": 0.5, \"xanchor\": \"center\", \"xref\": \"paper\", \"y\": 1.0, \"yanchor\": \"bottom\", \"yref\": \"paper\"}, {\"font\": {\"size\": 16}, \"showarrow\": false, \"text\": \"Keyword - Mean Revenue\", \"x\": 0.8555555555555556, \"xanchor\": \"center\", \"xref\": \"paper\", \"y\": 1.0, \"yanchor\": \"bottom\", \"yref\": \"paper\"}], \"height\": 1200, \"paper_bgcolor\": \"rgb(233,233,233)\", \"template\": {\"data\": {\"bar\": [{\"error_x\": {\"color\": \"#2a3f5f\"}, \"error_y\": {\"color\": \"#2a3f5f\"}, \"marker\": {\"line\": {\"color\": \"#E5ECF6\", \"width\": 0.5}}, \"type\": \"bar\"}], \"barpolar\": [{\"marker\": {\"line\": {\"color\": \"#E5ECF6\", \"width\": 0.5}}, \"type\": \"barpolar\"}], \"carpet\": [{\"aaxis\": {\"endlinecolor\": \"#2a3f5f\", \"gridcolor\": \"white\", \"linecolor\": \"white\", \"minorgridcolor\": \"white\", \"startlinecolor\": \"#2a3f5f\"}, \"baxis\": {\"endlinecolor\": \"#2a3f5f\", \"gridcolor\": \"white\", \"linecolor\": \"white\", \"minorgridcolor\": \"white\", \"startlinecolor\": \"#2a3f5f\"}, \"type\": \"carpet\"}], \"choropleth\": [{\"colorbar\": {\"outlinewidth\": 0, \"ticks\": \"\"}, \"type\": \"choropleth\"}], \"contour\": [{\"colorbar\": {\"outlinewidth\": 0, \"ticks\": \"\"}, \"colorscale\": [[0.0, \"#0d0887\"], [0.1111111111111111, \"#46039f\"], [0.2222222222222222, \"#7201a8\"], [0.3333333333333333, \"#9c179e\"], [0.4444444444444444, \"#bd3786\"], [0.5555555555555556, \"#d8576b\"], [0.6666666666666666, \"#ed7953\"], [0.7777777777777778, \"#fb9f3a\"], [0.8888888888888888, \"#fdca26\"], [1.0, \"#f0f921\"]], \"type\": \"contour\"}], \"contourcarpet\": [{\"colorbar\": {\"outlinewidth\": 0, \"ticks\": \"\"}, \"type\": \"contourcarpet\"}], \"heatmap\": [{\"colorbar\": {\"outlinewidth\": 0, \"ticks\": \"\"}, \"colorscale\": [[0.0, \"#0d0887\"], [0.1111111111111111, \"#46039f\"], [0.2222222222222222, \"#7201a8\"], [0.3333333333333333, \"#9c179e\"], [0.4444444444444444, \"#bd3786\"], [0.5555555555555556, \"#d8576b\"], [0.6666666666666666, \"#ed7953\"], [0.7777777777777778, \"#fb9f3a\"], [0.8888888888888888, \"#fdca26\"], [1.0, \"#f0f921\"]], \"type\": \"heatmap\"}], \"heatmapgl\": [{\"colorbar\": {\"outlinewidth\": 0, \"ticks\": \"\"}, \"colorscale\": [[0.0, \"#0d0887\"], [0.1111111111111111, \"#46039f\"], [0.2222222222222222, \"#7201a8\"], [0.3333333333333333, \"#9c179e\"], [0.4444444444444444, \"#bd3786\"], [0.5555555555555556, \"#d8576b\"], [0.6666666666666666, \"#ed7953\"], [0.7777777777777778, \"#fb9f3a\"], [0.8888888888888888, \"#fdca26\"], [1.0, \"#f0f921\"]], \"type\": \"heatmapgl\"}], \"histogram\": [{\"marker\": {\"colorbar\": {\"outlinewidth\": 0, \"ticks\": \"\"}}, \"type\": \"histogram\"}], \"histogram2d\": [{\"colorbar\": {\"outlinewidth\": 0, \"ticks\": \"\"}, \"colorscale\": [[0.0, \"#0d0887\"], [0.1111111111111111, \"#46039f\"], [0.2222222222222222, \"#7201a8\"], [0.3333333333333333, \"#9c179e\"], [0.4444444444444444, \"#bd3786\"], [0.5555555555555556, \"#d8576b\"], [0.6666666666666666, \"#ed7953\"], [0.7777777777777778, \"#fb9f3a\"], [0.8888888888888888, \"#fdca26\"], [1.0, \"#f0f921\"]], \"type\": \"histogram2d\"}], \"histogram2dcontour\": [{\"colorbar\": {\"outlinewidth\": 0, \"ticks\": \"\"}, \"colorscale\": [[0.0, \"#0d0887\"], [0.1111111111111111, \"#46039f\"], [0.2222222222222222, \"#7201a8\"], [0.3333333333333333, \"#9c179e\"], [0.4444444444444444, \"#bd3786\"], [0.5555555555555556, \"#d8576b\"], [0.6666666666666666, \"#ed7953\"], [0.7777777777777778, \"#fb9f3a\"], [0.8888888888888888, \"#fdca26\"], [1.0, \"#f0f921\"]], \"type\": \"histogram2dcontour\"}], \"mesh3d\": [{\"colorbar\": {\"outlinewidth\": 0, \"ticks\": \"\"}, \"type\": \"mesh3d\"}], \"parcoords\": [{\"line\": {\"colorbar\": {\"outlinewidth\": 0, \"ticks\": \"\"}}, \"type\": \"parcoords\"}], \"pie\": [{\"automargin\": true, \"type\": \"pie\"}], \"scatter\": [{\"marker\": {\"colorbar\": {\"outlinewidth\": 0, \"ticks\": \"\"}}, \"type\": \"scatter\"}], \"scatter3d\": [{\"line\": {\"colorbar\": {\"outlinewidth\": 0, \"ticks\": \"\"}}, \"marker\": {\"colorbar\": {\"outlinewidth\": 0, \"ticks\": \"\"}}, \"type\": \"scatter3d\"}], \"scattercarpet\": [{\"marker\": {\"colorbar\": {\"outlinewidth\": 0, \"ticks\": \"\"}}, \"type\": \"scattercarpet\"}], \"scattergeo\": [{\"marker\": {\"colorbar\": {\"outlinewidth\": 0, \"ticks\": \"\"}}, \"type\": \"scattergeo\"}], \"scattergl\": [{\"marker\": {\"colorbar\": {\"outlinewidth\": 0, \"ticks\": \"\"}}, \"type\": \"scattergl\"}], \"scattermapbox\": [{\"marker\": {\"colorbar\": {\"outlinewidth\": 0, \"ticks\": \"\"}}, \"type\": \"scattermapbox\"}], \"scatterpolar\": [{\"marker\": {\"colorbar\": {\"outlinewidth\": 0, \"ticks\": \"\"}}, \"type\": \"scatterpolar\"}], \"scatterpolargl\": [{\"marker\": {\"colorbar\": {\"outlinewidth\": 0, \"ticks\": \"\"}}, \"type\": \"scatterpolargl\"}], \"scatterternary\": [{\"marker\": {\"colorbar\": {\"outlinewidth\": 0, \"ticks\": \"\"}}, \"type\": \"scatterternary\"}], \"surface\": [{\"colorbar\": {\"outlinewidth\": 0, \"ticks\": \"\"}, \"colorscale\": [[0.0, \"#0d0887\"], [0.1111111111111111, \"#46039f\"], [0.2222222222222222, \"#7201a8\"], [0.3333333333333333, \"#9c179e\"], [0.4444444444444444, \"#bd3786\"], [0.5555555555555556, \"#d8576b\"], [0.6666666666666666, \"#ed7953\"], [0.7777777777777778, \"#fb9f3a\"], [0.8888888888888888, \"#fdca26\"], [1.0, \"#f0f921\"]], \"type\": \"surface\"}], \"table\": [{\"cells\": {\"fill\": {\"color\": \"#EBF0F8\"}, \"line\": {\"color\": \"white\"}}, \"header\": {\"fill\": {\"color\": \"#C8D4E3\"}, \"line\": {\"color\": \"white\"}}, \"type\": \"table\"}]}, \"layout\": {\"annotationdefaults\": {\"arrowcolor\": \"#2a3f5f\", \"arrowhead\": 0, \"arrowwidth\": 1}, \"coloraxis\": {\"colorbar\": {\"outlinewidth\": 0, \"ticks\": \"\"}}, \"colorscale\": {\"diverging\": [[0, \"#8e0152\"], [0.1, \"#c51b7d\"], [0.2, \"#de77ae\"], [0.3, \"#f1b6da\"], [0.4, \"#fde0ef\"], [0.5, \"#f7f7f7\"], [0.6, \"#e6f5d0\"], [0.7, \"#b8e186\"], [0.8, \"#7fbc41\"], [0.9, \"#4d9221\"], [1, \"#276419\"]], \"sequential\": [[0.0, \"#0d0887\"], [0.1111111111111111, \"#46039f\"], [0.2222222222222222, \"#7201a8\"], [0.3333333333333333, \"#9c179e\"], [0.4444444444444444, \"#bd3786\"], [0.5555555555555556, \"#d8576b\"], [0.6666666666666666, \"#ed7953\"], [0.7777777777777778, \"#fb9f3a\"], [0.8888888888888888, \"#fdca26\"], [1.0, \"#f0f921\"]], \"sequentialminus\": [[0.0, \"#0d0887\"], [0.1111111111111111, \"#46039f\"], [0.2222222222222222, \"#7201a8\"], [0.3333333333333333, \"#9c179e\"], [0.4444444444444444, \"#bd3786\"], [0.5555555555555556, \"#d8576b\"], [0.6666666666666666, \"#ed7953\"], [0.7777777777777778, \"#fb9f3a\"], [0.8888888888888888, \"#fdca26\"], [1.0, \"#f0f921\"]]}, \"colorway\": [\"#636efa\", \"#EF553B\", \"#00cc96\", \"#ab63fa\", \"#FFA15A\", \"#19d3f3\", \"#FF6692\", \"#B6E880\", \"#FF97FF\", \"#FECB52\"], \"font\": {\"color\": \"#2a3f5f\"}, \"geo\": {\"bgcolor\": \"white\", \"lakecolor\": \"white\", \"landcolor\": \"#E5ECF6\", \"showlakes\": true, \"showland\": true, \"subunitcolor\": \"white\"}, \"hoverlabel\": {\"align\": \"left\"}, \"hovermode\": \"closest\", \"mapbox\": {\"style\": \"light\"}, \"paper_bgcolor\": \"white\", \"plot_bgcolor\": \"#E5ECF6\", \"polar\": {\"angularaxis\": {\"gridcolor\": \"white\", \"linecolor\": \"white\", \"ticks\": \"\"}, \"bgcolor\": \"#E5ECF6\", \"radialaxis\": {\"gridcolor\": \"white\", \"linecolor\": \"white\", \"ticks\": \"\"}}, \"scene\": {\"xaxis\": {\"backgroundcolor\": \"#E5ECF6\", \"gridcolor\": \"white\", \"gridwidth\": 2, \"linecolor\": \"white\", \"showbackground\": true, \"ticks\": \"\", \"zerolinecolor\": \"white\"}, \"yaxis\": {\"backgroundcolor\": \"#E5ECF6\", \"gridcolor\": \"white\", \"gridwidth\": 2, \"linecolor\": \"white\", \"showbackground\": true, \"ticks\": \"\", \"zerolinecolor\": \"white\"}, \"zaxis\": {\"backgroundcolor\": \"#E5ECF6\", \"gridcolor\": \"white\", \"gridwidth\": 2, \"linecolor\": \"white\", \"showbackground\": true, \"ticks\": \"\", \"zerolinecolor\": \"white\"}}, \"shapedefaults\": {\"line\": {\"color\": \"#2a3f5f\"}}, \"ternary\": {\"aaxis\": {\"gridcolor\": \"white\", \"linecolor\": \"white\", \"ticks\": \"\"}, \"baxis\": {\"gridcolor\": \"white\", \"linecolor\": \"white\", \"ticks\": \"\"}, \"bgcolor\": \"#E5ECF6\", \"caxis\": {\"gridcolor\": \"white\", \"linecolor\": \"white\", \"ticks\": \"\"}}, \"title\": {\"x\": 0.05}, \"xaxis\": {\"automargin\": true, \"gridcolor\": \"white\", \"linecolor\": \"white\", \"ticks\": \"\", \"title\": {\"standoff\": 15}, \"zerolinecolor\": \"white\", \"zerolinewidth\": 2}, \"yaxis\": {\"automargin\": true, \"gridcolor\": \"white\", \"linecolor\": \"white\", \"ticks\": \"\", \"title\": {\"standoff\": 15}, \"zerolinecolor\": \"white\", \"zerolinewidth\": 2}}}, \"title\": {\"text\": \"Keywords Plots\"}, \"width\": 1200, \"xaxis\": {\"anchor\": \"y\", \"domain\": [0.0, 0.2888888888888889]}, \"xaxis2\": {\"anchor\": \"y2\", \"domain\": [0.35555555555555557, 0.6444444444444445]}, \"xaxis3\": {\"anchor\": \"y3\", \"domain\": [0.7111111111111111, 1.0]}, \"yaxis\": {\"anchor\": \"x\", \"domain\": [0.0, 1.0]}, \"yaxis2\": {\"anchor\": \"x2\", \"domain\": [0.0, 1.0]}, \"yaxis3\": {\"anchor\": \"x3\", \"domain\": [0.0, 1.0]}},\n",
              "                        {\"responsive\": true}\n",
              "                    ).then(function(){\n",
              "                            \n",
              "var gd = document.getElementById('1eccd5fe-4668-48c4-b938-fdf509b85620');\n",
              "var x = new MutationObserver(function (mutations, observer) {{\n",
              "        var display = window.getComputedStyle(gd).display;\n",
              "        if (!display || display === 'none') {{\n",
              "            console.log([gd, 'removed!']);\n",
              "            Plotly.purge(gd);\n",
              "            observer.disconnect();\n",
              "        }}\n",
              "}});\n",
              "\n",
              "// Listen for the removal of the full notebook cells\n",
              "var notebookContainer = gd.closest('#notebook-container');\n",
              "if (notebookContainer) {{\n",
              "    x.observe(notebookContainer, {childList: true});\n",
              "}}\n",
              "\n",
              "// Listen for the clearing of the current output cell\n",
              "var outputEl = gd.closest('.output');\n",
              "if (outputEl) {{\n",
              "    x.observe(outputEl, {childList: true});\n",
              "}}\n",
              "\n",
              "                        })\n",
              "                };\n",
              "                \n",
              "            </script>\n",
              "        </div>\n",
              "</body>\n",
              "</html>"
            ]
          },
          "metadata": {}
        },
        {
          "output_type": "display_data",
          "data": {
            "text/html": [
              "<html>\n",
              "<head><meta charset=\"utf-8\" /></head>\n",
              "<body>\n",
              "    <div>\n",
              "            <script src=\"https://cdnjs.cloudflare.com/ajax/libs/mathjax/2.7.5/MathJax.js?config=TeX-AMS-MML_SVG\"></script><script type=\"text/javascript\">if (window.MathJax) {MathJax.Hub.Config({SVG: {font: \"STIX-Web\"}});}</script>\n",
              "                <script type=\"text/javascript\">window.PlotlyConfig = {MathJaxConfig: 'local'};</script>\n",
              "        <script src=\"https://cdn.plot.ly/plotly-latest.min.js\"></script>    \n",
              "            <div id=\"b37b3e87-c394-4f69-8a22-f724f332a28d\" class=\"plotly-graph-div\" style=\"height:1200px; width:1200px;\"></div>\n",
              "            <script type=\"text/javascript\">\n",
              "                \n",
              "                    window.PLOTLYENV=window.PLOTLYENV || {};\n",
              "                    \n",
              "                if (document.getElementById(\"b37b3e87-c394-4f69-8a22-f724f332a28d\")) {\n",
              "                    Plotly.newPlot(\n",
              "                        'b37b3e87-c394-4f69-8a22-f724f332a28d',\n",
              "                        [{\"marker\": {\"color\": \"rgba(58, 71, 80, 0.6)\"}, \"orientation\": \"h\", \"showlegend\": false, \"type\": \"bar\", \"x\": [4, 5, 5, 7, 8, 8, 15, 25, 353, 11337], \"xaxis\": \"x\", \"y\": [\" merch\", \" t shirt\", \" vertical\", \" shop\", \" content\", \" automatic matching\", \" store\", \" merchandise store\", \"unreadable\", \" not provided\"], \"yaxis\": \"y\"}, {\"marker\": {\"color\": \"rgba(58, 71, 80, 0.6)\"}, \"orientation\": \"h\", \"showlegend\": false, \"type\": \"bar\", \"x\": [0, 0, 0, 0, 0, 0, 0, 0, 2, 161], \"xaxis\": \"x2\", \"y\": [\" merch\", \" t shirt\", \" vertical\", \" shop\", \" content\", \" automatic matching\", \" store\", \" merchandise store\", \"unreadable\", \" not provided\"], \"yaxis\": \"y2\"}, {\"marker\": {\"color\": \"rgba(58, 71, 80, 0.6)\"}, \"orientation\": \"h\", \"showlegend\": false, \"type\": \"bar\", \"x\": [null, null, null, null, null, null, null, null, 141030000.0, 138815527.95031056], \"xaxis\": \"x3\", \"y\": [\" merch\", \" t shirt\", \" vertical\", \" shop\", \" content\", \" automatic matching\", \" store\", \" merchandise store\", \"unreadable\", \" not provided\"], \"yaxis\": \"y3\"}],\n",
              "                        {\"annotations\": [{\"font\": {\"size\": 16}, \"showarrow\": false, \"text\": \"Keyword - Count\", \"x\": 0.14444444444444446, \"xanchor\": \"center\", \"xref\": \"paper\", \"y\": 1.0, \"yanchor\": \"bottom\", \"yref\": \"paper\"}, {\"font\": {\"size\": 16}, \"showarrow\": false, \"text\": \"Keyword - Non-zero Revenue Count\", \"x\": 0.5, \"xanchor\": \"center\", \"xref\": \"paper\", \"y\": 1.0, \"yanchor\": \"bottom\", \"yref\": \"paper\"}, {\"font\": {\"size\": 16}, \"showarrow\": false, \"text\": \"Keyword - Mean Revenue\", \"x\": 0.8555555555555556, \"xanchor\": \"center\", \"xref\": \"paper\", \"y\": 1.0, \"yanchor\": \"bottom\", \"yref\": \"paper\"}], \"height\": 1200, \"paper_bgcolor\": \"rgb(233,233,233)\", \"template\": {\"data\": {\"bar\": [{\"error_x\": {\"color\": \"#2a3f5f\"}, \"error_y\": {\"color\": \"#2a3f5f\"}, \"marker\": {\"line\": {\"color\": \"#E5ECF6\", \"width\": 0.5}}, \"type\": \"bar\"}], \"barpolar\": [{\"marker\": {\"line\": {\"color\": \"#E5ECF6\", \"width\": 0.5}}, \"type\": \"barpolar\"}], \"carpet\": [{\"aaxis\": {\"endlinecolor\": \"#2a3f5f\", \"gridcolor\": \"white\", \"linecolor\": \"white\", \"minorgridcolor\": \"white\", \"startlinecolor\": \"#2a3f5f\"}, \"baxis\": {\"endlinecolor\": \"#2a3f5f\", \"gridcolor\": \"white\", \"linecolor\": \"white\", \"minorgridcolor\": \"white\", \"startlinecolor\": \"#2a3f5f\"}, \"type\": \"carpet\"}], \"choropleth\": [{\"colorbar\": {\"outlinewidth\": 0, \"ticks\": \"\"}, \"type\": \"choropleth\"}], \"contour\": [{\"colorbar\": {\"outlinewidth\": 0, \"ticks\": \"\"}, \"colorscale\": [[0.0, \"#0d0887\"], [0.1111111111111111, \"#46039f\"], [0.2222222222222222, \"#7201a8\"], [0.3333333333333333, \"#9c179e\"], [0.4444444444444444, \"#bd3786\"], [0.5555555555555556, \"#d8576b\"], [0.6666666666666666, \"#ed7953\"], [0.7777777777777778, \"#fb9f3a\"], [0.8888888888888888, \"#fdca26\"], [1.0, \"#f0f921\"]], \"type\": \"contour\"}], \"contourcarpet\": [{\"colorbar\": {\"outlinewidth\": 0, \"ticks\": \"\"}, \"type\": \"contourcarpet\"}], \"heatmap\": [{\"colorbar\": {\"outlinewidth\": 0, \"ticks\": \"\"}, \"colorscale\": [[0.0, \"#0d0887\"], [0.1111111111111111, \"#46039f\"], [0.2222222222222222, \"#7201a8\"], [0.3333333333333333, \"#9c179e\"], [0.4444444444444444, \"#bd3786\"], [0.5555555555555556, \"#d8576b\"], [0.6666666666666666, \"#ed7953\"], [0.7777777777777778, \"#fb9f3a\"], [0.8888888888888888, \"#fdca26\"], [1.0, \"#f0f921\"]], \"type\": \"heatmap\"}], \"heatmapgl\": [{\"colorbar\": {\"outlinewidth\": 0, \"ticks\": \"\"}, \"colorscale\": [[0.0, \"#0d0887\"], [0.1111111111111111, \"#46039f\"], [0.2222222222222222, \"#7201a8\"], [0.3333333333333333, \"#9c179e\"], [0.4444444444444444, \"#bd3786\"], [0.5555555555555556, \"#d8576b\"], [0.6666666666666666, \"#ed7953\"], [0.7777777777777778, \"#fb9f3a\"], [0.8888888888888888, \"#fdca26\"], [1.0, \"#f0f921\"]], \"type\": \"heatmapgl\"}], \"histogram\": [{\"marker\": {\"colorbar\": {\"outlinewidth\": 0, \"ticks\": \"\"}}, \"type\": \"histogram\"}], \"histogram2d\": [{\"colorbar\": {\"outlinewidth\": 0, \"ticks\": \"\"}, \"colorscale\": [[0.0, \"#0d0887\"], [0.1111111111111111, \"#46039f\"], [0.2222222222222222, \"#7201a8\"], [0.3333333333333333, \"#9c179e\"], [0.4444444444444444, \"#bd3786\"], [0.5555555555555556, \"#d8576b\"], [0.6666666666666666, \"#ed7953\"], [0.7777777777777778, \"#fb9f3a\"], [0.8888888888888888, \"#fdca26\"], [1.0, \"#f0f921\"]], \"type\": \"histogram2d\"}], \"histogram2dcontour\": [{\"colorbar\": {\"outlinewidth\": 0, \"ticks\": \"\"}, \"colorscale\": [[0.0, \"#0d0887\"], [0.1111111111111111, \"#46039f\"], [0.2222222222222222, \"#7201a8\"], [0.3333333333333333, \"#9c179e\"], [0.4444444444444444, \"#bd3786\"], [0.5555555555555556, \"#d8576b\"], [0.6666666666666666, \"#ed7953\"], [0.7777777777777778, \"#fb9f3a\"], [0.8888888888888888, \"#fdca26\"], [1.0, \"#f0f921\"]], \"type\": \"histogram2dcontour\"}], \"mesh3d\": [{\"colorbar\": {\"outlinewidth\": 0, \"ticks\": \"\"}, \"type\": \"mesh3d\"}], \"parcoords\": [{\"line\": {\"colorbar\": {\"outlinewidth\": 0, \"ticks\": \"\"}}, \"type\": \"parcoords\"}], \"pie\": [{\"automargin\": true, \"type\": \"pie\"}], \"scatter\": [{\"marker\": {\"colorbar\": {\"outlinewidth\": 0, \"ticks\": \"\"}}, \"type\": \"scatter\"}], \"scatter3d\": [{\"line\": {\"colorbar\": {\"outlinewidth\": 0, \"ticks\": \"\"}}, \"marker\": {\"colorbar\": {\"outlinewidth\": 0, \"ticks\": \"\"}}, \"type\": \"scatter3d\"}], \"scattercarpet\": [{\"marker\": {\"colorbar\": {\"outlinewidth\": 0, \"ticks\": \"\"}}, \"type\": \"scattercarpet\"}], \"scattergeo\": [{\"marker\": {\"colorbar\": {\"outlinewidth\": 0, \"ticks\": \"\"}}, \"type\": \"scattergeo\"}], \"scattergl\": [{\"marker\": {\"colorbar\": {\"outlinewidth\": 0, \"ticks\": \"\"}}, \"type\": \"scattergl\"}], \"scattermapbox\": [{\"marker\": {\"colorbar\": {\"outlinewidth\": 0, \"ticks\": \"\"}}, \"type\": \"scattermapbox\"}], \"scatterpolar\": [{\"marker\": {\"colorbar\": {\"outlinewidth\": 0, \"ticks\": \"\"}}, \"type\": \"scatterpolar\"}], \"scatterpolargl\": [{\"marker\": {\"colorbar\": {\"outlinewidth\": 0, \"ticks\": \"\"}}, \"type\": \"scatterpolargl\"}], \"scatterternary\": [{\"marker\": {\"colorbar\": {\"outlinewidth\": 0, \"ticks\": \"\"}}, \"type\": \"scatterternary\"}], \"surface\": [{\"colorbar\": {\"outlinewidth\": 0, \"ticks\": \"\"}, \"colorscale\": [[0.0, \"#0d0887\"], [0.1111111111111111, \"#46039f\"], [0.2222222222222222, \"#7201a8\"], [0.3333333333333333, \"#9c179e\"], [0.4444444444444444, \"#bd3786\"], [0.5555555555555556, \"#d8576b\"], [0.6666666666666666, \"#ed7953\"], [0.7777777777777778, \"#fb9f3a\"], [0.8888888888888888, \"#fdca26\"], [1.0, \"#f0f921\"]], \"type\": \"surface\"}], \"table\": [{\"cells\": {\"fill\": {\"color\": \"#EBF0F8\"}, \"line\": {\"color\": \"white\"}}, \"header\": {\"fill\": {\"color\": \"#C8D4E3\"}, \"line\": {\"color\": \"white\"}}, \"type\": \"table\"}]}, \"layout\": {\"annotationdefaults\": {\"arrowcolor\": \"#2a3f5f\", \"arrowhead\": 0, \"arrowwidth\": 1}, \"coloraxis\": {\"colorbar\": {\"outlinewidth\": 0, \"ticks\": \"\"}}, \"colorscale\": {\"diverging\": [[0, \"#8e0152\"], [0.1, \"#c51b7d\"], [0.2, \"#de77ae\"], [0.3, \"#f1b6da\"], [0.4, \"#fde0ef\"], [0.5, \"#f7f7f7\"], [0.6, \"#e6f5d0\"], [0.7, \"#b8e186\"], [0.8, \"#7fbc41\"], [0.9, \"#4d9221\"], [1, \"#276419\"]], \"sequential\": [[0.0, \"#0d0887\"], [0.1111111111111111, \"#46039f\"], [0.2222222222222222, \"#7201a8\"], [0.3333333333333333, \"#9c179e\"], [0.4444444444444444, \"#bd3786\"], [0.5555555555555556, \"#d8576b\"], [0.6666666666666666, \"#ed7953\"], [0.7777777777777778, \"#fb9f3a\"], [0.8888888888888888, \"#fdca26\"], [1.0, \"#f0f921\"]], \"sequentialminus\": [[0.0, \"#0d0887\"], [0.1111111111111111, \"#46039f\"], [0.2222222222222222, \"#7201a8\"], [0.3333333333333333, \"#9c179e\"], [0.4444444444444444, \"#bd3786\"], [0.5555555555555556, \"#d8576b\"], [0.6666666666666666, \"#ed7953\"], [0.7777777777777778, \"#fb9f3a\"], [0.8888888888888888, \"#fdca26\"], [1.0, \"#f0f921\"]]}, \"colorway\": [\"#636efa\", \"#EF553B\", \"#00cc96\", \"#ab63fa\", \"#FFA15A\", \"#19d3f3\", \"#FF6692\", \"#B6E880\", \"#FF97FF\", \"#FECB52\"], \"font\": {\"color\": \"#2a3f5f\"}, \"geo\": {\"bgcolor\": \"white\", \"lakecolor\": \"white\", \"landcolor\": \"#E5ECF6\", \"showlakes\": true, \"showland\": true, \"subunitcolor\": \"white\"}, \"hoverlabel\": {\"align\": \"left\"}, \"hovermode\": \"closest\", \"mapbox\": {\"style\": \"light\"}, \"paper_bgcolor\": \"white\", \"plot_bgcolor\": \"#E5ECF6\", \"polar\": {\"angularaxis\": {\"gridcolor\": \"white\", \"linecolor\": \"white\", \"ticks\": \"\"}, \"bgcolor\": \"#E5ECF6\", \"radialaxis\": {\"gridcolor\": \"white\", \"linecolor\": \"white\", \"ticks\": \"\"}}, \"scene\": {\"xaxis\": {\"backgroundcolor\": \"#E5ECF6\", \"gridcolor\": \"white\", \"gridwidth\": 2, \"linecolor\": \"white\", \"showbackground\": true, \"ticks\": \"\", \"zerolinecolor\": \"white\"}, \"yaxis\": {\"backgroundcolor\": \"#E5ECF6\", \"gridcolor\": \"white\", \"gridwidth\": 2, \"linecolor\": \"white\", \"showbackground\": true, \"ticks\": \"\", \"zerolinecolor\": \"white\"}, \"zaxis\": {\"backgroundcolor\": \"#E5ECF6\", \"gridcolor\": \"white\", \"gridwidth\": 2, \"linecolor\": \"white\", \"showbackground\": true, \"ticks\": \"\", \"zerolinecolor\": \"white\"}}, \"shapedefaults\": {\"line\": {\"color\": \"#2a3f5f\"}}, \"ternary\": {\"aaxis\": {\"gridcolor\": \"white\", \"linecolor\": \"white\", \"ticks\": \"\"}, \"baxis\": {\"gridcolor\": \"white\", \"linecolor\": \"white\", \"ticks\": \"\"}, \"bgcolor\": \"#E5ECF6\", \"caxis\": {\"gridcolor\": \"white\", \"linecolor\": \"white\", \"ticks\": \"\"}}, \"title\": {\"x\": 0.05}, \"xaxis\": {\"automargin\": true, \"gridcolor\": \"white\", \"linecolor\": \"white\", \"ticks\": \"\", \"title\": {\"standoff\": 15}, \"zerolinecolor\": \"white\", \"zerolinewidth\": 2}, \"yaxis\": {\"automargin\": true, \"gridcolor\": \"white\", \"linecolor\": \"white\", \"ticks\": \"\", \"title\": {\"standoff\": 15}, \"zerolinecolor\": \"white\", \"zerolinewidth\": 2}}}, \"title\": {\"text\": \"Keywords Plots\"}, \"width\": 1200, \"xaxis\": {\"anchor\": \"y\", \"domain\": [0.0, 0.2888888888888889]}, \"xaxis2\": {\"anchor\": \"y2\", \"domain\": [0.35555555555555557, 0.6444444444444445]}, \"xaxis3\": {\"anchor\": \"y3\", \"domain\": [0.7111111111111111, 1.0]}, \"yaxis\": {\"anchor\": \"x\", \"domain\": [0.0, 1.0]}, \"yaxis2\": {\"anchor\": \"x2\", \"domain\": [0.0, 1.0]}, \"yaxis3\": {\"anchor\": \"x3\", \"domain\": [0.0, 1.0]}},\n",
              "                        {\"responsive\": true}\n",
              "                    ).then(function(){\n",
              "                            \n",
              "var gd = document.getElementById('b37b3e87-c394-4f69-8a22-f724f332a28d');\n",
              "var x = new MutationObserver(function (mutations, observer) {{\n",
              "        var display = window.getComputedStyle(gd).display;\n",
              "        if (!display || display === 'none') {{\n",
              "            console.log([gd, 'removed!']);\n",
              "            Plotly.purge(gd);\n",
              "            observer.disconnect();\n",
              "        }}\n",
              "}});\n",
              "\n",
              "// Listen for the removal of the full notebook cells\n",
              "var notebookContainer = gd.closest('#notebook-container');\n",
              "if (notebookContainer) {{\n",
              "    x.observe(notebookContainer, {childList: true});\n",
              "}}\n",
              "\n",
              "// Listen for the clearing of the current output cell\n",
              "var outputEl = gd.closest('.output');\n",
              "if (outputEl) {{\n",
              "    x.observe(outputEl, {childList: true});\n",
              "}}\n",
              "\n",
              "                        })\n",
              "                };\n",
              "                \n",
              "            </script>\n",
              "        </div>\n",
              "</body>\n",
              "</html>"
            ]
          },
          "metadata": {}
        }
      ],
      "source": [
        "def horizontal_bar_chart(cnt_srs, color):\n",
        "    trace = go.Bar(\n",
        "        y=cnt_srs.index[::-1],\n",
        "        x=cnt_srs.values[::-1],\n",
        "        showlegend=False,\n",
        "        orientation = 'h',\n",
        "        marker=dict(\n",
        "            color=color,\n",
        "        ),\n",
        "    )\n",
        "    return trace\n",
        "cnt_srs = data.groupby('keyword')['transactionRevenue'].agg(['size', 'count', 'mean'])\n",
        "cnt_srs.columns = [\"count\", \"count of non-zero revenue\", \"mean\"]\n",
        "cnt_srs = cnt_srs.sort_values(by=\"count\", ascending=False)\n",
        "trace1 = horizontal_bar_chart(cnt_srs[\"count\"].head(10), 'rgba(58, 71, 80, 0.6)')\n",
        "trace2 = horizontal_bar_chart(cnt_srs[\"count of non-zero revenue\"].head(10), 'rgba(58, 71, 80, 0.6)')\n",
        "trace3 = horizontal_bar_chart(cnt_srs[\"mean\"].head(10), 'rgba(58, 71, 80, 0.6)')\n",
        "\n",
        "fig = make_subplots(rows=1, cols=3, vertical_spacing=0.04, \n",
        "                          subplot_titles=[\"Keyword - Count\", \"Keyword - Non-zero Revenue Count\", \"Keyword - Mean Revenue\",\n",
        "                                                    ])\n",
        "fig.append_trace(trace1, 1, 1)\n",
        "fig.append_trace(trace2, 1, 2)\n",
        "fig.append_trace(trace3, 1, 3)\n",
        "fig['layout'].update(height=1200, width=1200, paper_bgcolor='rgb(233,233,233)', title=\"Keywords Plots\")\n",
        "py.iplot(fig, filename='device-plots')\n",
        "fig.show()"
      ]
    },
    {
      "cell_type": "markdown",
      "metadata": {
        "id": "fFydMbDbZjdt"
      },
      "source": [
        "We can find that most of people who buy the things without the keywords,so we decided to delete this feature"
      ]
    },
    {
      "cell_type": "code",
      "execution_count": null,
      "metadata": {
        "id": "HLESlHxnZu5n"
      },
      "outputs": [],
      "source": [
        "data=data.drop(['keyword'],axis=1)"
      ]
    },
    {
      "cell_type": "markdown",
      "metadata": {
        "id": "2yLn-4rNcJP9"
      },
      "source": [
        "Then,referralPath"
      ]
    },
    {
      "cell_type": "code",
      "execution_count": null,
      "metadata": {
        "id": "YeBRR5rlcAMT",
        "colab": {
          "base_uri": "https://localhost:8080/"
        },
        "outputId": "fe7d7dfb-e93d-47c8-a7ba-13f37ea6a5f0"
      },
      "outputs": [
        {
          "output_type": "execute_result",
          "data": {
            "text/plain": [
              "/                                                                1104\n",
              "/yt/about/                                                        706\n",
              "/analytics/web/                                                   151\n",
              "/yt/about/es-419/                                                 146\n",
              "/yt/about/ru/                                                     131\n",
              "                                                                 ... \n",
              "/intl/ru/permissions/using-the-logo.html                            1\n",
              "/document/d/1_U0SrqFdOmykhZ1MdWyGEInX5ERDTQrg0171OSIqaWU/edit       1\n",
              "/cm/CampaignMgmt                                                    1\n",
              "/od/Things-To-Do-in-Silicon-Valley/fl/                              1\n",
              "/intl/hi/permissions/using-the-logo.html                            1\n",
              "Name: referralPath, Length: 210, dtype: int64"
            ]
          },
          "metadata": {},
          "execution_count": 30
        }
      ],
      "source": [
        "data.referralPath.value_counts()"
      ]
    },
    {
      "cell_type": "code",
      "execution_count": null,
      "metadata": {
        "id": "IkXtF0u-cN0Z"
      },
      "outputs": [],
      "source": [
        "data=data.drop(['referralPath'],axis=1)"
      ]
    },
    {
      "cell_type": "code",
      "execution_count": null,
      "metadata": {
        "id": "LYkQI3mkgNGb",
        "colab": {
          "base_uri": "https://localhost:8080/"
        },
        "outputId": "e5e12a0f-2b99-45a6-f9be-ad69d666bb27"
      },
      "outputs": [
        {
          "output_type": "execute_result",
          "data": {
            "text/plain": [
              "16990000.0     3\n",
              "13590000.0     2\n",
              "44790000.0     2\n",
              "24990000.0     2\n",
              "30390000.0     2\n",
              "              ..\n",
              "35320000.0     1\n",
              "166420000.0    1\n",
              "106260000.0    1\n",
              "179160000.0    1\n",
              "111160000.0    1\n",
              "Name: transactionRevenue, Length: 156, dtype: int64"
            ]
          },
          "metadata": {},
          "execution_count": 32
        }
      ],
      "source": [
        "data.transactionRevenue.value_counts()"
      ]
    },
    {
      "cell_type": "markdown",
      "metadata": {
        "id": "ZFC6dwAlgS4V"
      },
      "source": [
        "Missing value here means no transaction revenue,so we fill with 0."
      ]
    },
    {
      "cell_type": "code",
      "execution_count": null,
      "metadata": {
        "id": "MPe0KFezgPb0"
      },
      "outputs": [],
      "source": [
        "data.transactionRevenue=data.transactionRevenue.fillna(0)"
      ]
    },
    {
      "cell_type": "code",
      "execution_count": null,
      "metadata": {
        "id": "mSfSLtKEgVkv",
        "colab": {
          "base_uri": "https://localhost:8080/"
        },
        "outputId": "e1fbb327-82e7-4ac6-9857-6c2cb22121ff"
      },
      "outputs": [
        {
          "output_type": "execute_result",
          "data": {
            "text/plain": [
              "Google Merchandise Collection       70\n",
              "Full auto ad IMAGE ONLY             18\n",
              "Ad from 12/13/16                    15\n",
              "Display Ad created 3/11/15          10\n",
              "Display Ad created 3/11/14          10\n",
              "Google Online Store                 10\n",
              "Ad from 11/3/16                      5\n",
              "{KeyWord:Want Google Stickers?}      3\n",
              "Ad from 11/7/16                      3\n",
              "First Full Auto Template Test Ad     3\n",
              "{KeyWord:Google Brand Items}         2\n",
              "{KeyWord:Google Branded Gear}        1\n",
              "{KeyWord:Google Merchandise}         1\n",
              "{KeyWord:Google Men's T-Shirts}      1\n",
              "{KeyWord:Google Drinkware}           1\n",
              "{KeyWord:Google Branded Apparel}     1\n",
              "Display Ad created 11/17/14          1\n",
              "Name: adContent, dtype: int64"
            ]
          },
          "metadata": {},
          "execution_count": 34
        }
      ],
      "source": [
        "data.adContent.value_counts()"
      ]
    },
    {
      "cell_type": "markdown",
      "metadata": {
        "id": "w3fUapBogZEw"
      },
      "source": [
        "We can translate this columne to \"haveAd\",which means,if this People have looked the Ad"
      ]
    },
    {
      "cell_type": "code",
      "execution_count": null,
      "metadata": {
        "id": "-AuGU9pUgXGV"
      },
      "outputs": [],
      "source": [
        "data.adContent=data.adContent.fillna(0)\n",
        "def change(a):\n",
        "  if type(a) is int:\n",
        "    return False\n",
        "  else:\n",
        "    return True\n",
        "data['haveAd']=data.apply(lambda x:change(x['adContent']),axis=1)\n",
        "data['haveAd'].value_counts()\n",
        "data=data.drop(['adContent'],axis=1)"
      ]
    },
    {
      "cell_type": "code",
      "execution_count": null,
      "metadata": {
        "id": "Gg25OClohFRN",
        "colab": {
          "base_uri": "https://localhost:8080/"
        },
        "outputId": "310bfc0d-c27f-4777-eb48-59c23df157fc"
      },
      "outputs": [
        {
          "output_type": "execute_result",
          "data": {
            "text/plain": [
              "Cj0KEQjwxqS-BRDRgPLp0q2t0IUBEiQAgfMXRLIyC4WoAABLm_mr4SI2fyuPXhlC4kX2y46BYNULOMoaAjKw8P8HAQ      3\n",
              "CjwKEAjw-LLKBRCdhqmwtYmX93kSJAAORDM6K_vERGGpVExrh9ITmLoG1Ac8SdTNfUUUAU_WteWWUxoCKHrw_wcB        3\n",
              "Cj0KEQjwxqS-BRDRgPLp0q2t0IUBEiQAgfMXRH-5Tu9PGZis9p-f_ogVLZzGImPNU92yFNBEREikqg8aAkEy8P8HAQ      2\n",
              "CjwKEAiA2abEBRCdx7PqqunM1CYSJABf3qvaYo-gemeP401G6Cx2w8d0nbyvgnl7eNqwFbakIctcnxoCOAvw_wcB        2\n",
              "COThldqn0dICFVuBswodwK0P5A                                                                      2\n",
              "                                                                                               ..\n",
              "Cj0KCQiAgJTGBRDLARIsACMWgOLLZaCafhcRHKx_lmiKN4Uqb1Ya_SLoRqCj_JnPntfUFEffQ4EtEHMaApciEALw_wcB    1\n",
              "Cj0KEQjwxqS-BRDRgPLp0q2t0IUBEiQAgfMXRJtPPaiEqg8jzbA1mqp1uSM4c90Mj6Q-nlgex9sXwIoaAlQO8P8HAQ      1\n",
              "CKP_2ar81NQCFc26wAodGrIOMA                                                                      1\n",
              "Cj0KEQjwxqS-BRDRgPLp0q2t0IUBEiQAgfMXRGJKiDZWo9lxaiTgOivHRIsCM0VGoDxlpWqY4_aaPAUaAmRy8P8HAQ      1\n",
              "CjwKEAiA2abEBRCdx7PqqunM1CYSJABf3qvax-qhnnNUTqWFUgUVe7dZTEjTUzkvTzogoCiCPeHV0BoCxE7w_wcB        1\n",
              "Name: gclId, Length: 268, dtype: int64"
            ]
          },
          "metadata": {},
          "execution_count": 36
        }
      ],
      "source": [
        "data.gclId.value_counts()"
      ]
    },
    {
      "cell_type": "markdown",
      "metadata": {
        "id": "UlMFB37-hI82"
      },
      "source": [
        "It is really a really messy feature,we decide to delete."
      ]
    },
    {
      "cell_type": "code",
      "execution_count": null,
      "metadata": {
        "id": "FoHfM8KehIUK"
      },
      "outputs": [],
      "source": [
        "data=data.drop(['gclId'],axis=1)"
      ]
    },
    {
      "cell_type": "code",
      "execution_count": null,
      "metadata": {
        "id": "dhLCKJK2hSdg",
        "colab": {
          "base_uri": "https://localhost:8080/"
        },
        "outputId": "16ef2ef5-bc1c-4127-f9f2-f05518fe18e6"
      },
      "outputs": [
        {
          "output_type": "execute_result",
          "data": {
            "text/plain": [
              "1.0    282\n",
              "5.0      2\n",
              "Name: page, dtype: int64"
            ]
          },
          "metadata": {},
          "execution_count": 38
        }
      ],
      "source": [
        "data.page.value_counts()"
      ]
    },
    {
      "cell_type": "code",
      "execution_count": null,
      "metadata": {
        "id": "yhYumIpThVge",
        "colab": {
          "base_uri": "https://localhost:8080/"
        },
        "outputId": "c951d628-e349-483f-b2a9-4c02d14d1426"
      },
      "outputs": [
        {
          "output_type": "execute_result",
          "data": {
            "text/plain": [
              "Top    281\n",
              "RHS      3\n",
              "Name: slot, dtype: int64"
            ]
          },
          "metadata": {},
          "execution_count": 39
        }
      ],
      "source": [
        "data.slot.value_counts()"
      ]
    },
    {
      "cell_type": "markdown",
      "metadata": {
        "id": "Dm2QCmUNjnUl"
      },
      "source": [
        "These two feature we also decided to delete."
      ]
    },
    {
      "cell_type": "code",
      "execution_count": null,
      "metadata": {
        "id": "BGu1vAgqhaPp"
      },
      "outputs": [],
      "source": [
        "data=data.drop(['page','slot'],axis=1)"
      ]
    },
    {
      "cell_type": "code",
      "execution_count": null,
      "metadata": {
        "id": "h7c4MWf_j0iQ",
        "colab": {
          "base_uri": "https://localhost:8080/"
        },
        "outputId": "7693bb55-eef5-4f4b-e3d2-fd1727d34bcc"
      },
      "outputs": [
        {
          "output_type": "execute_result",
          "data": {
            "text/plain": [
              "channelGrouping       0\n",
              "isMobile              0\n",
              "operatingSystem       0\n",
              "browser               0\n",
              "networkDomain         0\n",
              "city                  0\n",
              "metro                 0\n",
              "region                0\n",
              "country               0\n",
              "subContinent          0\n",
              "continent             0\n",
              "deviceCategory        0\n",
              "transactionRevenue    0\n",
              "hits                  0\n",
              "medium                0\n",
              "source                0\n",
              "campaign              0\n",
              "visitStartTime        0\n",
              "visitNumber           0\n",
              "visitId               0\n",
              "sessionId             0\n",
              "fullVisitorId         0\n",
              "date                  0\n",
              "pageviews             0\n",
              "haveAd                0\n",
              "dtype: int64"
            ]
          },
          "metadata": {},
          "execution_count": 41
        }
      ],
      "source": [
        "data.isnull().sum().sort_values()"
      ]
    },
    {
      "cell_type": "markdown",
      "metadata": {
        "id": "gTXoPsWIn0OK"
      },
      "source": [
        "Change the type of date"
      ]
    },
    {
      "cell_type": "code",
      "execution_count": null,
      "metadata": {
        "id": "Rpvjfuk7nyhD"
      },
      "outputs": [],
      "source": [
        "import datetime\n",
        "data[\"date\"] = pd.to_datetime(data[\"date\"],format=\"%Y%m%d\")\n",
        "data[\"visitStartTime\"] = pd.to_datetime(data[\"visitStartTime\"],unit='s')"
      ]
    },
    {
      "cell_type": "markdown",
      "metadata": {
        "id": "poCOsud8j6ez"
      },
      "source": [
        "## Data visualization"
      ]
    },
    {
      "cell_type": "markdown",
      "metadata": {
        "id": "u3RN-EjwkDXV"
      },
      "source": [
        "The distribution of the Revenue"
      ]
    },
    {
      "cell_type": "code",
      "execution_count": null,
      "metadata": {
        "id": "5Wpp_DDsj8wr",
        "colab": {
          "base_uri": "https://localhost:8080/",
          "height": 190
        },
        "outputId": "0c633148-b8f3-45cd-9934-662a34fe349f"
      },
      "outputs": [
        {
          "output_type": "stream",
          "name": "stdout",
          "text": [
            "Transaction Revenue Min Value:  1990000.0\n",
            "Transaction Revenue Mean Value:  137365090.9090909\n",
            "Transaction Revenue Median Value:  57580000.0\n",
            "Transaction Revenue Max Value:  1188550000.0\n"
          ]
        },
        {
          "output_type": "stream",
          "name": "stderr",
          "text": [
            "/usr/local/lib/python3.7/dist-packages/seaborn/distributions.py:2619: FutureWarning:\n",
            "\n",
            "`distplot` is a deprecated function and will be removed in a future version. Please adapt your code to use either `displot` (a figure-level function with similar flexibility) or `histplot` (an axes-level function for histograms).\n",
            "\n"
          ]
        },
        {
          "output_type": "display_data",
          "data": {
            "image/png": "[encoded data removed]",
            "text/plain": [
              "<Figure size 1008x360 with 2 Axes>"
            ]
          },
          "metadata": {
            "needs_background": "light"
          }
        }
      ],
      "source": [
        "import matplotlib.pyplot as plt\n",
        "import seaborn as sns\n",
        "import numpy as np\n",
        "# Printing some statistics of our data\n",
        "print(\"Transaction Revenue Min Value: \", \n",
        "      data[data['transactionRevenue'] > 0][\"transactionRevenue\"].min()) # printing the min value\n",
        "print(\"Transaction Revenue Mean Value: \", \n",
        "      data[data['transactionRevenue'] > 0][\"transactionRevenue\"].mean()) # mean value\n",
        "print(\"Transaction Revenue Median Value: \", \n",
        "      data[data['transactionRevenue'] > 0][\"transactionRevenue\"].median()) # median value\n",
        "print(\"Transaction Revenue Max Value: \", \n",
        "      data[data['transactionRevenue'] > 0][\"transactionRevenue\"].max()) # the max value\n",
        "\n",
        "\n",
        "plt.figure(figsize=(14,5))\n",
        "plt.subplot(1,2,1)\n",
        "ax = sns.distplot(np.log(data[data['transactionRevenue'] > 0][\"transactionRevenue\"] + 0.01), bins=40, kde=True)\n",
        "ax.set_xlabel('Transaction RevenueLog', fontsize=15) #seting the xlabel and size of font\n",
        "ax.set_ylabel('Distribuition', fontsize=15) #seting the ylabel and size of font\n",
        "ax.set_title(\"Distribuition of Revenue Log\", fontsize=20) #seting the title and size of font\n",
        "\n",
        "# setting the second plot of our grid of graphs\n",
        "plt.subplot(1,2,2)\n",
        "# ordering the total of users and seting the values of transactions to understanding \n",
        "plt.scatter(range(data.shape[0]), np.sort(data['transactionRevenue'].values))\n",
        "plt.xlabel('Index', fontsize=15) # xlabel and size of words\n",
        "plt.ylabel('Revenue value', fontsize=15) # ylabel and size of words\n",
        "plt.title(\"Revenue Value Distribution\", fontsize=20) # Setting Title and fontsize\n",
        "\n",
        "plt.show()"
      ]
    },
    {
      "cell_type": "markdown",
      "metadata": {
        "id": "gW3pt81pkJd2"
      },
      "source": [
        "Nice distribuition... We have very high values on the Transactions Revenue.\n"
      ]
    },
    {
      "cell_type": "markdown",
      "metadata": {
        "id": "NDzLGswDkMl4"
      },
      "source": [
        "Device browsers\n",
        "The top 10 of browsers represente of % total"
      ]
    },
    {
      "cell_type": "code",
      "execution_count": null,
      "metadata": {
        "id": "fCI5l9FnkXnl",
        "colab": {
          "base_uri": "https://localhost:8080/",
          "height": 326
        },
        "outputId": "b9b9beeb-5fbe-423d-f4ea-acc50cf323df"
      },
      "outputs": [
        {
          "output_type": "stream",
          "name": "stdout",
          "text": [
            "Percentual of Browser usage: \n",
            "YaBrowser             0.262334\n",
            "Safari (in-app)       0.575442\n",
            "Opera Mini            0.744690\n",
            "Opera                 0.846238\n",
            "Android Webview       1.091648\n",
            "Edge                  1.430143\n",
            "Internet Explorer     2.538715\n",
            "Firefox               4.832022\n",
            "Safari               17.229415\n",
            "Chrome               69.831599\n",
            "Name: browser, dtype: float64\n"
          ]
        },
        {
          "output_type": "stream",
          "name": "stderr",
          "text": [
            "/usr/local/lib/python3.7/dist-packages/seaborn/_decorators.py:43: FutureWarning:\n",
            "\n",
            "Pass the following variable as a keyword arg: x. From version 0.12, the only valid positional argument will be `data`, and passing other arguments without an explicit keyword will result in an error or misinterpretation.\n",
            "\n"
          ]
        },
        {
          "output_type": "display_data",
          "data": {
            "image/png": "[encoded data removed]",
            "text/plain": [
              "<Figure size 1008x432 with 1 Axes>"
            ]
          },
          "metadata": {
            "needs_background": "light"
          }
        }
      ],
      "source": [
        "# the top 10 of browsers represent % of total\n",
        "print(\"Percentual of Browser usage: \")\n",
        "print(data['browser'].value_counts().sort_values()[-10:]/len(data)*100 ) # printing the top 7 percentage of browsers\n",
        "\n",
        "# seting the graph size\n",
        "plt.figure(figsize=(14,6))\n",
        "\n",
        "# Let explore the browser used by users\n",
        "sns.countplot(data[data['browser'].isin(data['browser'].value_counts().sort_values()[-10:].index.values)]['browser']\n",
        ", palette=\"hls\") # It's a module to count the category's\n",
        "plt.title(\"TOP 10 Most Frequent Browsers\", fontsize=20) # Adding Title and seting the size\n",
        "plt.xlabel(\"Browser Names\", fontsize=16) # Adding x label and seting the size\n",
        "plt.ylabel(\"Count\", fontsize=16) # Adding y label and seting the size\n",
        "plt.xticks(rotation=45) # Adjust the xticks, rotating the labels\n",
        "\n",
        "plt.show() #use plt.show to render the graph that we did above"
      ]
    },
    {
      "cell_type": "markdown",
      "metadata": {
        "id": "KY6dOuv-kdH3"
      },
      "source": [
        "\n",
        "In our top 5 browsers we have more than 94% of total\n",
        "\n",
        "TOP 1 - CHROME - 69,83%\n",
        "TOP 2 - SAFARI - 17,22%\n",
        "TOP 3 - FIREFOX - 5,83%"
      ]
    },
    {
      "cell_type": "markdown",
      "metadata": {
        "id": "acwOJe8UkfAp"
      },
      "source": [
        "Device Information:"
      ]
    },
    {
      "cell_type": "code",
      "execution_count": null,
      "metadata": {
        "id": "KKq_vCNwk0XV"
      },
      "outputs": [],
      "source": [
        "from plotly.subplots import make_subplots\n",
        "import plotly.offline as py\n",
        "import plotly.graph_objs as go\n"
      ]
    },
    {
      "cell_type": "code",
      "execution_count": null,
      "metadata": {
        "id": "VhgvkQ2xk54G",
        "colab": {
          "base_uri": "https://localhost:8080/",
          "height": 1000
        },
        "outputId": "3d3eb73c-7ac0-441b-f196-087542e8a4ad"
      },
      "outputs": [
        {
          "output_type": "display_data",
          "data": {
            "text/html": [
              "<html>\n",
              "<head><meta charset=\"utf-8\" /></head>\n",
              "<body>\n",
              "    <div>\n",
              "            <script src=\"https://cdnjs.cloudflare.com/ajax/libs/mathjax/2.7.5/MathJax.js?config=TeX-AMS-MML_SVG\"></script><script type=\"text/javascript\">if (window.MathJax) {MathJax.Hub.Config({SVG: {font: \"STIX-Web\"}});}</script>\n",
              "                <script type=\"text/javascript\">window.PlotlyConfig = {MathJaxConfig: 'local'};</script>\n",
              "        <script src=\"https://cdn.plot.ly/plotly-latest.min.js\"></script>    \n",
              "            <div id=\"0194fa88-9917-4bcc-8823-29aca3138337\" class=\"plotly-graph-div\" style=\"height:1200px; width:1200px;\"></div>\n",
              "            <script type=\"text/javascript\">\n",
              "                \n",
              "                    window.PLOTLYENV=window.PLOTLYENV || {};\n",
              "                    \n",
              "                if (document.getElementById(\"0194fa88-9917-4bcc-8823-29aca3138337\")) {\n",
              "                    Plotly.newPlot(\n",
              "                        '0194fa88-9917-4bcc-8823-29aca3138337',\n",
              "                        [{\"marker\": {\"color\": \"rgba(50, 171, 96, 0.6)\"}, \"orientation\": \"h\", \"showlegend\": false, \"type\": \"bar\", \"x\": [31, 68, 88, 100, 129, 169, 300, 571, 2036, 8252], \"xaxis\": \"x\", \"y\": [\"YaBrowser\", \"Safari (in-app)\", \"Opera Mini\", \"Opera\", \"Android Webview\", \"Edge\", \"Internet Explorer\", \"Firefox\", \"Safari\", \"Chrome\"], \"yaxis\": \"y\"}, {\"marker\": {\"color\": \"rgba(50, 171, 96, 0.6)\"}, \"orientation\": \"h\", \"showlegend\": false, \"type\": \"bar\", \"x\": [31, 68, 88, 100, 129, 169, 300, 571, 2036, 8252], \"xaxis\": \"x2\", \"y\": [\"YaBrowser\", \"Safari (in-app)\", \"Opera Mini\", \"Opera\", \"Android Webview\", \"Edge\", \"Internet Explorer\", \"Firefox\", \"Safari\", \"Chrome\"], \"yaxis\": \"y2\"}, {\"marker\": {\"color\": \"rgba(50, 171, 96, 0.6)\"}, \"orientation\": \"h\", \"showlegend\": false, \"type\": \"bar\", \"x\": [0.0, 249558.82352941178, 0.0, 0.0, 0.0, 200946.74556213018, 0.0, 113537.65323992995, 368138.5068762279, 2641777.7508482793], \"xaxis\": \"x3\", \"y\": [\"YaBrowser\", \"Safari (in-app)\", \"Opera Mini\", \"Opera\", \"Android Webview\", \"Edge\", \"Internet Explorer\", \"Firefox\", \"Safari\", \"Chrome\"], \"yaxis\": \"y3\"}, {\"marker\": {\"color\": \"rgba(71, 58, 131, 0.8)\"}, \"orientation\": \"h\", \"showlegend\": false, \"type\": \"bar\", \"x\": [414, 2884, 8519], \"xaxis\": \"x4\", \"y\": [\"tablet\", \"mobile\", \"desktop\"], \"yaxis\": \"y4\"}, {\"marker\": {\"color\": \"rgba(71, 58, 131, 0.8)\"}, \"orientation\": \"h\", \"showlegend\": false, \"type\": \"bar\", \"x\": [414, 2884, 8519], \"xaxis\": \"x5\", \"y\": [\"tablet\", \"mobile\", \"desktop\"], \"yaxis\": \"y5\"}, {\"marker\": {\"color\": \"rgba(71, 58, 131, 0.8)\"}, \"orientation\": \"h\", \"showlegend\": false, \"type\": \"bar\", \"x\": [0.0, 173782.94036061026, 2601719.6854090854], \"xaxis\": \"x6\", \"y\": [\"tablet\", \"mobile\", \"desktop\"], \"yaxis\": \"y6\"}, {\"marker\": {\"color\": \"rgba(246, 78, 139, 0.6)\"}, \"orientation\": \"h\", \"showlegend\": false, \"type\": \"bar\", \"x\": [4, 4, 24, 56, 373, 541, 1496, 1701, 2882, 4730], \"xaxis\": \"x7\", \"y\": [\"Samsung\", \"BlackBerry\", \"Windows Phone\", \"(not set)\", \"Chrome OS\", \"Linux\", \"iOS\", \"Android\", \"Macintosh\", \"Windows\"], \"yaxis\": \"y7\"}, {\"marker\": {\"color\": \"rgba(246, 78, 139, 0.6)\"}, \"orientation\": \"h\", \"showlegend\": false, \"type\": \"bar\", \"x\": [4, 4, 24, 56, 373, 541, 1496, 1701, 2882, 4730], \"xaxis\": \"x8\", \"y\": [\"Samsung\", \"BlackBerry\", \"Windows Phone\", \"(not set)\", \"Chrome OS\", \"Linux\", \"iOS\", \"Android\", \"Macintosh\", \"Windows\"], \"yaxis\": \"y8\"}, {\"marker\": {\"color\": \"rgba(246, 78, 139, 0.6)\"}, \"orientation\": \"h\", \"showlegend\": false, \"type\": \"bar\", \"x\": [0.0, 0.0, 1100000.0, 0.0, 7409034.852546917, 1623438.0776340112, 211838.23529411765, 92815.99059376837, 5550357.390700902, 534052.8541226216], \"xaxis\": \"x9\", \"y\": [\"Samsung\", \"BlackBerry\", \"Windows Phone\", \"(not set)\", \"Chrome OS\", \"Linux\", \"iOS\", \"Android\", \"Macintosh\", \"Windows\"], \"yaxis\": \"y9\"}],\n",
              "                        {\"annotations\": [{\"font\": {\"size\": 16}, \"showarrow\": false, \"text\": \"Device Browser - Count\", \"x\": 0.14444444444444446, \"xanchor\": \"center\", \"xref\": \"paper\", \"y\": 1.0, \"yanchor\": \"bottom\", \"yref\": \"paper\"}, {\"font\": {\"size\": 16}, \"showarrow\": false, \"text\": \"Device Browser - Non-zero Revenue Count\", \"x\": 0.5, \"xanchor\": \"center\", \"xref\": \"paper\", \"y\": 1.0, \"yanchor\": \"bottom\", \"yref\": \"paper\"}, {\"font\": {\"size\": 16}, \"showarrow\": false, \"text\": \"Device Browser - Mean Revenue\", \"x\": 0.8555555555555556, \"xanchor\": \"center\", \"xref\": \"paper\", \"y\": 1.0, \"yanchor\": \"bottom\", \"yref\": \"paper\"}, {\"font\": {\"size\": 16}, \"showarrow\": false, \"text\": \"Device Category - Count\", \"x\": 0.14444444444444446, \"xanchor\": \"center\", \"xref\": \"paper\", \"y\": 0.6533333333333333, \"yanchor\": \"bottom\", \"yref\": \"paper\"}, {\"font\": {\"size\": 16}, \"showarrow\": false, \"text\": \"Device Category - Non-zero Revenue Count\", \"x\": 0.5, \"xanchor\": \"center\", \"xref\": \"paper\", \"y\": 0.6533333333333333, \"yanchor\": \"bottom\", \"yref\": \"paper\"}, {\"font\": {\"size\": 16}, \"showarrow\": false, \"text\": \"Device Category - Mean Revenue\", \"x\": 0.8555555555555556, \"xanchor\": \"center\", \"xref\": \"paper\", \"y\": 0.6533333333333333, \"yanchor\": \"bottom\", \"yref\": \"paper\"}, {\"font\": {\"size\": 16}, \"showarrow\": false, \"text\": \"Device OS - Count\", \"x\": 0.14444444444444446, \"xanchor\": \"center\", \"xref\": \"paper\", \"y\": 0.3066666666666667, \"yanchor\": \"bottom\", \"yref\": \"paper\"}, {\"font\": {\"size\": 16}, \"showarrow\": false, \"text\": \"Device OS - Non-zero Revenue Count\", \"x\": 0.5, \"xanchor\": \"center\", \"xref\": \"paper\", \"y\": 0.3066666666666667, \"yanchor\": \"bottom\", \"yref\": \"paper\"}, {\"font\": {\"size\": 16}, \"showarrow\": false, \"text\": \"Device OS - Mean Revenue\", \"x\": 0.8555555555555556, \"xanchor\": \"center\", \"xref\": \"paper\", \"y\": 0.3066666666666667, \"yanchor\": \"bottom\", \"yref\": \"paper\"}], \"height\": 1200, \"paper_bgcolor\": \"rgb(233,233,233)\", \"template\": {\"data\": {\"bar\": [{\"error_x\": {\"color\": \"#2a3f5f\"}, \"error_y\": {\"color\": \"#2a3f5f\"}, \"marker\": {\"line\": {\"color\": \"#E5ECF6\", \"width\": 0.5}}, \"type\": \"bar\"}], \"barpolar\": [{\"marker\": {\"line\": {\"color\": \"#E5ECF6\", \"width\": 0.5}}, \"type\": \"barpolar\"}], \"carpet\": [{\"aaxis\": {\"endlinecolor\": \"#2a3f5f\", \"gridcolor\": \"white\", \"linecolor\": \"white\", \"minorgridcolor\": \"white\", \"startlinecolor\": \"#2a3f5f\"}, \"baxis\": {\"endlinecolor\": \"#2a3f5f\", \"gridcolor\": \"white\", \"linecolor\": \"white\", \"minorgridcolor\": \"white\", \"startlinecolor\": \"#2a3f5f\"}, \"type\": \"carpet\"}], \"choropleth\": [{\"colorbar\": {\"outlinewidth\": 0, \"ticks\": \"\"}, \"type\": \"choropleth\"}], \"contour\": [{\"colorbar\": {\"outlinewidth\": 0, \"ticks\": \"\"}, \"colorscale\": [[0.0, \"#0d0887\"], [0.1111111111111111, \"#46039f\"], [0.2222222222222222, \"#7201a8\"], [0.3333333333333333, \"#9c179e\"], [0.4444444444444444, \"#bd3786\"], [0.5555555555555556, \"#d8576b\"], [0.6666666666666666, \"#ed7953\"], [0.7777777777777778, \"#fb9f3a\"], [0.8888888888888888, \"#fdca26\"], [1.0, \"#f0f921\"]], \"type\": \"contour\"}], \"contourcarpet\": [{\"colorbar\": {\"outlinewidth\": 0, \"ticks\": \"\"}, \"type\": \"contourcarpet\"}], \"heatmap\": [{\"colorbar\": {\"outlinewidth\": 0, \"ticks\": \"\"}, \"colorscale\": [[0.0, \"#0d0887\"], [0.1111111111111111, \"#46039f\"], [0.2222222222222222, \"#7201a8\"], [0.3333333333333333, \"#9c179e\"], [0.4444444444444444, \"#bd3786\"], [0.5555555555555556, \"#d8576b\"], [0.6666666666666666, \"#ed7953\"], [0.7777777777777778, \"#fb9f3a\"], [0.8888888888888888, \"#fdca26\"], [1.0, \"#f0f921\"]], \"type\": \"heatmap\"}], \"heatmapgl\": [{\"colorbar\": {\"outlinewidth\": 0, \"ticks\": \"\"}, \"colorscale\": [[0.0, \"#0d0887\"], [0.1111111111111111, \"#46039f\"], [0.2222222222222222, \"#7201a8\"], [0.3333333333333333, \"#9c179e\"], [0.4444444444444444, \"#bd3786\"], [0.5555555555555556, \"#d8576b\"], [0.6666666666666666, \"#ed7953\"], [0.7777777777777778, \"#fb9f3a\"], [0.8888888888888888, \"#fdca26\"], [1.0, \"#f0f921\"]], \"type\": \"heatmapgl\"}], \"histogram\": [{\"marker\": {\"colorbar\": {\"outlinewidth\": 0, \"ticks\": \"\"}}, \"type\": \"histogram\"}], \"histogram2d\": [{\"colorbar\": {\"outlinewidth\": 0, \"ticks\": \"\"}, \"colorscale\": [[0.0, \"#0d0887\"], [0.1111111111111111, \"#46039f\"], [0.2222222222222222, \"#7201a8\"], [0.3333333333333333, \"#9c179e\"], [0.4444444444444444, \"#bd3786\"], [0.5555555555555556, \"#d8576b\"], [0.6666666666666666, \"#ed7953\"], [0.7777777777777778, \"#fb9f3a\"], [0.8888888888888888, \"#fdca26\"], [1.0, \"#f0f921\"]], \"type\": \"histogram2d\"}], \"histogram2dcontour\": [{\"colorbar\": {\"outlinewidth\": 0, \"ticks\": \"\"}, \"colorscale\": [[0.0, \"#0d0887\"], [0.1111111111111111, \"#46039f\"], [0.2222222222222222, \"#7201a8\"], [0.3333333333333333, \"#9c179e\"], [0.4444444444444444, \"#bd3786\"], [0.5555555555555556, \"#d8576b\"], [0.6666666666666666, \"#ed7953\"], [0.7777777777777778, \"#fb9f3a\"], [0.8888888888888888, \"#fdca26\"], [1.0, \"#f0f921\"]], \"type\": \"histogram2dcontour\"}], \"mesh3d\": [{\"colorbar\": {\"outlinewidth\": 0, \"ticks\": \"\"}, \"type\": \"mesh3d\"}], \"parcoords\": [{\"line\": {\"colorbar\": {\"outlinewidth\": 0, \"ticks\": \"\"}}, \"type\": \"parcoords\"}], \"pie\": [{\"automargin\": true, \"type\": \"pie\"}], \"scatter\": [{\"marker\": {\"colorbar\": {\"outlinewidth\": 0, \"ticks\": \"\"}}, \"type\": \"scatter\"}], \"scatter3d\": [{\"line\": {\"colorbar\": {\"outlinewidth\": 0, \"ticks\": \"\"}}, \"marker\": {\"colorbar\": {\"outlinewidth\": 0, \"ticks\": \"\"}}, \"type\": \"scatter3d\"}], \"scattercarpet\": [{\"marker\": {\"colorbar\": {\"outlinewidth\": 0, \"ticks\": \"\"}}, \"type\": \"scattercarpet\"}], \"scattergeo\": [{\"marker\": {\"colorbar\": {\"outlinewidth\": 0, \"ticks\": \"\"}}, \"type\": \"scattergeo\"}], \"scattergl\": [{\"marker\": {\"colorbar\": {\"outlinewidth\": 0, \"ticks\": \"\"}}, \"type\": \"scattergl\"}], \"scattermapbox\": [{\"marker\": {\"colorbar\": {\"outlinewidth\": 0, \"ticks\": \"\"}}, \"type\": \"scattermapbox\"}], \"scatterpolar\": [{\"marker\": {\"colorbar\": {\"outlinewidth\": 0, \"ticks\": \"\"}}, \"type\": \"scatterpolar\"}], \"scatterpolargl\": [{\"marker\": {\"colorbar\": {\"outlinewidth\": 0, \"ticks\": \"\"}}, \"type\": \"scatterpolargl\"}], \"scatterternary\": [{\"marker\": {\"colorbar\": {\"outlinewidth\": 0, \"ticks\": \"\"}}, \"type\": \"scatterternary\"}], \"surface\": [{\"colorbar\": {\"outlinewidth\": 0, \"ticks\": \"\"}, \"colorscale\": [[0.0, \"#0d0887\"], [0.1111111111111111, \"#46039f\"], [0.2222222222222222, \"#7201a8\"], [0.3333333333333333, \"#9c179e\"], [0.4444444444444444, \"#bd3786\"], [0.5555555555555556, \"#d8576b\"], [0.6666666666666666, \"#ed7953\"], [0.7777777777777778, \"#fb9f3a\"], [0.8888888888888888, \"#fdca26\"], [1.0, \"#f0f921\"]], \"type\": \"surface\"}], \"table\": [{\"cells\": {\"fill\": {\"color\": \"#EBF0F8\"}, \"line\": {\"color\": \"white\"}}, \"header\": {\"fill\": {\"color\": \"#C8D4E3\"}, \"line\": {\"color\": \"white\"}}, \"type\": \"table\"}]}, \"layout\": {\"annotationdefaults\": {\"arrowcolor\": \"#2a3f5f\", \"arrowhead\": 0, \"arrowwidth\": 1}, \"coloraxis\": {\"colorbar\": {\"outlinewidth\": 0, \"ticks\": \"\"}}, \"colorscale\": {\"diverging\": [[0, \"#8e0152\"], [0.1, \"#c51b7d\"], [0.2, \"#de77ae\"], [0.3, \"#f1b6da\"], [0.4, \"#fde0ef\"], [0.5, \"#f7f7f7\"], [0.6, \"#e6f5d0\"], [0.7, \"#b8e186\"], [0.8, \"#7fbc41\"], [0.9, \"#4d9221\"], [1, \"#276419\"]], \"sequential\": [[0.0, \"#0d0887\"], [0.1111111111111111, \"#46039f\"], [0.2222222222222222, \"#7201a8\"], [0.3333333333333333, \"#9c179e\"], [0.4444444444444444, \"#bd3786\"], [0.5555555555555556, \"#d8576b\"], [0.6666666666666666, \"#ed7953\"], [0.7777777777777778, \"#fb9f3a\"], [0.8888888888888888, \"#fdca26\"], [1.0, \"#f0f921\"]], \"sequentialminus\": [[0.0, \"#0d0887\"], [0.1111111111111111, \"#46039f\"], [0.2222222222222222, \"#7201a8\"], [0.3333333333333333, \"#9c179e\"], [0.4444444444444444, \"#bd3786\"], [0.5555555555555556, \"#d8576b\"], [0.6666666666666666, \"#ed7953\"], [0.7777777777777778, \"#fb9f3a\"], [0.8888888888888888, \"#fdca26\"], [1.0, \"#f0f921\"]]}, \"colorway\": [\"#636efa\", \"#EF553B\", \"#00cc96\", \"#ab63fa\", \"#FFA15A\", \"#19d3f3\", \"#FF6692\", \"#B6E880\", \"#FF97FF\", \"#FECB52\"], \"font\": {\"color\": \"#2a3f5f\"}, \"geo\": {\"bgcolor\": \"white\", \"lakecolor\": \"white\", \"landcolor\": \"#E5ECF6\", \"showlakes\": true, \"showland\": true, \"subunitcolor\": \"white\"}, \"hoverlabel\": {\"align\": \"left\"}, \"hovermode\": \"closest\", \"mapbox\": {\"style\": \"light\"}, \"paper_bgcolor\": \"white\", \"plot_bgcolor\": \"#E5ECF6\", \"polar\": {\"angularaxis\": {\"gridcolor\": \"white\", \"linecolor\": \"white\", \"ticks\": \"\"}, \"bgcolor\": \"#E5ECF6\", \"radialaxis\": {\"gridcolor\": \"white\", \"linecolor\": \"white\", \"ticks\": \"\"}}, \"scene\": {\"xaxis\": {\"backgroundcolor\": \"#E5ECF6\", \"gridcolor\": \"white\", \"gridwidth\": 2, \"linecolor\": \"white\", \"showbackground\": true, \"ticks\": \"\", \"zerolinecolor\": \"white\"}, \"yaxis\": {\"backgroundcolor\": \"#E5ECF6\", \"gridcolor\": \"white\", \"gridwidth\": 2, \"linecolor\": \"white\", \"showbackground\": true, \"ticks\": \"\", \"zerolinecolor\": \"white\"}, \"zaxis\": {\"backgroundcolor\": \"#E5ECF6\", \"gridcolor\": \"white\", \"gridwidth\": 2, \"linecolor\": \"white\", \"showbackground\": true, \"ticks\": \"\", \"zerolinecolor\": \"white\"}}, \"shapedefaults\": {\"line\": {\"color\": \"#2a3f5f\"}}, \"ternary\": {\"aaxis\": {\"gridcolor\": \"white\", \"linecolor\": \"white\", \"ticks\": \"\"}, \"baxis\": {\"gridcolor\": \"white\", \"linecolor\": \"white\", \"ticks\": \"\"}, \"bgcolor\": \"#E5ECF6\", \"caxis\": {\"gridcolor\": \"white\", \"linecolor\": \"white\", \"ticks\": \"\"}}, \"title\": {\"x\": 0.05}, \"xaxis\": {\"automargin\": true, \"gridcolor\": \"white\", \"linecolor\": \"white\", \"ticks\": \"\", \"title\": {\"standoff\": 15}, \"zerolinecolor\": \"white\", \"zerolinewidth\": 2}, \"yaxis\": {\"automargin\": true, \"gridcolor\": \"white\", \"linecolor\": \"white\", \"ticks\": \"\", \"title\": {\"standoff\": 15}, \"zerolinecolor\": \"white\", \"zerolinewidth\": 2}}}, \"title\": {\"text\": \"Device Plots\"}, \"width\": 1200, \"xaxis\": {\"anchor\": \"y\", \"domain\": [0.0, 0.2888888888888889]}, \"xaxis2\": {\"anchor\": \"y2\", \"domain\": [0.35555555555555557, 0.6444444444444445]}, \"xaxis3\": {\"anchor\": \"y3\", \"domain\": [0.7111111111111111, 1.0]}, \"xaxis4\": {\"anchor\": \"y4\", \"domain\": [0.0, 0.2888888888888889]}, \"xaxis5\": {\"anchor\": \"y5\", \"domain\": [0.35555555555555557, 0.6444444444444445]}, \"xaxis6\": {\"anchor\": \"y6\", \"domain\": [0.7111111111111111, 1.0]}, \"xaxis7\": {\"anchor\": \"y7\", \"domain\": [0.0, 0.2888888888888889]}, \"xaxis8\": {\"anchor\": \"y8\", \"domain\": [0.35555555555555557, 0.6444444444444445]}, \"xaxis9\": {\"anchor\": \"y9\", \"domain\": [0.7111111111111111, 1.0]}, \"yaxis\": {\"anchor\": \"x\", \"domain\": [0.6933333333333334, 1.0]}, \"yaxis2\": {\"anchor\": \"x2\", \"domain\": [0.6933333333333334, 1.0]}, \"yaxis3\": {\"anchor\": \"x3\", \"domain\": [0.6933333333333334, 1.0]}, \"yaxis4\": {\"anchor\": \"x4\", \"domain\": [0.3466666666666667, 0.6533333333333333]}, \"yaxis5\": {\"anchor\": \"x5\", \"domain\": [0.3466666666666667, 0.6533333333333333]}, \"yaxis6\": {\"anchor\": \"x6\", \"domain\": [0.3466666666666667, 0.6533333333333333]}, \"yaxis7\": {\"anchor\": \"x7\", \"domain\": [0.0, 0.3066666666666667]}, \"yaxis8\": {\"anchor\": \"x8\", \"domain\": [0.0, 0.3066666666666667]}, \"yaxis9\": {\"anchor\": \"x9\", \"domain\": [0.0, 0.3066666666666667]}},\n",
              "                        {\"responsive\": true}\n",
              "                    ).then(function(){\n",
              "                            \n",
              "var gd = document.getElementById('0194fa88-9917-4bcc-8823-29aca3138337');\n",
              "var x = new MutationObserver(function (mutations, observer) {{\n",
              "        var display = window.getComputedStyle(gd).display;\n",
              "        if (!display || display === 'none') {{\n",
              "            console.log([gd, 'removed!']);\n",
              "            Plotly.purge(gd);\n",
              "            observer.disconnect();\n",
              "        }}\n",
              "}});\n",
              "\n",
              "// Listen for the removal of the full notebook cells\n",
              "var notebookContainer = gd.closest('#notebook-container');\n",
              "if (notebookContainer) {{\n",
              "    x.observe(notebookContainer, {childList: true});\n",
              "}}\n",
              "\n",
              "// Listen for the clearing of the current output cell\n",
              "var outputEl = gd.closest('.output');\n",
              "if (outputEl) {{\n",
              "    x.observe(outputEl, {childList: true});\n",
              "}}\n",
              "\n",
              "                        })\n",
              "                };\n",
              "                \n",
              "            </script>\n",
              "        </div>\n",
              "</body>\n",
              "</html>"
            ]
          },
          "metadata": {}
        },
        {
          "output_type": "display_data",
          "data": {
            "text/html": [
              "<html>\n",
              "<head><meta charset=\"utf-8\" /></head>\n",
              "<body>\n",
              "    <div>\n",
              "            <script src=\"https://cdnjs.cloudflare.com/ajax/libs/mathjax/2.7.5/MathJax.js?config=TeX-AMS-MML_SVG\"></script><script type=\"text/javascript\">if (window.MathJax) {MathJax.Hub.Config({SVG: {font: \"STIX-Web\"}});}</script>\n",
              "                <script type=\"text/javascript\">window.PlotlyConfig = {MathJaxConfig: 'local'};</script>\n",
              "        <script src=\"https://cdn.plot.ly/plotly-latest.min.js\"></script>    \n",
              "            <div id=\"207cf5ee-1a34-4d31-b2fd-a6bc4d3ba70a\" class=\"plotly-graph-div\" style=\"height:1200px; width:1200px;\"></div>\n",
              "            <script type=\"text/javascript\">\n",
              "                \n",
              "                    window.PLOTLYENV=window.PLOTLYENV || {};\n",
              "                    \n",
              "                if (document.getElementById(\"207cf5ee-1a34-4d31-b2fd-a6bc4d3ba70a\")) {\n",
              "                    Plotly.newPlot(\n",
              "                        '207cf5ee-1a34-4d31-b2fd-a6bc4d3ba70a',\n",
              "                        [{\"marker\": {\"color\": \"rgba(50, 171, 96, 0.6)\"}, \"orientation\": \"h\", \"showlegend\": false, \"type\": \"bar\", \"x\": [31, 68, 88, 100, 129, 169, 300, 571, 2036, 8252], \"xaxis\": \"x\", \"y\": [\"YaBrowser\", \"Safari (in-app)\", \"Opera Mini\", \"Opera\", \"Android Webview\", \"Edge\", \"Internet Explorer\", \"Firefox\", \"Safari\", \"Chrome\"], \"yaxis\": \"y\"}, {\"marker\": {\"color\": \"rgba(50, 171, 96, 0.6)\"}, \"orientation\": \"h\", \"showlegend\": false, \"type\": \"bar\", \"x\": [31, 68, 88, 100, 129, 169, 300, 571, 2036, 8252], \"xaxis\": \"x2\", \"y\": [\"YaBrowser\", \"Safari (in-app)\", \"Opera Mini\", \"Opera\", \"Android Webview\", \"Edge\", \"Internet Explorer\", \"Firefox\", \"Safari\", \"Chrome\"], \"yaxis\": \"y2\"}, {\"marker\": {\"color\": \"rgba(50, 171, 96, 0.6)\"}, \"orientation\": \"h\", \"showlegend\": false, \"type\": \"bar\", \"x\": [0.0, 249558.82352941178, 0.0, 0.0, 0.0, 200946.74556213018, 0.0, 113537.65323992995, 368138.5068762279, 2641777.7508482793], \"xaxis\": \"x3\", \"y\": [\"YaBrowser\", \"Safari (in-app)\", \"Opera Mini\", \"Opera\", \"Android Webview\", \"Edge\", \"Internet Explorer\", \"Firefox\", \"Safari\", \"Chrome\"], \"yaxis\": \"y3\"}, {\"marker\": {\"color\": \"rgba(71, 58, 131, 0.8)\"}, \"orientation\": \"h\", \"showlegend\": false, \"type\": \"bar\", \"x\": [414, 2884, 8519], \"xaxis\": \"x4\", \"y\": [\"tablet\", \"mobile\", \"desktop\"], \"yaxis\": \"y4\"}, {\"marker\": {\"color\": \"rgba(71, 58, 131, 0.8)\"}, \"orientation\": \"h\", \"showlegend\": false, \"type\": \"bar\", \"x\": [414, 2884, 8519], \"xaxis\": \"x5\", \"y\": [\"tablet\", \"mobile\", \"desktop\"], \"yaxis\": \"y5\"}, {\"marker\": {\"color\": \"rgba(71, 58, 131, 0.8)\"}, \"orientation\": \"h\", \"showlegend\": false, \"type\": \"bar\", \"x\": [0.0, 173782.94036061026, 2601719.6854090854], \"xaxis\": \"x6\", \"y\": [\"tablet\", \"mobile\", \"desktop\"], \"yaxis\": \"y6\"}, {\"marker\": {\"color\": \"rgba(246, 78, 139, 0.6)\"}, \"orientation\": \"h\", \"showlegend\": false, \"type\": \"bar\", \"x\": [4, 4, 24, 56, 373, 541, 1496, 1701, 2882, 4730], \"xaxis\": \"x7\", \"y\": [\"Samsung\", \"BlackBerry\", \"Windows Phone\", \"(not set)\", \"Chrome OS\", \"Linux\", \"iOS\", \"Android\", \"Macintosh\", \"Windows\"], \"yaxis\": \"y7\"}, {\"marker\": {\"color\": \"rgba(246, 78, 139, 0.6)\"}, \"orientation\": \"h\", \"showlegend\": false, \"type\": \"bar\", \"x\": [4, 4, 24, 56, 373, 541, 1496, 1701, 2882, 4730], \"xaxis\": \"x8\", \"y\": [\"Samsung\", \"BlackBerry\", \"Windows Phone\", \"(not set)\", \"Chrome OS\", \"Linux\", \"iOS\", \"Android\", \"Macintosh\", \"Windows\"], \"yaxis\": \"y8\"}, {\"marker\": {\"color\": \"rgba(246, 78, 139, 0.6)\"}, \"orientation\": \"h\", \"showlegend\": false, \"type\": \"bar\", \"x\": [0.0, 0.0, 1100000.0, 0.0, 7409034.852546917, 1623438.0776340112, 211838.23529411765, 92815.99059376837, 5550357.390700902, 534052.8541226216], \"xaxis\": \"x9\", \"y\": [\"Samsung\", \"BlackBerry\", \"Windows Phone\", \"(not set)\", \"Chrome OS\", \"Linux\", \"iOS\", \"Android\", \"Macintosh\", \"Windows\"], \"yaxis\": \"y9\"}],\n",
              "                        {\"annotations\": [{\"font\": {\"size\": 16}, \"showarrow\": false, \"text\": \"Device Browser - Count\", \"x\": 0.14444444444444446, \"xanchor\": \"center\", \"xref\": \"paper\", \"y\": 1.0, \"yanchor\": \"bottom\", \"yref\": \"paper\"}, {\"font\": {\"size\": 16}, \"showarrow\": false, \"text\": \"Device Browser - Non-zero Revenue Count\", \"x\": 0.5, \"xanchor\": \"center\", \"xref\": \"paper\", \"y\": 1.0, \"yanchor\": \"bottom\", \"yref\": \"paper\"}, {\"font\": {\"size\": 16}, \"showarrow\": false, \"text\": \"Device Browser - Mean Revenue\", \"x\": 0.8555555555555556, \"xanchor\": \"center\", \"xref\": \"paper\", \"y\": 1.0, \"yanchor\": \"bottom\", \"yref\": \"paper\"}, {\"font\": {\"size\": 16}, \"showarrow\": false, \"text\": \"Device Category - Count\", \"x\": 0.14444444444444446, \"xanchor\": \"center\", \"xref\": \"paper\", \"y\": 0.6533333333333333, \"yanchor\": \"bottom\", \"yref\": \"paper\"}, {\"font\": {\"size\": 16}, \"showarrow\": false, \"text\": \"Device Category - Non-zero Revenue Count\", \"x\": 0.5, \"xanchor\": \"center\", \"xref\": \"paper\", \"y\": 0.6533333333333333, \"yanchor\": \"bottom\", \"yref\": \"paper\"}, {\"font\": {\"size\": 16}, \"showarrow\": false, \"text\": \"Device Category - Mean Revenue\", \"x\": 0.8555555555555556, \"xanchor\": \"center\", \"xref\": \"paper\", \"y\": 0.6533333333333333, \"yanchor\": \"bottom\", \"yref\": \"paper\"}, {\"font\": {\"size\": 16}, \"showarrow\": false, \"text\": \"Device OS - Count\", \"x\": 0.14444444444444446, \"xanchor\": \"center\", \"xref\": \"paper\", \"y\": 0.3066666666666667, \"yanchor\": \"bottom\", \"yref\": \"paper\"}, {\"font\": {\"size\": 16}, \"showarrow\": false, \"text\": \"Device OS - Non-zero Revenue Count\", \"x\": 0.5, \"xanchor\": \"center\", \"xref\": \"paper\", \"y\": 0.3066666666666667, \"yanchor\": \"bottom\", \"yref\": \"paper\"}, {\"font\": {\"size\": 16}, \"showarrow\": false, \"text\": \"Device OS - Mean Revenue\", \"x\": 0.8555555555555556, \"xanchor\": \"center\", \"xref\": \"paper\", \"y\": 0.3066666666666667, \"yanchor\": \"bottom\", \"yref\": \"paper\"}], \"height\": 1200, \"paper_bgcolor\": \"rgb(233,233,233)\", \"template\": {\"data\": {\"bar\": [{\"error_x\": {\"color\": \"#2a3f5f\"}, \"error_y\": {\"color\": \"#2a3f5f\"}, \"marker\": {\"line\": {\"color\": \"#E5ECF6\", \"width\": 0.5}}, \"type\": \"bar\"}], \"barpolar\": [{\"marker\": {\"line\": {\"color\": \"#E5ECF6\", \"width\": 0.5}}, \"type\": \"barpolar\"}], \"carpet\": [{\"aaxis\": {\"endlinecolor\": \"#2a3f5f\", \"gridcolor\": \"white\", \"linecolor\": \"white\", \"minorgridcolor\": \"white\", \"startlinecolor\": \"#2a3f5f\"}, \"baxis\": {\"endlinecolor\": \"#2a3f5f\", \"gridcolor\": \"white\", \"linecolor\": \"white\", \"minorgridcolor\": \"white\", \"startlinecolor\": \"#2a3f5f\"}, \"type\": \"carpet\"}], \"choropleth\": [{\"colorbar\": {\"outlinewidth\": 0, \"ticks\": \"\"}, \"type\": \"choropleth\"}], \"contour\": [{\"colorbar\": {\"outlinewidth\": 0, \"ticks\": \"\"}, \"colorscale\": [[0.0, \"#0d0887\"], [0.1111111111111111, \"#46039f\"], [0.2222222222222222, \"#7201a8\"], [0.3333333333333333, \"#9c179e\"], [0.4444444444444444, \"#bd3786\"], [0.5555555555555556, \"#d8576b\"], [0.6666666666666666, \"#ed7953\"], [0.7777777777777778, \"#fb9f3a\"], [0.8888888888888888, \"#fdca26\"], [1.0, \"#f0f921\"]], \"type\": \"contour\"}], \"contourcarpet\": [{\"colorbar\": {\"outlinewidth\": 0, \"ticks\": \"\"}, \"type\": \"contourcarpet\"}], \"heatmap\": [{\"colorbar\": {\"outlinewidth\": 0, \"ticks\": \"\"}, \"colorscale\": [[0.0, \"#0d0887\"], [0.1111111111111111, \"#46039f\"], [0.2222222222222222, \"#7201a8\"], [0.3333333333333333, \"#9c179e\"], [0.4444444444444444, \"#bd3786\"], [0.5555555555555556, \"#d8576b\"], [0.6666666666666666, \"#ed7953\"], [0.7777777777777778, \"#fb9f3a\"], [0.8888888888888888, \"#fdca26\"], [1.0, \"#f0f921\"]], \"type\": \"heatmap\"}], \"heatmapgl\": [{\"colorbar\": {\"outlinewidth\": 0, \"ticks\": \"\"}, \"colorscale\": [[0.0, \"#0d0887\"], [0.1111111111111111, \"#46039f\"], [0.2222222222222222, \"#7201a8\"], [0.3333333333333333, \"#9c179e\"], [0.4444444444444444, \"#bd3786\"], [0.5555555555555556, \"#d8576b\"], [0.6666666666666666, \"#ed7953\"], [0.7777777777777778, \"#fb9f3a\"], [0.8888888888888888, \"#fdca26\"], [1.0, \"#f0f921\"]], \"type\": \"heatmapgl\"}], \"histogram\": [{\"marker\": {\"colorbar\": {\"outlinewidth\": 0, \"ticks\": \"\"}}, \"type\": \"histogram\"}], \"histogram2d\": [{\"colorbar\": {\"outlinewidth\": 0, \"ticks\": \"\"}, \"colorscale\": [[0.0, \"#0d0887\"], [0.1111111111111111, \"#46039f\"], [0.2222222222222222, \"#7201a8\"], [0.3333333333333333, \"#9c179e\"], [0.4444444444444444, \"#bd3786\"], [0.5555555555555556, \"#d8576b\"], [0.6666666666666666, \"#ed7953\"], [0.7777777777777778, \"#fb9f3a\"], [0.8888888888888888, \"#fdca26\"], [1.0, \"#f0f921\"]], \"type\": \"histogram2d\"}], \"histogram2dcontour\": [{\"colorbar\": {\"outlinewidth\": 0, \"ticks\": \"\"}, \"colorscale\": [[0.0, \"#0d0887\"], [0.1111111111111111, \"#46039f\"], [0.2222222222222222, \"#7201a8\"], [0.3333333333333333, \"#9c179e\"], [0.4444444444444444, \"#bd3786\"], [0.5555555555555556, \"#d8576b\"], [0.6666666666666666, \"#ed7953\"], [0.7777777777777778, \"#fb9f3a\"], [0.8888888888888888, \"#fdca26\"], [1.0, \"#f0f921\"]], \"type\": \"histogram2dcontour\"}], \"mesh3d\": [{\"colorbar\": {\"outlinewidth\": 0, \"ticks\": \"\"}, \"type\": \"mesh3d\"}], \"parcoords\": [{\"line\": {\"colorbar\": {\"outlinewidth\": 0, \"ticks\": \"\"}}, \"type\": \"parcoords\"}], \"pie\": [{\"automargin\": true, \"type\": \"pie\"}], \"scatter\": [{\"marker\": {\"colorbar\": {\"outlinewidth\": 0, \"ticks\": \"\"}}, \"type\": \"scatter\"}], \"scatter3d\": [{\"line\": {\"colorbar\": {\"outlinewidth\": 0, \"ticks\": \"\"}}, \"marker\": {\"colorbar\": {\"outlinewidth\": 0, \"ticks\": \"\"}}, \"type\": \"scatter3d\"}], \"scattercarpet\": [{\"marker\": {\"colorbar\": {\"outlinewidth\": 0, \"ticks\": \"\"}}, \"type\": \"scattercarpet\"}], \"scattergeo\": [{\"marker\": {\"colorbar\": {\"outlinewidth\": 0, \"ticks\": \"\"}}, \"type\": \"scattergeo\"}], \"scattergl\": [{\"marker\": {\"colorbar\": {\"outlinewidth\": 0, \"ticks\": \"\"}}, \"type\": \"scattergl\"}], \"scattermapbox\": [{\"marker\": {\"colorbar\": {\"outlinewidth\": 0, \"ticks\": \"\"}}, \"type\": \"scattermapbox\"}], \"scatterpolar\": [{\"marker\": {\"colorbar\": {\"outlinewidth\": 0, \"ticks\": \"\"}}, \"type\": \"scatterpolar\"}], \"scatterpolargl\": [{\"marker\": {\"colorbar\": {\"outlinewidth\": 0, \"ticks\": \"\"}}, \"type\": \"scatterpolargl\"}], \"scatterternary\": [{\"marker\": {\"colorbar\": {\"outlinewidth\": 0, \"ticks\": \"\"}}, \"type\": \"scatterternary\"}], \"surface\": [{\"colorbar\": {\"outlinewidth\": 0, \"ticks\": \"\"}, \"colorscale\": [[0.0, \"#0d0887\"], [0.1111111111111111, \"#46039f\"], [0.2222222222222222, \"#7201a8\"], [0.3333333333333333, \"#9c179e\"], [0.4444444444444444, \"#bd3786\"], [0.5555555555555556, \"#d8576b\"], [0.6666666666666666, \"#ed7953\"], [0.7777777777777778, \"#fb9f3a\"], [0.8888888888888888, \"#fdca26\"], [1.0, \"#f0f921\"]], \"type\": \"surface\"}], \"table\": [{\"cells\": {\"fill\": {\"color\": \"#EBF0F8\"}, \"line\": {\"color\": \"white\"}}, \"header\": {\"fill\": {\"color\": \"#C8D4E3\"}, \"line\": {\"color\": \"white\"}}, \"type\": \"table\"}]}, \"layout\": {\"annotationdefaults\": {\"arrowcolor\": \"#2a3f5f\", \"arrowhead\": 0, \"arrowwidth\": 1}, \"coloraxis\": {\"colorbar\": {\"outlinewidth\": 0, \"ticks\": \"\"}}, \"colorscale\": {\"diverging\": [[0, \"#8e0152\"], [0.1, \"#c51b7d\"], [0.2, \"#de77ae\"], [0.3, \"#f1b6da\"], [0.4, \"#fde0ef\"], [0.5, \"#f7f7f7\"], [0.6, \"#e6f5d0\"], [0.7, \"#b8e186\"], [0.8, \"#7fbc41\"], [0.9, \"#4d9221\"], [1, \"#276419\"]], \"sequential\": [[0.0, \"#0d0887\"], [0.1111111111111111, \"#46039f\"], [0.2222222222222222, \"#7201a8\"], [0.3333333333333333, \"#9c179e\"], [0.4444444444444444, \"#bd3786\"], [0.5555555555555556, \"#d8576b\"], [0.6666666666666666, \"#ed7953\"], [0.7777777777777778, \"#fb9f3a\"], [0.8888888888888888, \"#fdca26\"], [1.0, \"#f0f921\"]], \"sequentialminus\": [[0.0, \"#0d0887\"], [0.1111111111111111, \"#46039f\"], [0.2222222222222222, \"#7201a8\"], [0.3333333333333333, \"#9c179e\"], [0.4444444444444444, \"#bd3786\"], [0.5555555555555556, \"#d8576b\"], [0.6666666666666666, \"#ed7953\"], [0.7777777777777778, \"#fb9f3a\"], [0.8888888888888888, \"#fdca26\"], [1.0, \"#f0f921\"]]}, \"colorway\": [\"#636efa\", \"#EF553B\", \"#00cc96\", \"#ab63fa\", \"#FFA15A\", \"#19d3f3\", \"#FF6692\", \"#B6E880\", \"#FF97FF\", \"#FECB52\"], \"font\": {\"color\": \"#2a3f5f\"}, \"geo\": {\"bgcolor\": \"white\", \"lakecolor\": \"white\", \"landcolor\": \"#E5ECF6\", \"showlakes\": true, \"showland\": true, \"subunitcolor\": \"white\"}, \"hoverlabel\": {\"align\": \"left\"}, \"hovermode\": \"closest\", \"mapbox\": {\"style\": \"light\"}, \"paper_bgcolor\": \"white\", \"plot_bgcolor\": \"#E5ECF6\", \"polar\": {\"angularaxis\": {\"gridcolor\": \"white\", \"linecolor\": \"white\", \"ticks\": \"\"}, \"bgcolor\": \"#E5ECF6\", \"radialaxis\": {\"gridcolor\": \"white\", \"linecolor\": \"white\", \"ticks\": \"\"}}, \"scene\": {\"xaxis\": {\"backgroundcolor\": \"#E5ECF6\", \"gridcolor\": \"white\", \"gridwidth\": 2, \"linecolor\": \"white\", \"showbackground\": true, \"ticks\": \"\", \"zerolinecolor\": \"white\"}, \"yaxis\": {\"backgroundcolor\": \"#E5ECF6\", \"gridcolor\": \"white\", \"gridwidth\": 2, \"linecolor\": \"white\", \"showbackground\": true, \"ticks\": \"\", \"zerolinecolor\": \"white\"}, \"zaxis\": {\"backgroundcolor\": \"#E5ECF6\", \"gridcolor\": \"white\", \"gridwidth\": 2, \"linecolor\": \"white\", \"showbackground\": true, \"ticks\": \"\", \"zerolinecolor\": \"white\"}}, \"shapedefaults\": {\"line\": {\"color\": \"#2a3f5f\"}}, \"ternary\": {\"aaxis\": {\"gridcolor\": \"white\", \"linecolor\": \"white\", \"ticks\": \"\"}, \"baxis\": {\"gridcolor\": \"white\", \"linecolor\": \"white\", \"ticks\": \"\"}, \"bgcolor\": \"#E5ECF6\", \"caxis\": {\"gridcolor\": \"white\", \"linecolor\": \"white\", \"ticks\": \"\"}}, \"title\": {\"x\": 0.05}, \"xaxis\": {\"automargin\": true, \"gridcolor\": \"white\", \"linecolor\": \"white\", \"ticks\": \"\", \"title\": {\"standoff\": 15}, \"zerolinecolor\": \"white\", \"zerolinewidth\": 2}, \"yaxis\": {\"automargin\": true, \"gridcolor\": \"white\", \"linecolor\": \"white\", \"ticks\": \"\", \"title\": {\"standoff\": 15}, \"zerolinecolor\": \"white\", \"zerolinewidth\": 2}}}, \"title\": {\"text\": \"Device Plots\"}, \"width\": 1200, \"xaxis\": {\"anchor\": \"y\", \"domain\": [0.0, 0.2888888888888889]}, \"xaxis2\": {\"anchor\": \"y2\", \"domain\": [0.35555555555555557, 0.6444444444444445]}, \"xaxis3\": {\"anchor\": \"y3\", \"domain\": [0.7111111111111111, 1.0]}, \"xaxis4\": {\"anchor\": \"y4\", \"domain\": [0.0, 0.2888888888888889]}, \"xaxis5\": {\"anchor\": \"y5\", \"domain\": [0.35555555555555557, 0.6444444444444445]}, \"xaxis6\": {\"anchor\": \"y6\", \"domain\": [0.7111111111111111, 1.0]}, \"xaxis7\": {\"anchor\": \"y7\", \"domain\": [0.0, 0.2888888888888889]}, \"xaxis8\": {\"anchor\": \"y8\", \"domain\": [0.35555555555555557, 0.6444444444444445]}, \"xaxis9\": {\"anchor\": \"y9\", \"domain\": [0.7111111111111111, 1.0]}, \"yaxis\": {\"anchor\": \"x\", \"domain\": [0.6933333333333334, 1.0]}, \"yaxis2\": {\"anchor\": \"x2\", \"domain\": [0.6933333333333334, 1.0]}, \"yaxis3\": {\"anchor\": \"x3\", \"domain\": [0.6933333333333334, 1.0]}, \"yaxis4\": {\"anchor\": \"x4\", \"domain\": [0.3466666666666667, 0.6533333333333333]}, \"yaxis5\": {\"anchor\": \"x5\", \"domain\": [0.3466666666666667, 0.6533333333333333]}, \"yaxis6\": {\"anchor\": \"x6\", \"domain\": [0.3466666666666667, 0.6533333333333333]}, \"yaxis7\": {\"anchor\": \"x7\", \"domain\": [0.0, 0.3066666666666667]}, \"yaxis8\": {\"anchor\": \"x8\", \"domain\": [0.0, 0.3066666666666667]}, \"yaxis9\": {\"anchor\": \"x9\", \"domain\": [0.0, 0.3066666666666667]}},\n",
              "                        {\"responsive\": true}\n",
              "                    ).then(function(){\n",
              "                            \n",
              "var gd = document.getElementById('207cf5ee-1a34-4d31-b2fd-a6bc4d3ba70a');\n",
              "var x = new MutationObserver(function (mutations, observer) {{\n",
              "        var display = window.getComputedStyle(gd).display;\n",
              "        if (!display || display === 'none') {{\n",
              "            console.log([gd, 'removed!']);\n",
              "            Plotly.purge(gd);\n",
              "            observer.disconnect();\n",
              "        }}\n",
              "}});\n",
              "\n",
              "// Listen for the removal of the full notebook cells\n",
              "var notebookContainer = gd.closest('#notebook-container');\n",
              "if (notebookContainer) {{\n",
              "    x.observe(notebookContainer, {childList: true});\n",
              "}}\n",
              "\n",
              "// Listen for the clearing of the current output cell\n",
              "var outputEl = gd.closest('.output');\n",
              "if (outputEl) {{\n",
              "    x.observe(outputEl, {childList: true});\n",
              "}}\n",
              "\n",
              "                        })\n",
              "                };\n",
              "                \n",
              "            </script>\n",
              "        </div>\n",
              "</body>\n",
              "</html>"
            ]
          },
          "metadata": {}
        }
      ],
      "source": [
        "def horizontal_bar_chart(cnt_srs, color):\n",
        "    trace = go.Bar(\n",
        "        y=cnt_srs.index[::-1],\n",
        "        x=cnt_srs.values[::-1],\n",
        "        showlegend=False,\n",
        "        orientation = 'h',\n",
        "        marker=dict(\n",
        "            color=color,\n",
        "        ),\n",
        "    )\n",
        "    return trace\n",
        "\n",
        "# Device Browser\n",
        "cnt_srs = data.groupby('browser')['transactionRevenue'].agg(['size', 'count', 'mean'])\n",
        "cnt_srs.columns = [\"count\", \"count of non-zero revenue\", \"mean\"]\n",
        "cnt_srs = cnt_srs.sort_values(by=\"count\", ascending=False)\n",
        "trace1 = horizontal_bar_chart(cnt_srs[\"count\"].head(10), 'rgba(50, 171, 96, 0.6)')\n",
        "trace2 = horizontal_bar_chart(cnt_srs[\"count of non-zero revenue\"].head(10), 'rgba(50, 171, 96, 0.6)')\n",
        "trace3 = horizontal_bar_chart(cnt_srs[\"mean\"].head(10), 'rgba(50, 171, 96, 0.6)')\n",
        "\n",
        "# Device Category\n",
        "cnt_srs = data.groupby('deviceCategory')['transactionRevenue'].agg(['size', 'count', 'mean'])\n",
        "cnt_srs.columns = [\"count\", \"count of non-zero revenue\", \"mean\"]\n",
        "cnt_srs = cnt_srs.sort_values(by=\"count\", ascending=False)\n",
        "trace4 = horizontal_bar_chart(cnt_srs[\"count\"].head(10), 'rgba(71, 58, 131, 0.8)')\n",
        "trace5 = horizontal_bar_chart(cnt_srs[\"count of non-zero revenue\"].head(10), 'rgba(71, 58, 131, 0.8)')\n",
        "trace6 = horizontal_bar_chart(cnt_srs[\"mean\"].head(10), 'rgba(71, 58, 131, 0.8)')\n",
        "\n",
        "# Operating system\n",
        "cnt_srs = data.groupby('operatingSystem')['transactionRevenue'].agg(['size', 'count', 'mean'])\n",
        "cnt_srs.columns = [\"count\", \"count of non-zero revenue\", \"mean\"]\n",
        "cnt_srs = cnt_srs.sort_values(by=\"count\", ascending=False)\n",
        "trace7 = horizontal_bar_chart(cnt_srs[\"count\"].head(10), 'rgba(246, 78, 139, 0.6)')\n",
        "trace8 = horizontal_bar_chart(cnt_srs[\"count of non-zero revenue\"].head(10),'rgba(246, 78, 139, 0.6)')\n",
        "trace9 = horizontal_bar_chart(cnt_srs[\"mean\"].head(10),'rgba(246, 78, 139, 0.6)')\n",
        "\n",
        "# Creating two subplots\n",
        "fig = make_subplots(rows=3, cols=3, vertical_spacing=0.04, \n",
        "                          subplot_titles=[\"Device Browser - Count\", \"Device Browser - Non-zero Revenue Count\", \"Device Browser - Mean Revenue\",\n",
        "                                          \"Device Category - Count\",  \"Device Category - Non-zero Revenue Count\", \"Device Category - Mean Revenue\", \n",
        "                                          \"Device OS - Count\", \"Device OS - Non-zero Revenue Count\", \"Device OS - Mean Revenue\"])\n",
        "\n",
        "fig.append_trace(trace1, 1, 1)\n",
        "fig.append_trace(trace2, 1, 2)\n",
        "fig.append_trace(trace3, 1, 3)\n",
        "fig.append_trace(trace4, 2, 1)\n",
        "fig.append_trace(trace5, 2, 2)\n",
        "fig.append_trace(trace6, 2, 3)\n",
        "fig.append_trace(trace7, 3, 1)\n",
        "fig.append_trace(trace8, 3, 2)\n",
        "fig.append_trace(trace9, 3, 3)\n",
        "\n",
        "fig['layout'].update(height=1200, width=1200, paper_bgcolor='rgb(233,233,233)', title=\"Device Plots\")\n",
        "py.iplot(fig, filename='device-plots')\n",
        "fig.show()"
      ]
    },
    {
      "cell_type": "markdown",
      "metadata": {
        "id": "5s2YTwTwk7sE"
      },
      "source": [
        "\n",
        "Inferences:\n",
        "\n",
        "* Device browser distribution looks \n",
        "similar on both the count and count of non-zero revenue plots On the device category front, desktop seem to have higher percentage of non-zero revenue counts compared to mobile devices. \n",
        "* In device operating system, though the number of counts is more from windows, the number of counts where revenue is not zero is more for Macintosh. \n",
        "* Chrome OS also has higher percentage of non-zero revenue counts On the mobile OS side, iOS has more percentage of non-zero revenue counts compared to Android\n"
      ]
    },
    {
      "cell_type": "markdown",
      "metadata": {
        "id": "_k7X283HlWnt"
      },
      "source": [
        "Crossing Channel Grouping x Browsers"
      ]
    },
    {
      "cell_type": "code",
      "execution_count": null,
      "metadata": {
        "id": "sllKKs4jlJ6s",
        "colab": {
          "base_uri": "https://localhost:8080/",
          "height": 54
        },
        "outputId": "49471b4f-25c9-4996-dc4e-12d60943d1fd"
      },
      "outputs": [
        {
          "output_type": "display_data",
          "data": {
            "image/png": "[encoded data removed]",
            "text/plain": [
              "<Figure size 1008x504 with 1 Axes>"
            ]
          },
          "metadata": {
            "needs_background": "light"
          }
        }
      ],
      "source": [
        "## I will use the crosstab to explore two categorical values\n",
        "\n",
        "# At index I will use set my variable that I want analyse and cross by another\n",
        "crosstab_eda = pd.crosstab(index=data['channelGrouping'], normalize=True,\n",
        "                           # at this line, I am using the isin to select just the top 5 of browsers\n",
        "                           columns= data[data['browser'].isin(data['browser']\\\n",
        "                                                                            .value_counts()[:5].index.values)]['browser'])\n",
        "# Ploting the crosstab that we did above\n",
        "crosstab_eda.plot(kind=\"bar\",    # select the bar to plot the count of categoricals\n",
        "                 figsize=(14,7), # adjusting the size of graphs\n",
        "                 stacked=True)   # code to unstack \n",
        "plt.title(\"Channel Grouping % for which Browser\", fontsize=20) # seting the title size\n",
        "plt.xlabel(\"The Channel Grouping Name\", fontsize=18) # seting the x label size\n",
        "plt.ylabel(\"Count\", fontsize=18) # seting the y label size\n",
        "plt.xticks(rotation=0)\n",
        "plt.show() # rendering"
      ]
    },
    {
      "cell_type": "markdown",
      "metadata": {
        "id": "HmAmH4-OljNv"
      },
      "source": [
        "The people who choose Organic Search use Safari"
      ]
    },
    {
      "cell_type": "markdown",
      "metadata": {
        "id": "wGZXAnoLlcm-"
      },
      "source": [
        "Operational System\n"
      ]
    },
    {
      "cell_type": "code",
      "execution_count": null,
      "metadata": {
        "id": "tpVgf5XsleSD",
        "colab": {
          "base_uri": "https://localhost:8080/",
          "height": 241
        },
        "outputId": "ebd2ec15-908c-4ddc-a048-29bebd4cd6f2"
      },
      "outputs": [
        {
          "output_type": "stream",
          "name": "stdout",
          "text": [
            "Percentual of Operational System: \n",
            "Windows      4730\n",
            "Macintosh    2882\n",
            "Android      1701\n",
            "iOS          1496\n",
            "Linux         541\n",
            "Name: operatingSystem, dtype: int64\n"
          ]
        },
        {
          "output_type": "stream",
          "name": "stderr",
          "text": [
            "/usr/local/lib/python3.7/dist-packages/seaborn/_decorators.py:43: FutureWarning:\n",
            "\n",
            "Pass the following variable as a keyword arg: x. From version 0.12, the only valid positional argument will be `data`, and passing other arguments without an explicit keyword will result in an error or misinterpretation.\n",
            "\n"
          ]
        },
        {
          "output_type": "display_data",
          "data": {
            "image/png": "[encoded data removed]",
            "text/plain": [
              "<Figure size 1008x504 with 1 Axes>"
            ]
          },
          "metadata": {
            "needs_background": "light"
          }
        }
      ],
      "source": [
        "# the top 5 of browsers represent % of total\n",
        "print(\"Percentual of Operational System: \")\n",
        "print(data['operatingSystem'].value_counts()[:5]) # printing the top 7 percentage of browsers\n",
        "\n",
        "# seting the graph size\n",
        "plt.figure(figsize=(14,7))\n",
        "\n",
        "# let explore the browser used by users\n",
        "sns.countplot(data[\"operatingSystem\"], palette=\"hls\") # It's a module to count the category's\n",
        "plt.title(\"Operational System used Count\", fontsize=20) # seting the title size\n",
        "plt.xlabel(\"Operational System Name\", fontsize=16) # seting the x label size\n",
        "plt.ylabel(\"OS Count\", fontsize=16) # seting the y label size\n",
        "plt.xticks(rotation=45) # Adjust the xticks, rotating the labels\n",
        "\n",
        "plt.show()"
      ]
    },
    {
      "cell_type": "markdown",
      "metadata": {
        "id": "eV4geHMfl66B"
      },
      "source": [
        "The TOP 5 of Operational System corresponds to 96%.\n",
        "\n",
        "* TOP 1 => Windows - 38.75% \n",
        "* TOP 2 => Macintosh - 28.04% \n",
        "* TOP 3 => Android - 14.15% \n",
        "* TOP 4 => iOS - 11.75% \n",
        "* TOP 5 => Linux - 3.91% \n",
        "\n",
        "It's very interestign to me. In my country macbook isn't the most common SO. I will investigate further the SO by Country's"
      ]
    },
    {
      "cell_type": "markdown",
      "metadata": {
        "id": "XRRyqPUumWVc"
      },
      "source": [
        "Geography plots"
      ]
    },
    {
      "cell_type": "code",
      "execution_count": null,
      "metadata": {
        "id": "KZgS0_xjmr8M"
      },
      "outputs": [],
      "source": [
        "from plotly.offline import init_notebook_mode, iplot, plot \n",
        "import plotly.graph_objs as go "
      ]
    },
    {
      "cell_type": "code",
      "execution_count": null,
      "metadata": {
        "id": "zc2l0NCMmEce",
        "colab": {
          "base_uri": "https://localhost:8080/",
          "height": 562
        },
        "outputId": "e377bc41-47a1-4faf-c86d-c1b10d640926"
      },
      "outputs": [
        {
          "output_type": "display_data",
          "data": {
            "text/html": [
              "<html>\n",
              "<head><meta charset=\"utf-8\" /></head>\n",
              "<body>\n",
              "    <div>\n",
              "            <script src=\"https://cdnjs.cloudflare.com/ajax/libs/mathjax/2.7.5/MathJax.js?config=TeX-AMS-MML_SVG\"></script><script type=\"text/javascript\">if (window.MathJax) {MathJax.Hub.Config({SVG: {font: \"STIX-Web\"}});}</script>\n",
              "                <script type=\"text/javascript\">window.PlotlyConfig = {MathJaxConfig: 'local'};</script>\n",
              "        <script src=\"https://cdn.plot.ly/plotly-latest.min.js\"></script>    \n",
              "            <div id=\"5c68407b-b031-42ea-94cc-dc29264648fd\" class=\"plotly-graph-div\" style=\"height:525px; width:100%;\"></div>\n",
              "            <script type=\"text/javascript\">\n",
              "                \n",
              "                    window.PLOTLYENV=window.PLOTLYENV || {};\n",
              "                    \n",
              "                if (document.getElementById(\"5c68407b-b031-42ea-94cc-dc29264648fd\")) {\n",
              "                    Plotly.newPlot(\n",
              "                        '5c68407b-b031-42ea-94cc-dc29264648fd',\n",
              "                        [{\"autocolorscale\": false, \"colorbar\": {\"autotick\": false, \"tickprefix\": \"\", \"title\": \"Number of Visits\"}, \"locationmode\": \"country names\", \"locations\": [\"United States\", \"India\", \"United Kingdom\", \"Canada\", \"Germany\", \"Japan\", \"France\", \"Turkey\", \"Brazil\", \"Mexico\", \"Czechia\", \"Spain\", \"Australia\", \"Italy\", \"Russia\", \"Poland\", \"Netherlands\", \"Taiwan\", \"Thailand\", \"Malaysia\", \"Indonesia\", \"Vietnam\", \"Singapore\", \"Philippines\", \"Ireland\", \"Israel\", \"Peru\", \"Ukraine\", \"Sweden\", \"Romania\", \"Belgium\", \"South Korea\", \"Argentina\", \"Switzerland\", \"China\", \"Pakistan\", \"Hong Kong\", \"Colombia\", \"United Arab Emirates\", \"Hungary\", \"Denmark\", \"Slovakia\", \"Portugal\", \"New Zealand\", \"Norway\", \"Saudi Arabia\", \"Chile\", \"Croatia\", \"Bangladesh\", \"Egypt\", \"Greece\", \"Austria\", \"Venezuela\", \"Algeria\", \"Sri Lanka\", \"Nigeria\", \"Bulgaria\", \"Serbia\", \"South Africa\", \"Kenya\", \"Lithuania\", \"Bosnia & Herzegovina\", \"(not set)\", \"Morocco\", \"Dominican Republic\", \"Tunisia\", \"Ecuador\", \"Jordan\", \"Cambodia\", \"Guatemala\", \"Kazakhstan\", \"Puerto Rico\", \"Azerbaijan\", \"Estonia\", \"Belarus\", \"Macedonia (FYROM)\", \"Slovenia\", \"Jamaica\", \"Albania\", \"Panama\", \"Moldova\", \"Costa Rica\", \"Qatar\", \"Iraq\", \"Oman\", \"Bolivia\", \"Georgia\", \"Kuwait\", \"Laos\", \"El Salvador\", \"Finland\", \"Ethiopia\", \"Kosovo\", \"Uruguay\", \"Malta\", \"Paraguay\", \"Palestine\", \"Latvia\", \"C\\u00f4te d\\u2019Ivoire\", \"Myanmar (Burma)\", \"Cameroon\", \"Armenia\", \"Cyprus\", \"Senegal\", \"Bahrain\", \"Uganda\", \"Iceland\", \"Montenegro\", \"Libya\", \"Tanzania\", \"R\\u00e9union\", \"Mauritius\", \"Uzbekistan\", \"Gambia\", \"Guinea-Bissau\", \"Greenland\", \"Kyrgyzstan\", \"Congo - Kinshasa\", \"Nepal\", \"Belize\", \"Turks & Caicos Islands\", \"Madagascar\", \"Ghana\", \"Rwanda\", \"Trinidad & Tobago\", \"Somalia\", \"Honduras\", \"Mauritania\", \"Haiti\", \"Togo\", \"Mongolia\", \"Nicaragua\", \"Guinea\", \"Luxembourg\", \"Botswana\", \"Cape Verde\", \"Lebanon\", \"Benin\", \"Namibia\", \"New Caledonia\", \"Zimbabwe\", \"St. Kitts & Nevis\"], \"marker\": {\"line\": {\"color\": \"rgb(180,180,180)\", \"width\": 0.5}}, \"text\": [\"United States\", \"India\", \"United Kingdom\", \"Canada\", \"Germany\", \"Japan\", \"France\", \"Turkey\", \"Brazil\", \"Mexico\", \"Czechia\", \"Spain\", \"Australia\", \"Italy\", \"Russia\", \"Poland\", \"Netherlands\", \"Taiwan\", \"Thailand\", \"Malaysia\", \"Indonesia\", \"Vietnam\", \"Singapore\", \"Philippines\", \"Ireland\", \"Israel\", \"Peru\", \"Ukraine\", \"Sweden\", \"Romania\", \"Belgium\", \"South Korea\", \"Argentina\", \"Switzerland\", \"China\", \"Pakistan\", \"Hong Kong\", \"Colombia\", \"United Arab Emirates\", \"Hungary\", \"Denmark\", \"Slovakia\", \"Portugal\", \"New Zealand\", \"Norway\", \"Saudi Arabia\", \"Chile\", \"Croatia\", \"Bangladesh\", \"Egypt\", \"Greece\", \"Austria\", \"Venezuela\", \"Algeria\", \"Sri Lanka\", \"Nigeria\", \"Bulgaria\", \"Serbia\", \"South Africa\", \"Kenya\", \"Lithuania\", \"Bosnia & Herzegovina\", \"(not set)\", \"Morocco\", \"Dominican Republic\", \"Tunisia\", \"Ecuador\", \"Jordan\", \"Cambodia\", \"Guatemala\", \"Kazakhstan\", \"Puerto Rico\", \"Azerbaijan\", \"Estonia\", \"Belarus\", \"Macedonia (FYROM)\", \"Slovenia\", \"Jamaica\", \"Albania\", \"Panama\", \"Moldova\", \"Costa Rica\", \"Qatar\", \"Iraq\", \"Oman\", \"Bolivia\", \"Georgia\", \"Kuwait\", \"Laos\", \"El Salvador\", \"Finland\", \"Ethiopia\", \"Kosovo\", \"Uruguay\", \"Malta\", \"Paraguay\", \"Palestine\", \"Latvia\", \"C\\u00f4te d\\u2019Ivoire\", \"Myanmar (Burma)\", \"Cameroon\", \"Armenia\", \"Cyprus\", \"Senegal\", \"Bahrain\", \"Uganda\", \"Iceland\", \"Montenegro\", \"Libya\", \"Tanzania\", \"R\\u00e9union\", \"Mauritius\", \"Uzbekistan\", \"Gambia\", \"Guinea-Bissau\", \"Greenland\", \"Kyrgyzstan\", \"Congo - Kinshasa\", \"Nepal\", \"Belize\", \"Turks & Caicos Islands\", \"Madagascar\", \"Ghana\", \"Rwanda\", \"Trinidad & Tobago\", \"Somalia\", \"Honduras\", \"Mauritania\", \"Haiti\", \"Togo\", \"Mongolia\", \"Nicaragua\", \"Guinea\", \"Luxembourg\", \"Botswana\", \"Cape Verde\", \"Lebanon\", \"Benin\", \"Namibia\", \"New Caledonia\", \"Zimbabwe\", \"St. Kitts & Nevis\"], \"type\": \"choropleth\", \"z\": [5136, 585, 447, 375, 314, 284, 230, 230, 213, 180, 168, 168, 163, 155, 154, 143, 142, 141, 131, 117, 104, 96, 91, 89, 86, 86, 85, 71, 70, 68, 67, 66, 65, 55, 54, 54, 53, 52, 43, 43, 41, 39, 37, 36, 35, 34, 33, 32, 31, 30, 29, 28, 27, 26, 24, 22, 22, 19, 17, 17, 16, 14, 14, 14, 12, 12, 11, 11, 10, 10, 10, 10, 9, 9, 9, 8, 8, 7, 7, 7, 7, 7, 7, 6, 6, 6, 6, 5, 5, 5, 5, 5, 4, 4, 4, 3, 3, 3, 3, 3, 3, 3, 3, 2, 2, 2, 2, 2, 2, 2, 2, 2, 2, 2, 1, 1, 1, 1, 1, 1, 1, 1, 1, 1, 1, 1, 1, 1, 1, 1, 1, 1, 1, 1, 1, 1, 1, 1, 1, 1, 1, 1]}],\n",
              "                        {\"geo\": {\"projection\": {\"type\": \"Mercator\"}, \"showcoastlines\": true, \"showframe\": false}, \"title\": \"Couting Visits Per Country\"},\n",
              "                        {\"responsive\": true}\n",
              "                    ).then(function(){\n",
              "                            \n",
              "var gd = document.getElementById('5c68407b-b031-42ea-94cc-dc29264648fd');\n",
              "var x = new MutationObserver(function (mutations, observer) {{\n",
              "        var display = window.getComputedStyle(gd).display;\n",
              "        if (!display || display === 'none') {{\n",
              "            console.log([gd, 'removed!']);\n",
              "            Plotly.purge(gd);\n",
              "            observer.disconnect();\n",
              "        }}\n",
              "}});\n",
              "\n",
              "// Listen for the removal of the full notebook cells\n",
              "var notebookContainer = gd.closest('#notebook-container');\n",
              "if (notebookContainer) {{\n",
              "    x.observe(notebookContainer, {childList: true});\n",
              "}}\n",
              "\n",
              "// Listen for the clearing of the current output cell\n",
              "var outputEl = gd.closest('.output');\n",
              "if (outputEl) {{\n",
              "    x.observe(outputEl, {childList: true});\n",
              "}}\n",
              "\n",
              "                        })\n",
              "                };\n",
              "                \n",
              "            </script>\n",
              "        </div>\n",
              "</body>\n",
              "</html>"
            ]
          },
          "metadata": {}
        }
      ],
      "source": [
        "# Counting total visits by countrys\n",
        "countMaps = pd.DataFrame(data['country'].value_counts()).reset_index()\n",
        "countMaps.columns=['country', 'counts'] #renaming columns\n",
        "countMaps = countMaps.reset_index().drop('index', axis=1) #reseting index and droping the column\n",
        "\n",
        "geo_data = [ dict(\n",
        "        type = 'choropleth',\n",
        "        locations = countMaps['country'],\n",
        "        locationmode = 'country names',\n",
        "        z = countMaps['counts'],\n",
        "        text = countMaps['country'],\n",
        "        autocolorscale = False,\n",
        "        marker = dict(\n",
        "            line = dict (\n",
        "                color = 'rgb(180,180,180)',\n",
        "                width = 0.5\n",
        "            ) ),\n",
        "        colorbar = dict(\n",
        "            autotick = False,\n",
        "            tickprefix = '',\n",
        "            title = 'Number of Visits'),\n",
        "      ) ]\n",
        "\n",
        "layout = dict(\n",
        "    title = 'Couting Visits Per Country',\n",
        "    geo = dict(\n",
        "        showframe = False,\n",
        "        showcoastlines = True,\n",
        "        projection = dict(\n",
        "            type = 'Mercator'\n",
        "        )\n",
        "    )\n",
        ")\n",
        "\n",
        "figure = dict( data=geo_data, layout=layout )\n",
        "iplot(figure, validate=False, filename='map-countrys-count')"
      ]
    },
    {
      "cell_type": "markdown",
      "metadata": {
        "id": "Y14e0Altm6oK"
      },
      "source": [
        "Most visit and Revenue is from America"
      ]
    },
    {
      "cell_type": "code",
      "execution_count": null,
      "metadata": {
        "id": "GIUF2IpknR_C",
        "colab": {
          "base_uri": "https://localhost:8080/",
          "height": 1000
        },
        "outputId": "01562398-8232-441d-d90a-e408198912e4"
      },
      "outputs": [
        {
          "output_type": "display_data",
          "data": {
            "text/html": [
              "<html>\n",
              "<head><meta charset=\"utf-8\" /></head>\n",
              "<body>\n",
              "    <div>\n",
              "            <script src=\"https://cdnjs.cloudflare.com/ajax/libs/mathjax/2.7.5/MathJax.js?config=TeX-AMS-MML_SVG\"></script><script type=\"text/javascript\">if (window.MathJax) {MathJax.Hub.Config({SVG: {font: \"STIX-Web\"}});}</script>\n",
              "                <script type=\"text/javascript\">window.PlotlyConfig = {MathJaxConfig: 'local'};</script>\n",
              "        <script src=\"https://cdn.plot.ly/plotly-latest.min.js\"></script>    \n",
              "            <div id=\"21cbfa05-d13e-473c-9310-f0b1aada8889\" class=\"plotly-graph-div\" style=\"height:1500px; width:1200px;\"></div>\n",
              "            <script type=\"text/javascript\">\n",
              "                \n",
              "                    window.PLOTLYENV=window.PLOTLYENV || {};\n",
              "                    \n",
              "                if (document.getElementById(\"21cbfa05-d13e-473c-9310-f0b1aada8889\")) {\n",
              "                    Plotly.newPlot(\n",
              "                        '21cbfa05-d13e-473c-9310-f0b1aada8889',\n",
              "                        [{\"marker\": {\"color\": \"rgba(58, 71, 80, 0.6)\"}, \"orientation\": \"h\", \"showlegend\": false, \"type\": \"bar\", \"x\": [14, 177, 200, 2408, 2762, 6256], \"xaxis\": \"x\", \"y\": [\"(not set)\", \"Africa\", \"Oceania\", \"Asia\", \"Europe\", \"Americas\"], \"yaxis\": \"y\"}, {\"marker\": {\"color\": \"rgba(58, 71, 80, 0.6)\"}, \"orientation\": \"h\", \"showlegend\": false, \"type\": \"bar\", \"x\": [14, 177, 200, 2408, 2762, 6256], \"xaxis\": \"x2\", \"y\": [\"(not set)\", \"Africa\", \"Oceania\", \"Asia\", \"Europe\", \"Americas\"], \"yaxis\": \"y2\"}, {\"marker\": {\"color\": \"rgba(58, 71, 80, 0.6)\"}, \"orientation\": \"h\", \"showlegend\": false, \"type\": \"bar\", \"x\": [0.0, 0.0, 0.0, 81569.76744186046, 34210.716871832, 3576459.398976982], \"xaxis\": \"x3\", \"y\": [\"(not set)\", \"Africa\", \"Oceania\", \"Asia\", \"Europe\", \"Americas\"], \"yaxis\": \"y3\"}, {\"marker\": {\"color\": \"orange\"}, \"orientation\": \"h\", \"showlegend\": false, \"type\": \"bar\", \"x\": [1, 4, 13, 14, 19, 33, 34, 36, 84, 199, 212, 455, 487, 499, 599, 646, 695, 714, 724, 837, 5512], \"xaxis\": \"x4\", \"y\": [\"Melanesia\", \"Middle Africa\", \"Central Asia\", \"(not set)\", \"Southern Africa\", \"Caribbean\", \"Eastern Africa\", \"Western Africa\", \"Northern Africa\", \"Australasia\", \"Central America\", \"Western Asia\", \"Southern Europe\", \"South America\", \"Eastern Asia\", \"Southeast Asia\", \"Southern Asia\", \"Northern Europe\", \"Eastern Europe\", \"Western Europe\", \"Northern America\"], \"yaxis\": \"y4\"}, {\"marker\": {\"color\": \"orange\"}, \"orientation\": \"h\", \"showlegend\": false, \"type\": \"bar\", \"x\": [1, 4, 13, 14, 19, 33, 34, 36, 84, 199, 212, 455, 487, 499, 599, 646, 695, 714, 724, 837, 5512], \"xaxis\": \"x5\", \"y\": [\"Melanesia\", \"Middle Africa\", \"Central Asia\", \"(not set)\", \"Southern Africa\", \"Caribbean\", \"Eastern Africa\", \"Western Africa\", \"Northern Africa\", \"Australasia\", \"Central America\", \"Western Asia\", \"Southern Europe\", \"South America\", \"Eastern Asia\", \"Southeast Asia\", \"Southern Asia\", \"Northern Europe\", \"Eastern Europe\", \"Western Europe\", \"Northern America\"], \"yaxis\": \"y5\"}, {\"marker\": {\"color\": \"orange\"}, \"orientation\": \"h\", \"showlegend\": false, \"type\": \"bar\", \"x\": [0.0, 0.0, 0.0, 0.0, 0.0, 605757.5757575758, 0.0, 0.0, 0.0, 0.0, 0.0, 0.0, 0.0, 0.0, 327913.1886477462, 0.0, 0.0, 0.0, 0.0, 112891.27837514934, 4055576.923076923], \"xaxis\": \"x6\", \"y\": [\"Melanesia\", \"Middle Africa\", \"Central Asia\", \"(not set)\", \"Southern Africa\", \"Caribbean\", \"Eastern Africa\", \"Western Africa\", \"Northern Africa\", \"Australasia\", \"Central America\", \"Western Asia\", \"Southern Europe\", \"South America\", \"Eastern Asia\", \"Southeast Asia\", \"Southern Asia\", \"Northern Europe\", \"Eastern Europe\", \"Western Europe\", \"Northern America\"], \"yaxis\": \"y6\"}],\n",
              "                        {\"annotations\": [{\"font\": {\"size\": 16}, \"showarrow\": false, \"text\": \"Continent - Count\", \"x\": 0.11666666666666665, \"xanchor\": \"center\", \"xref\": \"paper\", \"y\": 1.0, \"yanchor\": \"bottom\", \"yref\": \"paper\"}, {\"font\": {\"size\": 16}, \"showarrow\": false, \"text\": \"Continent - Non-zero Revenue Count\", \"x\": 0.49999999999999994, \"xanchor\": \"center\", \"xref\": \"paper\", \"y\": 1.0, \"yanchor\": \"bottom\", \"yref\": \"paper\"}, {\"font\": {\"size\": 16}, \"showarrow\": false, \"text\": \"Continent - Mean Revenue\", \"x\": 0.8833333333333333, \"xanchor\": \"center\", \"xref\": \"paper\", \"y\": 1.0, \"yanchor\": \"bottom\", \"yref\": \"paper\"}, {\"font\": {\"size\": 16}, \"showarrow\": false, \"text\": \"Sub Continent - Count\", \"x\": 0.11666666666666665, \"xanchor\": \"center\", \"xref\": \"paper\", \"y\": 0.46, \"yanchor\": \"bottom\", \"yref\": \"paper\"}, {\"font\": {\"size\": 16}, \"showarrow\": false, \"text\": \"Sub Continent - Non-zero Revenue Count\", \"x\": 0.49999999999999994, \"xanchor\": \"center\", \"xref\": \"paper\", \"y\": 0.46, \"yanchor\": \"bottom\", \"yref\": \"paper\"}, {\"font\": {\"size\": 16}, \"showarrow\": false, \"text\": \"Sub Continent - Mean Revenue\", \"x\": 0.8833333333333333, \"xanchor\": \"center\", \"xref\": \"paper\", \"y\": 0.46, \"yanchor\": \"bottom\", \"yref\": \"paper\"}], \"height\": 1500, \"paper_bgcolor\": \"rgb(233,233,233)\", \"template\": {\"data\": {\"bar\": [{\"error_x\": {\"color\": \"#2a3f5f\"}, \"error_y\": {\"color\": \"#2a3f5f\"}, \"marker\": {\"line\": {\"color\": \"#E5ECF6\", \"width\": 0.5}}, \"type\": \"bar\"}], \"barpolar\": [{\"marker\": {\"line\": {\"color\": \"#E5ECF6\", \"width\": 0.5}}, \"type\": \"barpolar\"}], \"carpet\": [{\"aaxis\": {\"endlinecolor\": \"#2a3f5f\", \"gridcolor\": \"white\", \"linecolor\": \"white\", \"minorgridcolor\": \"white\", \"startlinecolor\": \"#2a3f5f\"}, \"baxis\": {\"endlinecolor\": \"#2a3f5f\", \"gridcolor\": \"white\", \"linecolor\": \"white\", \"minorgridcolor\": \"white\", \"startlinecolor\": \"#2a3f5f\"}, \"type\": \"carpet\"}], \"choropleth\": [{\"colorbar\": {\"outlinewidth\": 0, \"ticks\": \"\"}, \"type\": \"choropleth\"}], \"contour\": [{\"colorbar\": {\"outlinewidth\": 0, \"ticks\": \"\"}, \"colorscale\": [[0.0, \"#0d0887\"], [0.1111111111111111, \"#46039f\"], [0.2222222222222222, \"#7201a8\"], [0.3333333333333333, \"#9c179e\"], [0.4444444444444444, \"#bd3786\"], [0.5555555555555556, \"#d8576b\"], [0.6666666666666666, \"#ed7953\"], [0.7777777777777778, \"#fb9f3a\"], [0.8888888888888888, \"#fdca26\"], [1.0, \"#f0f921\"]], \"type\": \"contour\"}], \"contourcarpet\": [{\"colorbar\": {\"outlinewidth\": 0, \"ticks\": \"\"}, \"type\": \"contourcarpet\"}], \"heatmap\": [{\"colorbar\": {\"outlinewidth\": 0, \"ticks\": \"\"}, \"colorscale\": [[0.0, \"#0d0887\"], [0.1111111111111111, \"#46039f\"], [0.2222222222222222, \"#7201a8\"], [0.3333333333333333, \"#9c179e\"], [0.4444444444444444, \"#bd3786\"], [0.5555555555555556, \"#d8576b\"], [0.6666666666666666, \"#ed7953\"], [0.7777777777777778, \"#fb9f3a\"], [0.8888888888888888, \"#fdca26\"], [1.0, \"#f0f921\"]], \"type\": \"heatmap\"}], \"heatmapgl\": [{\"colorbar\": {\"outlinewidth\": 0, \"ticks\": \"\"}, \"colorscale\": [[0.0, \"#0d0887\"], [0.1111111111111111, \"#46039f\"], [0.2222222222222222, \"#7201a8\"], [0.3333333333333333, \"#9c179e\"], [0.4444444444444444, \"#bd3786\"], [0.5555555555555556, \"#d8576b\"], [0.6666666666666666, \"#ed7953\"], [0.7777777777777778, \"#fb9f3a\"], [0.8888888888888888, \"#fdca26\"], [1.0, \"#f0f921\"]], \"type\": \"heatmapgl\"}], \"histogram\": [{\"marker\": {\"colorbar\": {\"outlinewidth\": 0, \"ticks\": \"\"}}, \"type\": \"histogram\"}], \"histogram2d\": [{\"colorbar\": {\"outlinewidth\": 0, \"ticks\": \"\"}, \"colorscale\": [[0.0, \"#0d0887\"], [0.1111111111111111, \"#46039f\"], [0.2222222222222222, \"#7201a8\"], [0.3333333333333333, \"#9c179e\"], [0.4444444444444444, \"#bd3786\"], [0.5555555555555556, \"#d8576b\"], [0.6666666666666666, \"#ed7953\"], [0.7777777777777778, \"#fb9f3a\"], [0.8888888888888888, \"#fdca26\"], [1.0, \"#f0f921\"]], \"type\": \"histogram2d\"}], \"histogram2dcontour\": [{\"colorbar\": {\"outlinewidth\": 0, \"ticks\": \"\"}, \"colorscale\": [[0.0, \"#0d0887\"], [0.1111111111111111, \"#46039f\"], [0.2222222222222222, \"#7201a8\"], [0.3333333333333333, \"#9c179e\"], [0.4444444444444444, \"#bd3786\"], [0.5555555555555556, \"#d8576b\"], [0.6666666666666666, \"#ed7953\"], [0.7777777777777778, \"#fb9f3a\"], [0.8888888888888888, \"#fdca26\"], [1.0, \"#f0f921\"]], \"type\": \"histogram2dcontour\"}], \"mesh3d\": [{\"colorbar\": {\"outlinewidth\": 0, \"ticks\": \"\"}, \"type\": \"mesh3d\"}], \"parcoords\": [{\"line\": {\"colorbar\": {\"outlinewidth\": 0, \"ticks\": \"\"}}, \"type\": \"parcoords\"}], \"pie\": [{\"automargin\": true, \"type\": \"pie\"}], \"scatter\": [{\"marker\": {\"colorbar\": {\"outlinewidth\": 0, \"ticks\": \"\"}}, \"type\": \"scatter\"}], \"scatter3d\": [{\"line\": {\"colorbar\": {\"outlinewidth\": 0, \"ticks\": \"\"}}, \"marker\": {\"colorbar\": {\"outlinewidth\": 0, \"ticks\": \"\"}}, \"type\": \"scatter3d\"}], \"scattercarpet\": [{\"marker\": {\"colorbar\": {\"outlinewidth\": 0, \"ticks\": \"\"}}, \"type\": \"scattercarpet\"}], \"scattergeo\": [{\"marker\": {\"colorbar\": {\"outlinewidth\": 0, \"ticks\": \"\"}}, \"type\": \"scattergeo\"}], \"scattergl\": [{\"marker\": {\"colorbar\": {\"outlinewidth\": 0, \"ticks\": \"\"}}, \"type\": \"scattergl\"}], \"scattermapbox\": [{\"marker\": {\"colorbar\": {\"outlinewidth\": 0, \"ticks\": \"\"}}, \"type\": \"scattermapbox\"}], \"scatterpolar\": [{\"marker\": {\"colorbar\": {\"outlinewidth\": 0, \"ticks\": \"\"}}, \"type\": \"scatterpolar\"}], \"scatterpolargl\": [{\"marker\": {\"colorbar\": {\"outlinewidth\": 0, \"ticks\": \"\"}}, \"type\": \"scatterpolargl\"}], \"scatterternary\": [{\"marker\": {\"colorbar\": {\"outlinewidth\": 0, \"ticks\": \"\"}}, \"type\": \"scatterternary\"}], \"surface\": [{\"colorbar\": {\"outlinewidth\": 0, \"ticks\": \"\"}, \"colorscale\": [[0.0, \"#0d0887\"], [0.1111111111111111, \"#46039f\"], [0.2222222222222222, \"#7201a8\"], [0.3333333333333333, \"#9c179e\"], [0.4444444444444444, \"#bd3786\"], [0.5555555555555556, \"#d8576b\"], [0.6666666666666666, \"#ed7953\"], [0.7777777777777778, \"#fb9f3a\"], [0.8888888888888888, \"#fdca26\"], [1.0, \"#f0f921\"]], \"type\": \"surface\"}], \"table\": [{\"cells\": {\"fill\": {\"color\": \"#EBF0F8\"}, \"line\": {\"color\": \"white\"}}, \"header\": {\"fill\": {\"color\": \"#C8D4E3\"}, \"line\": {\"color\": \"white\"}}, \"type\": \"table\"}]}, \"layout\": {\"annotationdefaults\": {\"arrowcolor\": \"#2a3f5f\", \"arrowhead\": 0, \"arrowwidth\": 1}, \"coloraxis\": {\"colorbar\": {\"outlinewidth\": 0, \"ticks\": \"\"}}, \"colorscale\": {\"diverging\": [[0, \"#8e0152\"], [0.1, \"#c51b7d\"], [0.2, \"#de77ae\"], [0.3, \"#f1b6da\"], [0.4, \"#fde0ef\"], [0.5, \"#f7f7f7\"], [0.6, \"#e6f5d0\"], [0.7, \"#b8e186\"], [0.8, \"#7fbc41\"], [0.9, \"#4d9221\"], [1, \"#276419\"]], \"sequential\": [[0.0, \"#0d0887\"], [0.1111111111111111, \"#46039f\"], [0.2222222222222222, \"#7201a8\"], [0.3333333333333333, \"#9c179e\"], [0.4444444444444444, \"#bd3786\"], [0.5555555555555556, \"#d8576b\"], [0.6666666666666666, \"#ed7953\"], [0.7777777777777778, \"#fb9f3a\"], [0.8888888888888888, \"#fdca26\"], [1.0, \"#f0f921\"]], \"sequentialminus\": [[0.0, \"#0d0887\"], [0.1111111111111111, \"#46039f\"], [0.2222222222222222, \"#7201a8\"], [0.3333333333333333, \"#9c179e\"], [0.4444444444444444, \"#bd3786\"], [0.5555555555555556, \"#d8576b\"], [0.6666666666666666, \"#ed7953\"], [0.7777777777777778, \"#fb9f3a\"], [0.8888888888888888, \"#fdca26\"], [1.0, \"#f0f921\"]]}, \"colorway\": [\"#636efa\", \"#EF553B\", \"#00cc96\", \"#ab63fa\", \"#FFA15A\", \"#19d3f3\", \"#FF6692\", \"#B6E880\", \"#FF97FF\", \"#FECB52\"], \"font\": {\"color\": \"#2a3f5f\"}, \"geo\": {\"bgcolor\": \"white\", \"lakecolor\": \"white\", \"landcolor\": \"#E5ECF6\", \"showlakes\": true, \"showland\": true, \"subunitcolor\": \"white\"}, \"hoverlabel\": {\"align\": \"left\"}, \"hovermode\": \"closest\", \"mapbox\": {\"style\": \"light\"}, \"paper_bgcolor\": \"white\", \"plot_bgcolor\": \"#E5ECF6\", \"polar\": {\"angularaxis\": {\"gridcolor\": \"white\", \"linecolor\": \"white\", \"ticks\": \"\"}, \"bgcolor\": \"#E5ECF6\", \"radialaxis\": {\"gridcolor\": \"white\", \"linecolor\": \"white\", \"ticks\": \"\"}}, \"scene\": {\"xaxis\": {\"backgroundcolor\": \"#E5ECF6\", \"gridcolor\": \"white\", \"gridwidth\": 2, \"linecolor\": \"white\", \"showbackground\": true, \"ticks\": \"\", \"zerolinecolor\": \"white\"}, \"yaxis\": {\"backgroundcolor\": \"#E5ECF6\", \"gridcolor\": \"white\", \"gridwidth\": 2, \"linecolor\": \"white\", \"showbackground\": true, \"ticks\": \"\", \"zerolinecolor\": \"white\"}, \"zaxis\": {\"backgroundcolor\": \"#E5ECF6\", \"gridcolor\": \"white\", \"gridwidth\": 2, \"linecolor\": \"white\", \"showbackground\": true, \"ticks\": \"\", \"zerolinecolor\": \"white\"}}, \"shapedefaults\": {\"line\": {\"color\": \"#2a3f5f\"}}, \"ternary\": {\"aaxis\": {\"gridcolor\": \"white\", \"linecolor\": \"white\", \"ticks\": \"\"}, \"baxis\": {\"gridcolor\": \"white\", \"linecolor\": \"white\", \"ticks\": \"\"}, \"bgcolor\": \"#E5ECF6\", \"caxis\": {\"gridcolor\": \"white\", \"linecolor\": \"white\", \"ticks\": \"\"}}, \"title\": {\"x\": 0.05}, \"xaxis\": {\"automargin\": true, \"gridcolor\": \"white\", \"linecolor\": \"white\", \"ticks\": \"\", \"title\": {\"standoff\": 15}, \"zerolinecolor\": \"white\", \"zerolinewidth\": 2}, \"yaxis\": {\"automargin\": true, \"gridcolor\": \"white\", \"linecolor\": \"white\", \"ticks\": \"\", \"title\": {\"standoff\": 15}, \"zerolinecolor\": \"white\", \"zerolinewidth\": 2}}}, \"title\": {\"text\": \"Geography Plots\"}, \"width\": 1200, \"xaxis\": {\"anchor\": \"y\", \"domain\": [0.0, 0.2333333333333333]}, \"xaxis2\": {\"anchor\": \"y2\", \"domain\": [0.3833333333333333, 0.6166666666666666]}, \"xaxis3\": {\"anchor\": \"y3\", \"domain\": [0.7666666666666666, 0.9999999999999999]}, \"xaxis4\": {\"anchor\": \"y4\", \"domain\": [0.0, 0.2333333333333333]}, \"xaxis5\": {\"anchor\": \"y5\", \"domain\": [0.3833333333333333, 0.6166666666666666]}, \"xaxis6\": {\"anchor\": \"y6\", \"domain\": [0.7666666666666666, 0.9999999999999999]}, \"yaxis\": {\"anchor\": \"x\", \"domain\": [0.54, 1.0]}, \"yaxis2\": {\"anchor\": \"x2\", \"domain\": [0.54, 1.0]}, \"yaxis3\": {\"anchor\": \"x3\", \"domain\": [0.54, 1.0]}, \"yaxis4\": {\"anchor\": \"x4\", \"domain\": [0.0, 0.46]}, \"yaxis5\": {\"anchor\": \"x5\", \"domain\": [0.0, 0.46]}, \"yaxis6\": {\"anchor\": \"x6\", \"domain\": [0.0, 0.46]}},\n",
              "                        {\"responsive\": true}\n",
              "                    ).then(function(){\n",
              "                            \n",
              "var gd = document.getElementById('21cbfa05-d13e-473c-9310-f0b1aada8889');\n",
              "var x = new MutationObserver(function (mutations, observer) {{\n",
              "        var display = window.getComputedStyle(gd).display;\n",
              "        if (!display || display === 'none') {{\n",
              "            console.log([gd, 'removed!']);\n",
              "            Plotly.purge(gd);\n",
              "            observer.disconnect();\n",
              "        }}\n",
              "}});\n",
              "\n",
              "// Listen for the removal of the full notebook cells\n",
              "var notebookContainer = gd.closest('#notebook-container');\n",
              "if (notebookContainer) {{\n",
              "    x.observe(notebookContainer, {childList: true});\n",
              "}}\n",
              "\n",
              "// Listen for the clearing of the current output cell\n",
              "var outputEl = gd.closest('.output');\n",
              "if (outputEl) {{\n",
              "    x.observe(outputEl, {childList: true});\n",
              "}}\n",
              "\n",
              "                        })\n",
              "                };\n",
              "                \n",
              "            </script>\n",
              "        </div>\n",
              "</body>\n",
              "</html>"
            ]
          },
          "metadata": {}
        },
        {
          "output_type": "display_data",
          "data": {
            "text/html": [
              "<html>\n",
              "<head><meta charset=\"utf-8\" /></head>\n",
              "<body>\n",
              "    <div>\n",
              "            <script src=\"https://cdnjs.cloudflare.com/ajax/libs/mathjax/2.7.5/MathJax.js?config=TeX-AMS-MML_SVG\"></script><script type=\"text/javascript\">if (window.MathJax) {MathJax.Hub.Config({SVG: {font: \"STIX-Web\"}});}</script>\n",
              "                <script type=\"text/javascript\">window.PlotlyConfig = {MathJaxConfig: 'local'};</script>\n",
              "        <script src=\"https://cdn.plot.ly/plotly-latest.min.js\"></script>    \n",
              "            <div id=\"3d920664-54b5-4553-97af-ee4d62f3809e\" class=\"plotly-graph-div\" style=\"height:1500px; width:1200px;\"></div>\n",
              "            <script type=\"text/javascript\">\n",
              "                \n",
              "                    window.PLOTLYENV=window.PLOTLYENV || {};\n",
              "                    \n",
              "                if (document.getElementById(\"3d920664-54b5-4553-97af-ee4d62f3809e\")) {\n",
              "                    Plotly.newPlot(\n",
              "                        '3d920664-54b5-4553-97af-ee4d62f3809e',\n",
              "                        [{\"marker\": {\"color\": \"rgba(58, 71, 80, 0.6)\"}, \"orientation\": \"h\", \"showlegend\": false, \"type\": \"bar\", \"x\": [14, 177, 200, 2408, 2762, 6256], \"xaxis\": \"x\", \"y\": [\"(not set)\", \"Africa\", \"Oceania\", \"Asia\", \"Europe\", \"Americas\"], \"yaxis\": \"y\"}, {\"marker\": {\"color\": \"rgba(58, 71, 80, 0.6)\"}, \"orientation\": \"h\", \"showlegend\": false, \"type\": \"bar\", \"x\": [14, 177, 200, 2408, 2762, 6256], \"xaxis\": \"x2\", \"y\": [\"(not set)\", \"Africa\", \"Oceania\", \"Asia\", \"Europe\", \"Americas\"], \"yaxis\": \"y2\"}, {\"marker\": {\"color\": \"rgba(58, 71, 80, 0.6)\"}, \"orientation\": \"h\", \"showlegend\": false, \"type\": \"bar\", \"x\": [0.0, 0.0, 0.0, 81569.76744186046, 34210.716871832, 3576459.398976982], \"xaxis\": \"x3\", \"y\": [\"(not set)\", \"Africa\", \"Oceania\", \"Asia\", \"Europe\", \"Americas\"], \"yaxis\": \"y3\"}, {\"marker\": {\"color\": \"orange\"}, \"orientation\": \"h\", \"showlegend\": false, \"type\": \"bar\", \"x\": [1, 4, 13, 14, 19, 33, 34, 36, 84, 199, 212, 455, 487, 499, 599, 646, 695, 714, 724, 837, 5512], \"xaxis\": \"x4\", \"y\": [\"Melanesia\", \"Middle Africa\", \"Central Asia\", \"(not set)\", \"Southern Africa\", \"Caribbean\", \"Eastern Africa\", \"Western Africa\", \"Northern Africa\", \"Australasia\", \"Central America\", \"Western Asia\", \"Southern Europe\", \"South America\", \"Eastern Asia\", \"Southeast Asia\", \"Southern Asia\", \"Northern Europe\", \"Eastern Europe\", \"Western Europe\", \"Northern America\"], \"yaxis\": \"y4\"}, {\"marker\": {\"color\": \"orange\"}, \"orientation\": \"h\", \"showlegend\": false, \"type\": \"bar\", \"x\": [1, 4, 13, 14, 19, 33, 34, 36, 84, 199, 212, 455, 487, 499, 599, 646, 695, 714, 724, 837, 5512], \"xaxis\": \"x5\", \"y\": [\"Melanesia\", \"Middle Africa\", \"Central Asia\", \"(not set)\", \"Southern Africa\", \"Caribbean\", \"Eastern Africa\", \"Western Africa\", \"Northern Africa\", \"Australasia\", \"Central America\", \"Western Asia\", \"Southern Europe\", \"South America\", \"Eastern Asia\", \"Southeast Asia\", \"Southern Asia\", \"Northern Europe\", \"Eastern Europe\", \"Western Europe\", \"Northern America\"], \"yaxis\": \"y5\"}, {\"marker\": {\"color\": \"orange\"}, \"orientation\": \"h\", \"showlegend\": false, \"type\": \"bar\", \"x\": [0.0, 0.0, 0.0, 0.0, 0.0, 605757.5757575758, 0.0, 0.0, 0.0, 0.0, 0.0, 0.0, 0.0, 0.0, 327913.1886477462, 0.0, 0.0, 0.0, 0.0, 112891.27837514934, 4055576.923076923], \"xaxis\": \"x6\", \"y\": [\"Melanesia\", \"Middle Africa\", \"Central Asia\", \"(not set)\", \"Southern Africa\", \"Caribbean\", \"Eastern Africa\", \"Western Africa\", \"Northern Africa\", \"Australasia\", \"Central America\", \"Western Asia\", \"Southern Europe\", \"South America\", \"Eastern Asia\", \"Southeast Asia\", \"Southern Asia\", \"Northern Europe\", \"Eastern Europe\", \"Western Europe\", \"Northern America\"], \"yaxis\": \"y6\"}],\n",
              "                        {\"annotations\": [{\"font\": {\"size\": 16}, \"showarrow\": false, \"text\": \"Continent - Count\", \"x\": 0.11666666666666665, \"xanchor\": \"center\", \"xref\": \"paper\", \"y\": 1.0, \"yanchor\": \"bottom\", \"yref\": \"paper\"}, {\"font\": {\"size\": 16}, \"showarrow\": false, \"text\": \"Continent - Non-zero Revenue Count\", \"x\": 0.49999999999999994, \"xanchor\": \"center\", \"xref\": \"paper\", \"y\": 1.0, \"yanchor\": \"bottom\", \"yref\": \"paper\"}, {\"font\": {\"size\": 16}, \"showarrow\": false, \"text\": \"Continent - Mean Revenue\", \"x\": 0.8833333333333333, \"xanchor\": \"center\", \"xref\": \"paper\", \"y\": 1.0, \"yanchor\": \"bottom\", \"yref\": \"paper\"}, {\"font\": {\"size\": 16}, \"showarrow\": false, \"text\": \"Sub Continent - Count\", \"x\": 0.11666666666666665, \"xanchor\": \"center\", \"xref\": \"paper\", \"y\": 0.46, \"yanchor\": \"bottom\", \"yref\": \"paper\"}, {\"font\": {\"size\": 16}, \"showarrow\": false, \"text\": \"Sub Continent - Non-zero Revenue Count\", \"x\": 0.49999999999999994, \"xanchor\": \"center\", \"xref\": \"paper\", \"y\": 0.46, \"yanchor\": \"bottom\", \"yref\": \"paper\"}, {\"font\": {\"size\": 16}, \"showarrow\": false, \"text\": \"Sub Continent - Mean Revenue\", \"x\": 0.8833333333333333, \"xanchor\": \"center\", \"xref\": \"paper\", \"y\": 0.46, \"yanchor\": \"bottom\", \"yref\": \"paper\"}], \"height\": 1500, \"paper_bgcolor\": \"rgb(233,233,233)\", \"template\": {\"data\": {\"bar\": [{\"error_x\": {\"color\": \"#2a3f5f\"}, \"error_y\": {\"color\": \"#2a3f5f\"}, \"marker\": {\"line\": {\"color\": \"#E5ECF6\", \"width\": 0.5}}, \"type\": \"bar\"}], \"barpolar\": [{\"marker\": {\"line\": {\"color\": \"#E5ECF6\", \"width\": 0.5}}, \"type\": \"barpolar\"}], \"carpet\": [{\"aaxis\": {\"endlinecolor\": \"#2a3f5f\", \"gridcolor\": \"white\", \"linecolor\": \"white\", \"minorgridcolor\": \"white\", \"startlinecolor\": \"#2a3f5f\"}, \"baxis\": {\"endlinecolor\": \"#2a3f5f\", \"gridcolor\": \"white\", \"linecolor\": \"white\", \"minorgridcolor\": \"white\", \"startlinecolor\": \"#2a3f5f\"}, \"type\": \"carpet\"}], \"choropleth\": [{\"colorbar\": {\"outlinewidth\": 0, \"ticks\": \"\"}, \"type\": \"choropleth\"}], \"contour\": [{\"colorbar\": {\"outlinewidth\": 0, \"ticks\": \"\"}, \"colorscale\": [[0.0, \"#0d0887\"], [0.1111111111111111, \"#46039f\"], [0.2222222222222222, \"#7201a8\"], [0.3333333333333333, \"#9c179e\"], [0.4444444444444444, \"#bd3786\"], [0.5555555555555556, \"#d8576b\"], [0.6666666666666666, \"#ed7953\"], [0.7777777777777778, \"#fb9f3a\"], [0.8888888888888888, \"#fdca26\"], [1.0, \"#f0f921\"]], \"type\": \"contour\"}], \"contourcarpet\": [{\"colorbar\": {\"outlinewidth\": 0, \"ticks\": \"\"}, \"type\": \"contourcarpet\"}], \"heatmap\": [{\"colorbar\": {\"outlinewidth\": 0, \"ticks\": \"\"}, \"colorscale\": [[0.0, \"#0d0887\"], [0.1111111111111111, \"#46039f\"], [0.2222222222222222, \"#7201a8\"], [0.3333333333333333, \"#9c179e\"], [0.4444444444444444, \"#bd3786\"], [0.5555555555555556, \"#d8576b\"], [0.6666666666666666, \"#ed7953\"], [0.7777777777777778, \"#fb9f3a\"], [0.8888888888888888, \"#fdca26\"], [1.0, \"#f0f921\"]], \"type\": \"heatmap\"}], \"heatmapgl\": [{\"colorbar\": {\"outlinewidth\": 0, \"ticks\": \"\"}, \"colorscale\": [[0.0, \"#0d0887\"], [0.1111111111111111, \"#46039f\"], [0.2222222222222222, \"#7201a8\"], [0.3333333333333333, \"#9c179e\"], [0.4444444444444444, \"#bd3786\"], [0.5555555555555556, \"#d8576b\"], [0.6666666666666666, \"#ed7953\"], [0.7777777777777778, \"#fb9f3a\"], [0.8888888888888888, \"#fdca26\"], [1.0, \"#f0f921\"]], \"type\": \"heatmapgl\"}], \"histogram\": [{\"marker\": {\"colorbar\": {\"outlinewidth\": 0, \"ticks\": \"\"}}, \"type\": \"histogram\"}], \"histogram2d\": [{\"colorbar\": {\"outlinewidth\": 0, \"ticks\": \"\"}, \"colorscale\": [[0.0, \"#0d0887\"], [0.1111111111111111, \"#46039f\"], [0.2222222222222222, \"#7201a8\"], [0.3333333333333333, \"#9c179e\"], [0.4444444444444444, \"#bd3786\"], [0.5555555555555556, \"#d8576b\"], [0.6666666666666666, \"#ed7953\"], [0.7777777777777778, \"#fb9f3a\"], [0.8888888888888888, \"#fdca26\"], [1.0, \"#f0f921\"]], \"type\": \"histogram2d\"}], \"histogram2dcontour\": [{\"colorbar\": {\"outlinewidth\": 0, \"ticks\": \"\"}, \"colorscale\": [[0.0, \"#0d0887\"], [0.1111111111111111, \"#46039f\"], [0.2222222222222222, \"#7201a8\"], [0.3333333333333333, \"#9c179e\"], [0.4444444444444444, \"#bd3786\"], [0.5555555555555556, \"#d8576b\"], [0.6666666666666666, \"#ed7953\"], [0.7777777777777778, \"#fb9f3a\"], [0.8888888888888888, \"#fdca26\"], [1.0, \"#f0f921\"]], \"type\": \"histogram2dcontour\"}], \"mesh3d\": [{\"colorbar\": {\"outlinewidth\": 0, \"ticks\": \"\"}, \"type\": \"mesh3d\"}], \"parcoords\": [{\"line\": {\"colorbar\": {\"outlinewidth\": 0, \"ticks\": \"\"}}, \"type\": \"parcoords\"}], \"pie\": [{\"automargin\": true, \"type\": \"pie\"}], \"scatter\": [{\"marker\": {\"colorbar\": {\"outlinewidth\": 0, \"ticks\": \"\"}}, \"type\": \"scatter\"}], \"scatter3d\": [{\"line\": {\"colorbar\": {\"outlinewidth\": 0, \"ticks\": \"\"}}, \"marker\": {\"colorbar\": {\"outlinewidth\": 0, \"ticks\": \"\"}}, \"type\": \"scatter3d\"}], \"scattercarpet\": [{\"marker\": {\"colorbar\": {\"outlinewidth\": 0, \"ticks\": \"\"}}, \"type\": \"scattercarpet\"}], \"scattergeo\": [{\"marker\": {\"colorbar\": {\"outlinewidth\": 0, \"ticks\": \"\"}}, \"type\": \"scattergeo\"}], \"scattergl\": [{\"marker\": {\"colorbar\": {\"outlinewidth\": 0, \"ticks\": \"\"}}, \"type\": \"scattergl\"}], \"scattermapbox\": [{\"marker\": {\"colorbar\": {\"outlinewidth\": 0, \"ticks\": \"\"}}, \"type\": \"scattermapbox\"}], \"scatterpolar\": [{\"marker\": {\"colorbar\": {\"outlinewidth\": 0, \"ticks\": \"\"}}, \"type\": \"scatterpolar\"}], \"scatterpolargl\": [{\"marker\": {\"colorbar\": {\"outlinewidth\": 0, \"ticks\": \"\"}}, \"type\": \"scatterpolargl\"}], \"scatterternary\": [{\"marker\": {\"colorbar\": {\"outlinewidth\": 0, \"ticks\": \"\"}}, \"type\": \"scatterternary\"}], \"surface\": [{\"colorbar\": {\"outlinewidth\": 0, \"ticks\": \"\"}, \"colorscale\": [[0.0, \"#0d0887\"], [0.1111111111111111, \"#46039f\"], [0.2222222222222222, \"#7201a8\"], [0.3333333333333333, \"#9c179e\"], [0.4444444444444444, \"#bd3786\"], [0.5555555555555556, \"#d8576b\"], [0.6666666666666666, \"#ed7953\"], [0.7777777777777778, \"#fb9f3a\"], [0.8888888888888888, \"#fdca26\"], [1.0, \"#f0f921\"]], \"type\": \"surface\"}], \"table\": [{\"cells\": {\"fill\": {\"color\": \"#EBF0F8\"}, \"line\": {\"color\": \"white\"}}, \"header\": {\"fill\": {\"color\": \"#C8D4E3\"}, \"line\": {\"color\": \"white\"}}, \"type\": \"table\"}]}, \"layout\": {\"annotationdefaults\": {\"arrowcolor\": \"#2a3f5f\", \"arrowhead\": 0, \"arrowwidth\": 1}, \"coloraxis\": {\"colorbar\": {\"outlinewidth\": 0, \"ticks\": \"\"}}, \"colorscale\": {\"diverging\": [[0, \"#8e0152\"], [0.1, \"#c51b7d\"], [0.2, \"#de77ae\"], [0.3, \"#f1b6da\"], [0.4, \"#fde0ef\"], [0.5, \"#f7f7f7\"], [0.6, \"#e6f5d0\"], [0.7, \"#b8e186\"], [0.8, \"#7fbc41\"], [0.9, \"#4d9221\"], [1, \"#276419\"]], \"sequential\": [[0.0, \"#0d0887\"], [0.1111111111111111, \"#46039f\"], [0.2222222222222222, \"#7201a8\"], [0.3333333333333333, \"#9c179e\"], [0.4444444444444444, \"#bd3786\"], [0.5555555555555556, \"#d8576b\"], [0.6666666666666666, \"#ed7953\"], [0.7777777777777778, \"#fb9f3a\"], [0.8888888888888888, \"#fdca26\"], [1.0, \"#f0f921\"]], \"sequentialminus\": [[0.0, \"#0d0887\"], [0.1111111111111111, \"#46039f\"], [0.2222222222222222, \"#7201a8\"], [0.3333333333333333, \"#9c179e\"], [0.4444444444444444, \"#bd3786\"], [0.5555555555555556, \"#d8576b\"], [0.6666666666666666, \"#ed7953\"], [0.7777777777777778, \"#fb9f3a\"], [0.8888888888888888, \"#fdca26\"], [1.0, \"#f0f921\"]]}, \"colorway\": [\"#636efa\", \"#EF553B\", \"#00cc96\", \"#ab63fa\", \"#FFA15A\", \"#19d3f3\", \"#FF6692\", \"#B6E880\", \"#FF97FF\", \"#FECB52\"], \"font\": {\"color\": \"#2a3f5f\"}, \"geo\": {\"bgcolor\": \"white\", \"lakecolor\": \"white\", \"landcolor\": \"#E5ECF6\", \"showlakes\": true, \"showland\": true, \"subunitcolor\": \"white\"}, \"hoverlabel\": {\"align\": \"left\"}, \"hovermode\": \"closest\", \"mapbox\": {\"style\": \"light\"}, \"paper_bgcolor\": \"white\", \"plot_bgcolor\": \"#E5ECF6\", \"polar\": {\"angularaxis\": {\"gridcolor\": \"white\", \"linecolor\": \"white\", \"ticks\": \"\"}, \"bgcolor\": \"#E5ECF6\", \"radialaxis\": {\"gridcolor\": \"white\", \"linecolor\": \"white\", \"ticks\": \"\"}}, \"scene\": {\"xaxis\": {\"backgroundcolor\": \"#E5ECF6\", \"gridcolor\": \"white\", \"gridwidth\": 2, \"linecolor\": \"white\", \"showbackground\": true, \"ticks\": \"\", \"zerolinecolor\": \"white\"}, \"yaxis\": {\"backgroundcolor\": \"#E5ECF6\", \"gridcolor\": \"white\", \"gridwidth\": 2, \"linecolor\": \"white\", \"showbackground\": true, \"ticks\": \"\", \"zerolinecolor\": \"white\"}, \"zaxis\": {\"backgroundcolor\": \"#E5ECF6\", \"gridcolor\": \"white\", \"gridwidth\": 2, \"linecolor\": \"white\", \"showbackground\": true, \"ticks\": \"\", \"zerolinecolor\": \"white\"}}, \"shapedefaults\": {\"line\": {\"color\": \"#2a3f5f\"}}, \"ternary\": {\"aaxis\": {\"gridcolor\": \"white\", \"linecolor\": \"white\", \"ticks\": \"\"}, \"baxis\": {\"gridcolor\": \"white\", \"linecolor\": \"white\", \"ticks\": \"\"}, \"bgcolor\": \"#E5ECF6\", \"caxis\": {\"gridcolor\": \"white\", \"linecolor\": \"white\", \"ticks\": \"\"}}, \"title\": {\"x\": 0.05}, \"xaxis\": {\"automargin\": true, \"gridcolor\": \"white\", \"linecolor\": \"white\", \"ticks\": \"\", \"title\": {\"standoff\": 15}, \"zerolinecolor\": \"white\", \"zerolinewidth\": 2}, \"yaxis\": {\"automargin\": true, \"gridcolor\": \"white\", \"linecolor\": \"white\", \"ticks\": \"\", \"title\": {\"standoff\": 15}, \"zerolinecolor\": \"white\", \"zerolinewidth\": 2}}}, \"title\": {\"text\": \"Geography Plots\"}, \"width\": 1200, \"xaxis\": {\"anchor\": \"y\", \"domain\": [0.0, 0.2333333333333333]}, \"xaxis2\": {\"anchor\": \"y2\", \"domain\": [0.3833333333333333, 0.6166666666666666]}, \"xaxis3\": {\"anchor\": \"y3\", \"domain\": [0.7666666666666666, 0.9999999999999999]}, \"xaxis4\": {\"anchor\": \"y4\", \"domain\": [0.0, 0.2333333333333333]}, \"xaxis5\": {\"anchor\": \"y5\", \"domain\": [0.3833333333333333, 0.6166666666666666]}, \"xaxis6\": {\"anchor\": \"y6\", \"domain\": [0.7666666666666666, 0.9999999999999999]}, \"yaxis\": {\"anchor\": \"x\", \"domain\": [0.54, 1.0]}, \"yaxis2\": {\"anchor\": \"x2\", \"domain\": [0.54, 1.0]}, \"yaxis3\": {\"anchor\": \"x3\", \"domain\": [0.54, 1.0]}, \"yaxis4\": {\"anchor\": \"x4\", \"domain\": [0.0, 0.46]}, \"yaxis5\": {\"anchor\": \"x5\", \"domain\": [0.0, 0.46]}, \"yaxis6\": {\"anchor\": \"x6\", \"domain\": [0.0, 0.46]}},\n",
              "                        {\"responsive\": true}\n",
              "                    ).then(function(){\n",
              "                            \n",
              "var gd = document.getElementById('3d920664-54b5-4553-97af-ee4d62f3809e');\n",
              "var x = new MutationObserver(function (mutations, observer) {{\n",
              "        var display = window.getComputedStyle(gd).display;\n",
              "        if (!display || display === 'none') {{\n",
              "            console.log([gd, 'removed!']);\n",
              "            Plotly.purge(gd);\n",
              "            observer.disconnect();\n",
              "        }}\n",
              "}});\n",
              "\n",
              "// Listen for the removal of the full notebook cells\n",
              "var notebookContainer = gd.closest('#notebook-container');\n",
              "if (notebookContainer) {{\n",
              "    x.observe(notebookContainer, {childList: true});\n",
              "}}\n",
              "\n",
              "// Listen for the clearing of the current output cell\n",
              "var outputEl = gd.closest('.output');\n",
              "if (outputEl) {{\n",
              "    x.observe(outputEl, {childList: true});\n",
              "}}\n",
              "\n",
              "                        })\n",
              "                };\n",
              "                \n",
              "            </script>\n",
              "        </div>\n",
              "</body>\n",
              "</html>"
            ]
          },
          "metadata": {}
        }
      ],
      "source": [
        "# Continent\n",
        "cnt_srs = data.groupby('continent')['transactionRevenue'].agg(['size', 'count', 'mean'])\n",
        "cnt_srs.columns = [\"count\", \"count of non-zero revenue\", \"mean\"]\n",
        "cnt_srs = cnt_srs.sort_values(by=\"count\", ascending=False)\n",
        "trace1 = horizontal_bar_chart(cnt_srs[\"count\"].head(10), 'rgba(58, 71, 80, 0.6)')\n",
        "trace2 = horizontal_bar_chart(cnt_srs[\"count of non-zero revenue\"].head(10), 'rgba(58, 71, 80, 0.6)')\n",
        "trace3 = horizontal_bar_chart(cnt_srs[\"mean\"].head(10), 'rgba(58, 71, 80, 0.6)')\n",
        "\n",
        "# Sub-continent\n",
        "cnt_srs = data.groupby('subContinent')['transactionRevenue'].agg(['size', 'count', 'mean'])\n",
        "cnt_srs.columns = [\"count\", \"count of non-zero revenue\", \"mean\"]\n",
        "cnt_srs = cnt_srs.sort_values(by=\"count\", ascending=False)\n",
        "trace4 = horizontal_bar_chart(cnt_srs[\"count\"], 'orange')\n",
        "trace5 = horizontal_bar_chart(cnt_srs[\"count of non-zero revenue\"], 'orange')\n",
        "trace6 = horizontal_bar_chart(cnt_srs[\"mean\"], 'orange')\n",
        "\n",
        "\n",
        "# Creating two subplots\n",
        "fig = make_subplots(rows=2, cols=3, vertical_spacing=0.08, horizontal_spacing=0.15, \n",
        "                          subplot_titles=[\"Continent - Count\", \"Continent - Non-zero Revenue Count\", \"Continent - Mean Revenue\",\n",
        "                                          \"Sub Continent - Count\",  \"Sub Continent - Non-zero Revenue Count\", \"Sub Continent - Mean Revenue\",\n",
        "                                          ])\n",
        "\n",
        "fig.append_trace(trace1, 1, 1)\n",
        "fig.append_trace(trace2, 1, 2)\n",
        "fig.append_trace(trace3, 1, 3)\n",
        "fig.append_trace(trace4, 2, 1)\n",
        "fig.append_trace(trace5, 2, 2)\n",
        "fig.append_trace(trace6, 2, 3)\n",
        "\n",
        "fig['layout'].update(height=1500, width=1200, paper_bgcolor='rgb(233,233,233)', title=\"Geography Plots\")\n",
        "py.iplot(fig, filename='geo-plots')\n",
        "fig.show()"
      ]
    },
    {
      "cell_type": "markdown",
      "metadata": {
        "id": "AjKzwmMonNwk"
      },
      "source": [
        "Inferences:\n",
        "On the continent plot, we can see that America has both higher number of counts as well as highest number of counts where the revenue is non-zero\n",
        "Though Asia and Europe has high number of counts, the number of non-zero revenue counts from these continents are comparatively low.\n",
        "We can infer the first two points from the sub-continents plot too.\n",
        "If the network domain is \"unknown.unknown\" rather than \"(not set)\", then the number of counts with non-zero revenue tend to be lower."
      ]
    },
    {
      "cell_type": "markdown",
      "metadata": {
        "id": "GdMRbahyoA4X"
      },
      "source": [
        "Date exploration"
      ]
    },
    {
      "cell_type": "code",
      "execution_count": null,
      "metadata": {
        "id": "CQhQ3k80nHq5",
        "colab": {
          "base_uri": "https://localhost:8080/",
          "height": 207
        },
        "outputId": "e4189ba4-773e-4c7d-8d05-631767b9ba25"
      },
      "outputs": [
        {
          "output_type": "stream",
          "name": "stderr",
          "text": [
            "/usr/local/lib/python3.7/dist-packages/ipykernel_launcher.py:2: SettingWithCopyWarning:\n",
            "\n",
            "\n",
            "A value is trying to be set on a copy of a slice from a DataFrame.\n",
            "Try using .loc[row_indexer,col_indexer] = value instead\n",
            "\n",
            "See the caveats in the documentation: https://pandas.pydata.org/pandas-docs/stable/user_guide/indexing.html#returning-a-view-versus-a-copy\n",
            "\n"
          ]
        },
        {
          "output_type": "execute_result",
          "data": {
            "text/plain": [
              "[<matplotlib.lines.Line2D at 0x7f01d04a7090>]"
            ]
          },
          "metadata": {},
          "execution_count": 52
        },
        {
          "output_type": "display_data",
          "data": {
            "image/png": "[encoded data removed]",
            "text/plain": [
              "<Figure size 720x720 with 1 Axes>"
            ]
          },
          "metadata": {
            "needs_background": "light"
          }
        }
      ],
      "source": [
        "visit_datetime_df = data[[\"date\",\"visitNumber\"]]\n",
        "visit_datetime_df[\"visitNumber\"] = visit_datetime_df.visitNumber.astype(np.int64)\n",
        "\n",
        "daily_visit_df = visit_datetime_df.groupby(by=[\"date\"], axis = 0).sum()\n",
        "\n",
        "fig, axes = plt.subplots(1,1,figsize=(10,10))\n",
        "axes.set_ylabel(\"# of visits\")\n",
        "axes.set_xlabel(\"date\")\n",
        "axes.set_title(\"Daily Visits\")\n",
        "axes.plot(daily_visit_df[\"visitNumber\"])"
      ]
    },
    {
      "cell_type": "markdown",
      "metadata": {
        "id": "1oH12Mp1oIW3"
      },
      "source": [
        "2017-02 is the month with biggest visit"
      ]
    },
    {
      "cell_type": "code",
      "execution_count": null,
      "metadata": {
        "id": "kNOax6vUoEB1",
        "colab": {
          "base_uri": "https://localhost:8080/",
          "height": 1000
        },
        "outputId": "faa8264e-39cc-49bd-8519-8f3609cb146d"
      },
      "outputs": [
        {
          "output_type": "execute_result",
          "data": {
            "application/vnd.google.colaboratory.intrinsic+json": {
              "type": "string"
            },
            "text/plain": [
              "'10 most_common visitNumbers are [1, 2, 3, 4, 5, 6, 7, 8, 9, 10] times and 10 least_common visitNumbers are [77, 76, 90, 235, 162, 72, 236, 36, 195, 108] times'"
            ]
          },
          "metadata": {},
          "execution_count": 53
        }
      ],
      "source": [
        "import collections\n",
        "\n",
        "tmp_least_10_visitNumbers_list = collections.Counter(list(data.visitNumber)).most_common()[:-10-1:-1]\n",
        "tmp_most_10_visitNumbers_list = collections.Counter(list(data.visitNumber)).most_common(10)\n",
        "least_visitNumbers = []\n",
        "most_visitNumbers = []\n",
        "for i in tmp_least_10_visitNumbers_list:\n",
        "    least_visitNumbers.append(i[0])\n",
        "for i in tmp_most_10_visitNumbers_list:\n",
        "    most_visitNumbers.append(i[0])\n",
        "\"10 most_common visitNumbers are {} times and 10 least_common visitNumbers are {} times\".format(most_visitNumbers,least_visitNumbers)"
      ]
    },
    {
      "cell_type": "code",
      "execution_count": null,
      "metadata": {
        "id": "ZZpIVoDtobiw",
        "colab": {
          "base_uri": "https://localhost:8080/"
        },
        "outputId": "f6789312-d8f8-47d3-948c-ebf08825afe8"
      },
      "outputs": [
        {
          "output_type": "execute_result",
          "data": {
            "text/plain": [
              "2    5.407464\n",
              "3    0.676991\n",
              "4    0.220022\n",
              "5    0.059237\n",
              "6    0.025387\n",
              "7    0.016925\n",
              "8    0.008462\n",
              "Name: fullVisitorId, dtype: float64"
            ]
          },
          "metadata": {},
          "execution_count": 54
        }
      ],
      "source": [
        "repetitive_users=data.fullVisitorId.value_counts().sort_values()\n",
        "repetitive_users[repetitive_users>1].value_counts()/len(data)*100"
      ]
    },
    {
      "cell_type": "code",
      "execution_count": null,
      "metadata": {
        "id": "Pt9mv27IoeFT",
        "colab": {
          "base_uri": "https://localhost:8080/"
        },
        "outputId": "e703fb14-8133-4fdb-e967-b71621b695cc"
      },
      "outputs": [
        {
          "output_type": "execute_result",
          "data": {
            "text/plain": [
              "6.414487602606415"
            ]
          },
          "metadata": {},
          "execution_count": 55
        }
      ],
      "source": [
        "sum(repetitive_users[repetitive_users>1].value_counts()/len(data)*100)"
      ]
    },
    {
      "cell_type": "markdown",
      "metadata": {
        "id": "A9DcyIgiohbP"
      },
      "source": [
        "There is only 6.4% people visited the website more than once.\n"
      ]
    },
    {
      "cell_type": "code",
      "execution_count": null,
      "metadata": {
        "id": "Rcnh9aagotIl",
        "colab": {
          "base_uri": "https://localhost:8080/",
          "height": 122
        },
        "outputId": "5b93ca87-dbaa-4c7c-e9cc-6dd2cf3d3e91"
      },
      "outputs": [
        {
          "output_type": "stream",
          "name": "stderr",
          "text": [
            "/usr/local/lib/python3.7/dist-packages/seaborn/_decorators.py:43: FutureWarning:\n",
            "\n",
            "Pass the following variable as a keyword arg: x. From version 0.12, the only valid positional argument will be `data`, and passing other arguments without an explicit keyword will result in an error or misinterpretation.\n",
            "\n"
          ]
        },
        {
          "output_type": "display_data",
          "data": {
            "image/png": "[encoded data removed]",
            "text/plain": [
              "<Figure size 1008x504 with 1 Axes>"
            ]
          },
          "metadata": {
            "needs_background": "light"
          }
        }
      ],
      "source": [
        "# seting the graph size\n",
        "plt.figure(figsize=(14,7))\n",
        "\n",
        "# let explore the browser used by users\n",
        "sns.countplot(repetitive_users, palette=\"hls\") # It's a module to count the category's\n",
        "plt.title(\"User Visit Count\", fontsize=20) # seting the title size\n",
        "plt.xlabel(\"Times\", fontsize=16) # seting the x label size\n",
        "plt.ylabel(\"Count\", fontsize=16) # seting the y label size\n",
        "plt.xticks(rotation=45) # Adjust the xticks, rotating the labels\n",
        "\n",
        "plt.show() #u"
      ]
    },
    {
      "cell_type": "code",
      "execution_count": null,
      "metadata": {
        "id": "vEm0avJzo7Ma",
        "colab": {
          "base_uri": "https://localhost:8080/",
          "height": 156
        },
        "outputId": "33cd1e85-728e-492b-c48b-aeaf8ee7066c"
      },
      "outputs": [
        {
          "output_type": "execute_result",
          "data": {
            "text/plain": [
              "([<matplotlib.patches.Wedge at 0x7f01cfc45b10>,\n",
              "  <matplotlib.patches.Wedge at 0x7f01cfc50550>],\n",
              " [Text(-0.8455553632921555, -0.7035880382779905, 'isNotMobile'),\n",
              "  Text(0.922424032682352, 0.7675505872123528, 'isMobile')],\n",
              " [Text(-0.4612120163411757, -0.3837752936061766, '72.1%'),\n",
              "  Text(0.5380806857313719, 0.44773784254053905, '27.9%')])"
            ]
          },
          "metadata": {},
          "execution_count": 57
        },
        {
          "output_type": "display_data",
          "data": {
            "image/png": "[encoded data removed]",
            "text/plain": [
              "<Figure size 576x576 with 1 Axes>"
            ]
          },
          "metadata": {}
        }
      ],
      "source": [
        "revenue_os_df = data[['isMobile','transactionRevenue']]\n",
        "buys_is_mobile_dict = dict(collections.Counter(list(revenue_os_df.isMobile)))\n",
        "percent_buys_is_mobile_dict = {k: v / total for total in (sum(buys_is_mobile_dict.values()),) for k, v in buys_is_mobile_dict.items()}\n",
        "sizes = list(percent_buys_is_mobile_dict.values())\n",
        "explode=(0,0.1)\n",
        "labels = 'isNotMobile', 'isMobile'\n",
        "fig, ax = plt.subplots(1,1, figsize=(8,8))\n",
        "ax.set_title(\"buys mobile distro\")\n",
        "ax.pie(sizes, explode=explode, labels=labels, autopct='%1.1f%%',shadow=True, startangle=90)"
      ]
    },
    {
      "cell_type": "markdown",
      "metadata": {
        "id": "M7onDfoW_FBr"
      },
      "source": [
        "## FeatureFeature engenerning"
      ]
    },
    {
      "cell_type": "code",
      "execution_count": null,
      "metadata": {
        "id": "W-KHnWFB_KmA",
        "colab": {
          "base_uri": "https://localhost:8080/"
        },
        "outputId": "84c90bf7-467b-4987-d2c9-c9c99505e729"
      },
      "outputs": [
        {
          "output_type": "execute_result",
          "data": {
            "text/plain": [
              "Index(['channelGrouping', 'date', 'fullVisitorId', 'sessionId', 'visitId',\n",
              "       'visitNumber', 'visitStartTime', 'campaign', 'source', 'medium', 'hits',\n",
              "       'pageviews', 'transactionRevenue', 'continent', 'subContinent',\n",
              "       'country', 'region', 'metro', 'city', 'networkDomain', 'browser',\n",
              "       'operatingSystem', 'isMobile', 'deviceCategory', 'haveAd'],\n",
              "      dtype='object')"
            ]
          },
          "metadata": {},
          "execution_count": 58
        }
      ],
      "source": [
        "data.columns"
      ]
    },
    {
      "cell_type": "code",
      "execution_count": null,
      "metadata": {
        "id": "WrRGt716_Z8g",
        "colab": {
          "base_uri": "https://localhost:8080/"
        },
        "outputId": "2d1f5720-7dad-49b0-e1d2-356750b99ad1"
      },
      "outputs": [
        {
          "output_type": "execute_result",
          "data": {
            "text/plain": [
              "2016-09-02    2613\n",
              "2017-01-26    2209\n",
              "2017-02-03    2182\n",
              "2017-06-23    2095\n",
              "2017-03-12    1781\n",
              "2016-08-11     937\n",
              "Name: date, dtype: int64"
            ]
          },
          "metadata": {},
          "execution_count": 59
        }
      ],
      "source": [
        "data.date.value_counts()"
      ]
    },
    {
      "cell_type": "markdown",
      "metadata": {
        "id": "WKwIxziw_Hfr"
      },
      "source": [
        "This data is only recorded for 6 different days, not continuous, so we choose to delete."
      ]
    },
    {
      "cell_type": "code",
      "execution_count": null,
      "metadata": {
        "id": "LUlgg95JAEJZ"
      },
      "outputs": [],
      "source": [
        "data=data.drop([\"date\"],axis=1)"
      ]
    },
    {
      "cell_type": "markdown",
      "metadata": {
        "id": "jIPTYpT8FOyF"
      },
      "source": [
        "And we will split the start time to morning and evening,we popose this start time have been recorded after calculate the time difference between each country.\n",
        "\n",
        "if start time is between [07-22],we think this customer is visit in days,\n",
        "else,we think he visit in evening.\n",
        " "
      ]
    },
    {
      "cell_type": "code",
      "execution_count": null,
      "metadata": {
        "id": "4ZUYiQmXFn1R",
        "colab": {
          "base_uri": "https://localhost:8080/"
        },
        "outputId": "cb6151c1-b8d6-4509-8697-b1902da63365"
      },
      "outputs": [
        {
          "output_type": "execute_result",
          "data": {
            "text/plain": [
              "0       2016-09-02 15:33:05\n",
              "1       2016-09-03 05:22:27\n",
              "2       2016-09-03 01:16:26\n",
              "3       2016-09-03 05:40:13\n",
              "4       2016-09-02 13:23:20\n",
              "                ...        \n",
              "11812   2016-08-11 13:09:43\n",
              "11813   2016-08-11 09:40:59\n",
              "11814   2016-08-12 00:12:23\n",
              "11815   2016-08-12 04:07:30\n",
              "11816   2016-08-11 16:37:39\n",
              "Name: visitStartTime, Length: 11817, dtype: datetime64[ns]"
            ]
          },
          "metadata": {},
          "execution_count": 61
        }
      ],
      "source": [
        "data.visitStartTime"
      ]
    },
    {
      "cell_type": "code",
      "execution_count": null,
      "metadata": {
        "id": "N8zaHTiGGZBp"
      },
      "outputs": [],
      "source": [
        "def to_time(a):\n",
        "  if a.hour>=7 and a.hour<22:\n",
        "    return 0\n",
        "  else:\n",
        "    return 1"
      ]
    },
    {
      "cell_type": "code",
      "execution_count": null,
      "metadata": {
        "id": "9AEQUb_0FsEj",
        "colab": {
          "base_uri": "https://localhost:8080/"
        },
        "outputId": "e66e913f-e9ac-4108-db93-24716fea6425"
      },
      "outputs": [
        {
          "output_type": "stream",
          "name": "stderr",
          "text": [
            "/usr/local/lib/python3.7/dist-packages/ipykernel_launcher.py:1: UserWarning:\n",
            "\n",
            "Pandas doesn't allow columns to be created via a new attribute name - see https://pandas.pydata.org/pandas-docs/stable/indexing.html#attribute-access\n",
            "\n"
          ]
        }
      ],
      "source": [
        "data.visitStartTimes=data.apply(lambda a: to_time(a['visitStartTime']),axis=1)"
      ]
    },
    {
      "cell_type": "code",
      "execution_count": null,
      "metadata": {
        "id": "gFQUfDdtIJzH"
      },
      "outputs": [],
      "source": [
        "data=data.drop(['visitStartTime'],axis=1)"
      ]
    },
    {
      "cell_type": "code",
      "execution_count": null,
      "metadata": {
        "id": "p7P-Vty7AQjl",
        "colab": {
          "base_uri": "https://localhost:8080/"
        },
        "outputId": "cdfec806-4d4e-45db-d145-fe47b5f75cb7"
      },
      "outputs": [
        {
          "output_type": "stream",
          "name": "stdout",
          "text": [
            "fullVisitorId\n",
            "696790665307308        2\n",
            "2679318298754771       3\n",
            "5096736076850458       2\n",
            "11894735283045088      2\n",
            "23492254041848868      2\n",
            "                      ..\n",
            "9934691400598433911    2\n",
            "9936086993632712670    2\n",
            "9941821419294775713    3\n",
            "9952689481314216086    2\n",
            "9960353142606371996    2\n",
            "Length: 758, dtype: int64\n"
          ]
        }
      ],
      "source": [
        "print(data.groupby('fullVisitorId').size()[data.groupby('fullVisitorId').size()>1])"
      ]
    },
    {
      "cell_type": "code",
      "execution_count": null,
      "metadata": {
        "id": "x7xfC8R5AKdR",
        "colab": {
          "base_uri": "https://localhost:8080/"
        },
        "outputId": "309773fa-74c4-4580-f1ab-b8ea052c8004"
      },
      "outputs": [
        {
          "output_type": "stream",
          "name": "stdout",
          "text": [
            "Series([], dtype: int64)\n"
          ]
        }
      ],
      "source": [
        "print(data.groupby('sessionId').size()[data.groupby('sessionId').size()>1])"
      ]
    },
    {
      "cell_type": "code",
      "execution_count": null,
      "metadata": {
        "id": "OBaQHgrwC_ya",
        "colab": {
          "base_uri": "https://localhost:8080/"
        },
        "outputId": "43560fb3-e164-4344-b3b9-2db6a2b15945"
      },
      "outputs": [
        {
          "output_type": "stream",
          "name": "stdout",
          "text": [
            "visitId\n",
            "1470902396    2\n",
            "1470955217    2\n",
            "1470957870    2\n",
            "1472799711    2\n",
            "1472801040    2\n",
            "             ..\n",
            "1498274520    2\n",
            "1498275398    2\n",
            "1498275559    2\n",
            "1498275804    2\n",
            "1498286968    2\n",
            "Length: 178, dtype: int64\n"
          ]
        }
      ],
      "source": [
        "print(data.groupby('visitId').size()[data.groupby('visitId').size()>1])"
      ]
    },
    {
      "cell_type": "code",
      "execution_count": null,
      "metadata": {
        "id": "l8IfI5RYC_6G",
        "colab": {
          "base_uri": "https://localhost:8080/",
          "height": 265
        },
        "outputId": "2b20854c-85d6-42bd-bfc6-17ae84a8f9c4"
      },
      "outputs": [
        {
          "output_type": "execute_result",
          "data": {
            "text/html": [
              "\n",
              "  <div id=\"df-9993a637-df8d-4121-9ce5-e6e3ab3158da\">\n",
              "    <div class=\"colab-df-container\">\n",
              "      <div>\n",
              "<style scoped>\n",
              "    .dataframe tbody tr th:only-of-type {\n",
              "        vertical-align: middle;\n",
              "    }\n",
              "\n",
              "    .dataframe tbody tr th {\n",
              "        vertical-align: top;\n",
              "    }\n",
              "\n",
              "    .dataframe thead th {\n",
              "        text-align: right;\n",
              "    }\n",
              "</style>\n",
              "<table border=\"1\" class=\"dataframe\">\n",
              "  <thead>\n",
              "    <tr style=\"text-align: right;\">\n",
              "      <th></th>\n",
              "      <th>channelGrouping</th>\n",
              "      <th>fullVisitorId</th>\n",
              "      <th>sessionId</th>\n",
              "      <th>visitId</th>\n",
              "      <th>visitNumber</th>\n",
              "      <th>campaign</th>\n",
              "      <th>source</th>\n",
              "      <th>medium</th>\n",
              "      <th>hits</th>\n",
              "      <th>pageviews</th>\n",
              "      <th>transactionRevenue</th>\n",
              "      <th>continent</th>\n",
              "      <th>subContinent</th>\n",
              "      <th>country</th>\n",
              "      <th>region</th>\n",
              "      <th>metro</th>\n",
              "      <th>city</th>\n",
              "      <th>networkDomain</th>\n",
              "      <th>browser</th>\n",
              "      <th>operatingSystem</th>\n",
              "      <th>isMobile</th>\n",
              "      <th>deviceCategory</th>\n",
              "      <th>haveAd</th>\n",
              "    </tr>\n",
              "  </thead>\n",
              "  <tbody>\n",
              "    <tr>\n",
              "      <th>11540</th>\n",
              "      <td>Organic Search</td>\n",
              "      <td>4063976231400278013</td>\n",
              "      <td>4063976231400278013_1470902396</td>\n",
              "      <td>1470902396</td>\n",
              "      <td>1</td>\n",
              "      <td>(not set)</td>\n",
              "      <td>google</td>\n",
              "      <td>organic</td>\n",
              "      <td>1</td>\n",
              "      <td>1</td>\n",
              "      <td>0.0</td>\n",
              "      <td>Europe</td>\n",
              "      <td>Western Europe</td>\n",
              "      <td>Germany</td>\n",
              "      <td>not available in demo dataset</td>\n",
              "      <td>not available in demo dataset</td>\n",
              "      <td>not available in demo dataset</td>\n",
              "      <td>vodafone.de</td>\n",
              "      <td>Firefox</td>\n",
              "      <td>Windows</td>\n",
              "      <td>False</td>\n",
              "      <td>desktop</td>\n",
              "      <td>False</td>\n",
              "    </tr>\n",
              "    <tr>\n",
              "      <th>11809</th>\n",
              "      <td>Social</td>\n",
              "      <td>5172476279408122800</td>\n",
              "      <td>5172476279408122800_1470902396</td>\n",
              "      <td>1470902396</td>\n",
              "      <td>1</td>\n",
              "      <td>(not set)</td>\n",
              "      <td>youtube.com</td>\n",
              "      <td>referral</td>\n",
              "      <td>1</td>\n",
              "      <td>1</td>\n",
              "      <td>0.0</td>\n",
              "      <td>Asia</td>\n",
              "      <td>Eastern Asia</td>\n",
              "      <td>Japan</td>\n",
              "      <td>not available in demo dataset</td>\n",
              "      <td>not available in demo dataset</td>\n",
              "      <td>not available in demo dataset</td>\n",
              "      <td>ocn.ne.jp</td>\n",
              "      <td>Firefox</td>\n",
              "      <td>Windows</td>\n",
              "      <td>False</td>\n",
              "      <td>desktop</td>\n",
              "      <td>False</td>\n",
              "    </tr>\n",
              "  </tbody>\n",
              "</table>\n",
              "</div>\n",
              "      <button class=\"colab-df-convert\" onclick=\"convertToInteractive('df-9993a637-df8d-4121-9ce5-e6e3ab3158da')\"\n",
              "              title=\"Convert this dataframe to an interactive table.\"\n",
              "              style=\"display:none;\">\n",
              "        \n",
              "  <svg xmlns=\"http://www.w3.org/2000/svg\" height=\"24px\"viewBox=\"0 0 24 24\"\n",
              "       width=\"24px\">\n",
              "    <path d=\"M0 0h24v24H0V0z\" fill=\"none\"/>\n",
              "    <path d=\"M18.56 5.44l.94 2.06.94-2.06 2.06-.94-2.06-.94-.94-2.06-.94 2.06-2.06.94zm-11 1L8.5 8.5l.94-2.06 2.06-.94-2.06-.94L8.5 2.5l-.94 2.06-2.06.94zm10 10l.94 2.06.94-2.06 2.06-.94-2.06-.94-.94-2.06-.94 2.06-2.06.94z\"/><path d=\"M17.41 7.96l-1.37-1.37c-.4-.4-.92-.59-1.43-.59-.52 0-1.04.2-1.43.59L10.3 9.45l-7.72 7.72c-.78.78-.78 2.05 0 2.83L4 21.41c.39.39.9.59 1.41.59.51 0 1.02-.2 1.41-.59l7.78-7.78 2.81-2.81c.8-.78.8-2.07 0-2.86zM5.41 20L4 18.59l7.72-7.72 1.47 1.35L5.41 20z\"/>\n",
              "  </svg>\n",
              "      </button>\n",
              "      \n",
              "  <style>\n",
              "    .colab-df-container {\n",
              "      display:flex;\n",
              "      flex-wrap:wrap;\n",
              "      gap: 12px;\n",
              "    }\n",
              "\n",
              "    .colab-df-convert {\n",
              "      background-color: #E8F0FE;\n",
              "      border: none;\n",
              "      border-radius: 50%;\n",
              "      cursor: pointer;\n",
              "      display: none;\n",
              "      fill: #1967D2;\n",
              "      height: 32px;\n",
              "      padding: 0 0 0 0;\n",
              "      width: 32px;\n",
              "    }\n",
              "\n",
              "    .colab-df-convert:hover {\n",
              "      background-color: #E2EBFA;\n",
              "      box-shadow: 0px 1px 2px rgba(60, 64, 67, 0.3), 0px 1px 3px 1px rgba(60, 64, 67, 0.15);\n",
              "      fill: #174EA6;\n",
              "    }\n",
              "\n",
              "    [theme=dark] .colab-df-convert {\n",
              "      background-color: #3B4455;\n",
              "      fill: #D2E3FC;\n",
              "    }\n",
              "\n",
              "    [theme=dark] .colab-df-convert:hover {\n",
              "      background-color: #434B5C;\n",
              "      box-shadow: 0px 1px 3px 1px rgba(0, 0, 0, 0.15);\n",
              "      filter: drop-shadow(0px 1px 2px rgba(0, 0, 0, 0.3));\n",
              "      fill: #FFFFFF;\n",
              "    }\n",
              "  </style>\n",
              "\n",
              "      <script>\n",
              "        const buttonEl =\n",
              "          document.querySelector('#df-9993a637-df8d-4121-9ce5-e6e3ab3158da button.colab-df-convert');\n",
              "        buttonEl.style.display =\n",
              "          google.colab.kernel.accessAllowed ? 'block' : 'none';\n",
              "\n",
              "        async function convertToInteractive(key) {\n",
              "          const element = document.querySelector('#df-9993a637-df8d-4121-9ce5-e6e3ab3158da');\n",
              "          const dataTable =\n",
              "            await google.colab.kernel.invokeFunction('convertToInteractive',\n",
              "                                                     [key], {});\n",
              "          if (!dataTable) return;\n",
              "\n",
              "          const docLinkHtml = 'Like what you see? Visit the ' +\n",
              "            '<a target=\"_blank\" href=https://colab.research.google.com/notebooks/data_table.ipynb>data table notebook</a>'\n",
              "            + ' to learn more about interactive tables.';\n",
              "          element.innerHTML = '';\n",
              "          dataTable['output_type'] = 'display_data';\n",
              "          await google.colab.output.renderOutput(dataTable, element);\n",
              "          const docLink = document.createElement('div');\n",
              "          docLink.innerHTML = docLinkHtml;\n",
              "          element.appendChild(docLink);\n",
              "        }\n",
              "      </script>\n",
              "    </div>\n",
              "  </div>\n",
              "  "
            ],
            "text/plain": [
              "      channelGrouping        fullVisitorId  ... deviceCategory  haveAd\n",
              "11540  Organic Search  4063976231400278013  ...        desktop   False\n",
              "11809          Social  5172476279408122800  ...        desktop   False\n",
              "\n",
              "[2 rows x 23 columns]"
            ]
          },
          "metadata": {},
          "execution_count": 68
        }
      ],
      "source": [
        "data[data.visitId==1470902396]"
      ]
    },
    {
      "cell_type": "markdown",
      "metadata": {
        "id": "ycqt6DTqEiNC"
      },
      "source": [
        "And we popose the id of the customers can't influence the Transtction Revenue;each people have the same desire to buy."
      ]
    },
    {
      "cell_type": "code",
      "execution_count": null,
      "metadata": {
        "id": "Me6t61rhE5DF"
      },
      "outputs": [],
      "source": [
        "data=data.drop([\"fullVisitorId\",\"sessionId\",\"visitId\"],axis=1)"
      ]
    },
    {
      "cell_type": "code",
      "execution_count": null,
      "metadata": {
        "id": "JbmJBtXzFMyb",
        "colab": {
          "base_uri": "https://localhost:8080/"
        },
        "outputId": "e02123fc-2b66-4d0a-ed1d-571ae9d87057"
      },
      "outputs": [
        {
          "output_type": "execute_result",
          "data": {
            "text/plain": [
              "Index(['channelGrouping', 'campaign', 'source', 'medium', 'continent',\n",
              "       'subContinent', 'country', 'region', 'metro', 'city', 'networkDomain',\n",
              "       'browser', 'operatingSystem', 'isMobile', 'deviceCategory'],\n",
              "      dtype='object')"
            ]
          },
          "metadata": {},
          "execution_count": 70
        }
      ],
      "source": [
        "data.dtypes[data.dtypes=='object'].index"
      ]
    },
    {
      "cell_type": "code",
      "execution_count": null,
      "metadata": {
        "id": "Qmf9cWuwJLbv",
        "colab": {
          "base_uri": "https://localhost:8080/"
        },
        "outputId": "bdda643e-b6c0-4b29-e702-2c62868ff5ba"
      },
      "outputs": [
        {
          "output_type": "execute_result",
          "data": {
            "text/plain": [
              "Organic Search    5451\n",
              "Social            2372\n",
              "Direct            1802\n",
              "Referral          1518\n",
              "Paid Search        352\n",
              "Affiliates         239\n",
              "Display             83\n",
              "Name: channelGrouping, dtype: int64"
            ]
          },
          "metadata": {},
          "execution_count": 71
        }
      ],
      "source": [
        "data.channelGrouping.value_counts()"
      ]
    },
    {
      "cell_type": "code",
      "execution_count": null,
      "metadata": {
        "id": "BuABxU9yJWSm",
        "colab": {
          "base_uri": "https://localhost:8080/"
        },
        "outputId": "865a984a-63e7-4d1c-e942-77436a5ab08d"
      },
      "outputs": [
        {
          "output_type": "execute_result",
          "data": {
            "text/plain": [
              "(not set)                                          11283\n",
              "Data Share Promo                                     239\n",
              "AW - Dynamic Search Ads Whole Site                   194\n",
              "AW - Accessories                                      87\n",
              "test-liyuhz                                           10\n",
              "AW - Apparel                                           2\n",
              "Retail (DO NOT EDIT owners nophakun and tianyu)        1\n",
              "AW - Electronics                                       1\n",
              "Name: campaign, dtype: int64"
            ]
          },
          "metadata": {},
          "execution_count": 72
        }
      ],
      "source": [
        "data.campaign.value_counts()"
      ]
    },
    {
      "cell_type": "code",
      "execution_count": null,
      "metadata": {
        "id": "DAp6aabeJa0-",
        "colab": {
          "base_uri": "https://localhost:8080/"
        },
        "outputId": "0ba75b5e-2b57-487b-a50d-c83b92704557"
      },
      "outputs": [
        {
          "output_type": "execute_result",
          "data": {
            "text/plain": [
              "google                       5741\n",
              "youtube.com                  2233\n",
              "(direct)                     1802\n",
              "mall.googleplex.com          1027\n",
              "Partners                      239\n",
              "                             ... \n",
              "awics.corp.google.com           1\n",
              "connect.googleforwork.com       1\n",
              "tpc.googlesyndication.com       1\n",
              "outlook.live.com                1\n",
              "google.com.pk                   1\n",
              "Name: source, Length: 76, dtype: int64"
            ]
          },
          "metadata": {},
          "execution_count": 73
        }
      ],
      "source": [
        "data.source.value_counts()"
      ]
    },
    {
      "cell_type": "code",
      "execution_count": null,
      "metadata": {
        "id": "LMXfSLwfJoEu",
        "colab": {
          "base_uri": "https://localhost:8080/"
        },
        "outputId": "52cb561b-6348-4164-d986-d32d950afbf2"
      },
      "outputs": [
        {
          "output_type": "execute_result",
          "data": {
            "text/plain": [
              "organic      5451\n",
              "referral     3890\n",
              "(none)       1802\n",
              "cpc           352\n",
              "affiliate     239\n",
              "cpm            83\n",
              "Name: medium, dtype: int64"
            ]
          },
          "metadata": {},
          "execution_count": 74
        }
      ],
      "source": [
        "data.medium.value_counts()"
      ]
    },
    {
      "cell_type": "code",
      "execution_count": null,
      "metadata": {
        "id": "amaUKu2KJvJh",
        "colab": {
          "base_uri": "https://localhost:8080/"
        },
        "outputId": "936d1c76-37f4-4c57-f3ec-39ecaa898e57"
      },
      "outputs": [
        {
          "output_type": "execute_result",
          "data": {
            "text/plain": [
              "False    8519\n",
              "True     3298\n",
              "Name: isMobile, dtype: int64"
            ]
          },
          "metadata": {},
          "execution_count": 75
        }
      ],
      "source": [
        "data.isMobile.value_counts()"
      ]
    },
    {
      "cell_type": "code",
      "execution_count": null,
      "metadata": {
        "id": "8vDbIP81J3Yq"
      },
      "outputs": [],
      "source": [
        "def to_mobile(a):\n",
        "  if a==\"False\":\n",
        "    return 0\n",
        "  else:\n",
        "    return 1\n",
        "data.isMobile=data.apply(lambda a: to_mobile(a['isMobile']),axis=1)"
      ]
    },
    {
      "cell_type": "code",
      "execution_count": null,
      "metadata": {
        "id": "KZji-nycLUxx"
      },
      "outputs": [],
      "source": [
        "def to_ad(a):\n",
        "  if a==\"False\":\n",
        "    return 0\n",
        "  else:\n",
        "    return 1\n",
        "data.haveAd=data.apply(lambda a: to_ad(a['haveAd']),axis=1)"
      ]
    },
    {
      "cell_type": "code",
      "execution_count": null,
      "metadata": {
        "id": "e_Vbs1pDKvEu"
      },
      "outputs": [],
      "source": [
        "import pandas as pd\n",
        "import numpy as np"
      ]
    },
    {
      "cell_type": "code",
      "execution_count": null,
      "metadata": {
        "id": "8VXRLob4Kbrz"
      },
      "outputs": [],
      "source": [
        "newdata=pd.get_dummies(data)"
      ]
    },
    {
      "cell_type": "code",
      "execution_count": null,
      "metadata": {
        "id": "gJupVzM2LO0k",
        "colab": {
          "base_uri": "https://localhost:8080/",
          "height": 212
        },
        "outputId": "d814c6a4-26b4-45e1-fd70-7eaa3ae3e664"
      },
      "outputs": [
        {
          "output_type": "execute_result",
          "data": {
            "text/html": [
              "\n",
              "  <div id=\"df-37792833-c2e8-465d-ab1b-c66dba0ba9cd\">\n",
              "    <div class=\"colab-df-container\">\n",
              "      <div>\n",
              "<style scoped>\n",
              "    .dataframe tbody tr th:only-of-type {\n",
              "        vertical-align: middle;\n",
              "    }\n",
              "\n",
              "    .dataframe tbody tr th {\n",
              "        vertical-align: top;\n",
              "    }\n",
              "\n",
              "    .dataframe thead th {\n",
              "        text-align: right;\n",
              "    }\n",
              "</style>\n",
              "<table border=\"1\" class=\"dataframe\">\n",
              "  <thead>\n",
              "    <tr style=\"text-align: right;\">\n",
              "      <th></th>\n",
              "      <th>visitNumber</th>\n",
              "      <th>hits</th>\n",
              "      <th>pageviews</th>\n",
              "      <th>transactionRevenue</th>\n",
              "      <th>isMobile</th>\n",
              "      <th>haveAd</th>\n",
              "      <th>channelGrouping_Affiliates</th>\n",
              "      <th>channelGrouping_Direct</th>\n",
              "      <th>channelGrouping_Display</th>\n",
              "      <th>channelGrouping_Organic Search</th>\n",
              "      <th>channelGrouping_Paid Search</th>\n",
              "      <th>channelGrouping_Referral</th>\n",
              "      <th>channelGrouping_Social</th>\n",
              "      <th>campaign_(not set)</th>\n",
              "      <th>campaign_AW - Accessories</th>\n",
              "      <th>campaign_AW - Apparel</th>\n",
              "      <th>campaign_AW - Dynamic Search Ads Whole Site</th>\n",
              "      <th>campaign_AW - Electronics</th>\n",
              "      <th>campaign_Data Share Promo</th>\n",
              "      <th>campaign_Retail (DO NOT EDIT owners nophakun and tianyu)</th>\n",
              "      <th>campaign_test-liyuhz</th>\n",
              "      <th>source_(direct)</th>\n",
              "      <th>source_0.shared.bow.cat2.ads-bow.qk.borg.google.com:9801</th>\n",
              "      <th>source_0.shared.bow.cat2.ads-bow.vu.borg.google.com:9856</th>\n",
              "      <th>source_Partners</th>\n",
              "      <th>source_analytics.google.com</th>\n",
              "      <th>source_aol</th>\n",
              "      <th>source_arstechnica.com</th>\n",
              "      <th>source_ask</th>\n",
              "      <th>source_aulagrado.esic.edu</th>\n",
              "      <th>source_awics.corp.google.com</th>\n",
              "      <th>source_baidu</th>\n",
              "      <th>source_bing</th>\n",
              "      <th>source_blog.golang.org</th>\n",
              "      <th>source_businessinsider.com</th>\n",
              "      <th>source_connect.googleforwork.com</th>\n",
              "      <th>source_course.fso.fullsail.edu</th>\n",
              "      <th>source_cv.il3.ub.edu</th>\n",
              "      <th>source_dealspotr.com</th>\n",
              "      <th>source_dfa</th>\n",
              "      <th>...</th>\n",
              "      <th>networkDomain_zxonlinebd.com</th>\n",
              "      <th>browser_ADM</th>\n",
              "      <th>browser_Amazon Silk</th>\n",
              "      <th>browser_Android Browser</th>\n",
              "      <th>browser_Android Webview</th>\n",
              "      <th>browser_BlackBerry</th>\n",
              "      <th>browser_Chrome</th>\n",
              "      <th>browser_Coc Coc</th>\n",
              "      <th>browser_Edge</th>\n",
              "      <th>browser_Firefox</th>\n",
              "      <th>browser_Internet Explorer</th>\n",
              "      <th>browser_Lunascape</th>\n",
              "      <th>browser_MRCHROME</th>\n",
              "      <th>browser_Maxthon</th>\n",
              "      <th>browser_Mozilla Compatible Agent</th>\n",
              "      <th>browser_Nintendo Browser</th>\n",
              "      <th>browser_Nokia Browser</th>\n",
              "      <th>browser_Opera</th>\n",
              "      <th>browser_Opera Mini</th>\n",
              "      <th>browser_Puffin</th>\n",
              "      <th>browser_Safari</th>\n",
              "      <th>browser_Safari (in-app)</th>\n",
              "      <th>browser_UC Browser</th>\n",
              "      <th>browser_YaBrowser</th>\n",
              "      <th>operatingSystem_(not set)</th>\n",
              "      <th>operatingSystem_Android</th>\n",
              "      <th>operatingSystem_BlackBerry</th>\n",
              "      <th>operatingSystem_Chrome OS</th>\n",
              "      <th>operatingSystem_Firefox OS</th>\n",
              "      <th>operatingSystem_Linux</th>\n",
              "      <th>operatingSystem_Macintosh</th>\n",
              "      <th>operatingSystem_Nintendo Wii</th>\n",
              "      <th>operatingSystem_Samsung</th>\n",
              "      <th>operatingSystem_Windows</th>\n",
              "      <th>operatingSystem_Windows Phone</th>\n",
              "      <th>operatingSystem_Xbox</th>\n",
              "      <th>operatingSystem_iOS</th>\n",
              "      <th>deviceCategory_desktop</th>\n",
              "      <th>deviceCategory_mobile</th>\n",
              "      <th>deviceCategory_tablet</th>\n",
              "    </tr>\n",
              "  </thead>\n",
              "  <tbody>\n",
              "    <tr>\n",
              "      <th>0</th>\n",
              "      <td>1</td>\n",
              "      <td>1</td>\n",
              "      <td>1</td>\n",
              "      <td>0.0</td>\n",
              "      <td>1</td>\n",
              "      <td>1</td>\n",
              "      <td>0</td>\n",
              "      <td>0</td>\n",
              "      <td>0</td>\n",
              "      <td>1</td>\n",
              "      <td>0</td>\n",
              "      <td>0</td>\n",
              "      <td>0</td>\n",
              "      <td>1</td>\n",
              "      <td>0</td>\n",
              "      <td>0</td>\n",
              "      <td>0</td>\n",
              "      <td>0</td>\n",
              "      <td>0</td>\n",
              "      <td>0</td>\n",
              "      <td>0</td>\n",
              "      <td>0</td>\n",
              "      <td>0</td>\n",
              "      <td>0</td>\n",
              "      <td>0</td>\n",
              "      <td>0</td>\n",
              "      <td>0</td>\n",
              "      <td>0</td>\n",
              "      <td>0</td>\n",
              "      <td>0</td>\n",
              "      <td>0</td>\n",
              "      <td>0</td>\n",
              "      <td>0</td>\n",
              "      <td>0</td>\n",
              "      <td>0</td>\n",
              "      <td>0</td>\n",
              "      <td>0</td>\n",
              "      <td>0</td>\n",
              "      <td>0</td>\n",
              "      <td>0</td>\n",
              "      <td>...</td>\n",
              "      <td>0</td>\n",
              "      <td>0</td>\n",
              "      <td>0</td>\n",
              "      <td>0</td>\n",
              "      <td>0</td>\n",
              "      <td>0</td>\n",
              "      <td>1</td>\n",
              "      <td>0</td>\n",
              "      <td>0</td>\n",
              "      <td>0</td>\n",
              "      <td>0</td>\n",
              "      <td>0</td>\n",
              "      <td>0</td>\n",
              "      <td>0</td>\n",
              "      <td>0</td>\n",
              "      <td>0</td>\n",
              "      <td>0</td>\n",
              "      <td>0</td>\n",
              "      <td>0</td>\n",
              "      <td>0</td>\n",
              "      <td>0</td>\n",
              "      <td>0</td>\n",
              "      <td>0</td>\n",
              "      <td>0</td>\n",
              "      <td>0</td>\n",
              "      <td>0</td>\n",
              "      <td>0</td>\n",
              "      <td>0</td>\n",
              "      <td>0</td>\n",
              "      <td>0</td>\n",
              "      <td>0</td>\n",
              "      <td>0</td>\n",
              "      <td>0</td>\n",
              "      <td>1</td>\n",
              "      <td>0</td>\n",
              "      <td>0</td>\n",
              "      <td>0</td>\n",
              "      <td>1</td>\n",
              "      <td>0</td>\n",
              "      <td>0</td>\n",
              "    </tr>\n",
              "  </tbody>\n",
              "</table>\n",
              "<p>1 rows × 2242 columns</p>\n",
              "</div>\n",
              "      <button class=\"colab-df-convert\" onclick=\"convertToInteractive('df-37792833-c2e8-465d-ab1b-c66dba0ba9cd')\"\n",
              "              title=\"Convert this dataframe to an interactive table.\"\n",
              "              style=\"display:none;\">\n",
              "        \n",
              "  <svg xmlns=\"http://www.w3.org/2000/svg\" height=\"24px\"viewBox=\"0 0 24 24\"\n",
              "       width=\"24px\">\n",
              "    <path d=\"M0 0h24v24H0V0z\" fill=\"none\"/>\n",
              "    <path d=\"M18.56 5.44l.94 2.06.94-2.06 2.06-.94-2.06-.94-.94-2.06-.94 2.06-2.06.94zm-11 1L8.5 8.5l.94-2.06 2.06-.94-2.06-.94L8.5 2.5l-.94 2.06-2.06.94zm10 10l.94 2.06.94-2.06 2.06-.94-2.06-.94-.94-2.06-.94 2.06-2.06.94z\"/><path d=\"M17.41 7.96l-1.37-1.37c-.4-.4-.92-.59-1.43-.59-.52 0-1.04.2-1.43.59L10.3 9.45l-7.72 7.72c-.78.78-.78 2.05 0 2.83L4 21.41c.39.39.9.59 1.41.59.51 0 1.02-.2 1.41-.59l7.78-7.78 2.81-2.81c.8-.78.8-2.07 0-2.86zM5.41 20L4 18.59l7.72-7.72 1.47 1.35L5.41 20z\"/>\n",
              "  </svg>\n",
              "      </button>\n",
              "      \n",
              "  <style>\n",
              "    .colab-df-container {\n",
              "      display:flex;\n",
              "      flex-wrap:wrap;\n",
              "      gap: 12px;\n",
              "    }\n",
              "\n",
              "    .colab-df-convert {\n",
              "      background-color: #E8F0FE;\n",
              "      border: none;\n",
              "      border-radius: 50%;\n",
              "      cursor: pointer;\n",
              "      display: none;\n",
              "      fill: #1967D2;\n",
              "      height: 32px;\n",
              "      padding: 0 0 0 0;\n",
              "      width: 32px;\n",
              "    }\n",
              "\n",
              "    .colab-df-convert:hover {\n",
              "      background-color: #E2EBFA;\n",
              "      box-shadow: 0px 1px 2px rgba(60, 64, 67, 0.3), 0px 1px 3px 1px rgba(60, 64, 67, 0.15);\n",
              "      fill: #174EA6;\n",
              "    }\n",
              "\n",
              "    [theme=dark] .colab-df-convert {\n",
              "      background-color: #3B4455;\n",
              "      fill: #D2E3FC;\n",
              "    }\n",
              "\n",
              "    [theme=dark] .colab-df-convert:hover {\n",
              "      background-color: #434B5C;\n",
              "      box-shadow: 0px 1px 3px 1px rgba(0, 0, 0, 0.15);\n",
              "      filter: drop-shadow(0px 1px 2px rgba(0, 0, 0, 0.3));\n",
              "      fill: #FFFFFF;\n",
              "    }\n",
              "  </style>\n",
              "\n",
              "      <script>\n",
              "        const buttonEl =\n",
              "          document.querySelector('#df-37792833-c2e8-465d-ab1b-c66dba0ba9cd button.colab-df-convert');\n",
              "        buttonEl.style.display =\n",
              "          google.colab.kernel.accessAllowed ? 'block' : 'none';\n",
              "\n",
              "        async function convertToInteractive(key) {\n",
              "          const element = document.querySelector('#df-37792833-c2e8-465d-ab1b-c66dba0ba9cd');\n",
              "          const dataTable =\n",
              "            await google.colab.kernel.invokeFunction('convertToInteractive',\n",
              "                                                     [key], {});\n",
              "          if (!dataTable) return;\n",
              "\n",
              "          const docLinkHtml = 'Like what you see? Visit the ' +\n",
              "            '<a target=\"_blank\" href=https://colab.research.google.com/notebooks/data_table.ipynb>data table notebook</a>'\n",
              "            + ' to learn more about interactive tables.';\n",
              "          element.innerHTML = '';\n",
              "          dataTable['output_type'] = 'display_data';\n",
              "          await google.colab.output.renderOutput(dataTable, element);\n",
              "          const docLink = document.createElement('div');\n",
              "          docLink.innerHTML = docLinkHtml;\n",
              "          element.appendChild(docLink);\n",
              "        }\n",
              "      </script>\n",
              "    </div>\n",
              "  </div>\n",
              "  "
            ],
            "text/plain": [
              "   visitNumber  hits  ...  deviceCategory_mobile  deviceCategory_tablet\n",
              "0            1     1  ...                      0                      0\n",
              "\n",
              "[1 rows x 2242 columns]"
            ]
          },
          "metadata": {},
          "execution_count": 80
        }
      ],
      "source": [
        "newdata.head(1)"
      ]
    },
    {
      "cell_type": "code",
      "execution_count": null,
      "metadata": {
        "id": "Njg1FPZX8_TN"
      },
      "outputs": [],
      "source": [
        "regression_data=newdata.copy()"
      ]
    },
    {
      "cell_type": "code",
      "execution_count": null,
      "metadata": {
        "id": "LvHK_jSnLf_w"
      },
      "outputs": [],
      "source": [
        "def to_revenue(a):\n",
        "  if a>0:\n",
        "    return 1\n",
        "  else:\n",
        "    return 0\n",
        "newdata.transactionRevenue=newdata.apply(lambda a: to_revenue(a['transactionRevenue']),axis=1)"
      ]
    },
    {
      "cell_type": "code",
      "execution_count": null,
      "metadata": {
        "id": "3d8u1Zt5L20J",
        "colab": {
          "base_uri": "https://localhost:8080/",
          "height": 54
        },
        "outputId": "1309234f-af1f-415f-c227-2e1d966cc2ee"
      },
      "outputs": [
        {
          "output_type": "display_data",
          "data": {
            "image/png": "[encoded data removed]",
            "text/plain": [
              "<Figure size 432x288 with 1 Axes>"
            ]
          },
          "metadata": {}
        }
      ],
      "source": [
        "counts =newdata.transactionRevenue.value_counts()\n",
        "plt.pie(x = counts, labels=pd.Series(counts.index).map({1:'Have revenue',0:'No revenue'}),autopct='%.2f%%')\n",
        "plt.show()"
      ]
    },
    {
      "cell_type": "markdown",
      "metadata": {
        "id": "VAUHUcfq9hTH"
      },
      "source": [
        "## Model"
      ]
    },
    {
      "cell_type": "markdown",
      "metadata": {
        "id": "riItabt59kWl"
      },
      "source": [
        "### Classification"
      ]
    },
    {
      "cell_type": "markdown",
      "metadata": {
        "id": "bMuEFSvTMii1"
      },
      "source": [
        "We have decided to do the classification for this case.But we found that,two classification aren't balanced.It can be considered that the two types of customers are out of balance. If you directly model such data, the results of the model may not be accurate enough. You might as well build a random forest model for the data first to see if there is any bias.\n",
        "\n"
      ]
    },
    {
      "cell_type": "code",
      "execution_count": null,
      "metadata": {
        "id": "RrVYzGqcNN-l"
      },
      "outputs": [],
      "source": [
        "from sklearn import model_selection\n",
        "from sklearn import tree\n",
        "from sklearn import metrics\n",
        "from imblearn.over_sampling import SMOTE"
      ]
    },
    {
      "cell_type": "code",
      "execution_count": null,
      "metadata": {
        "id": "frS3Hsq5YM4S"
      },
      "outputs": [],
      "source": [
        "data=newdata.copy()"
      ]
    },
    {
      "cell_type": "code",
      "execution_count": null,
      "metadata": {
        "id": "HsHxeN-NMvje",
        "colab": {
          "base_uri": "https://localhost:8080/"
        },
        "outputId": "1ab8019e-9016-437e-a761-2d2ef283021a"
      },
      "outputs": [
        {
          "output_type": "stream",
          "name": "stdout",
          "text": [
            "0.9769881556683587\n",
            "              precision    recall  f1-score   support\n",
            "\n",
            "           0       0.99      0.99      0.99      2906\n",
            "           1       0.24      0.18      0.21        49\n",
            "\n",
            "    accuracy                           0.98      2955\n",
            "   macro avg       0.61      0.59      0.60      2955\n",
            "weighted avg       0.97      0.98      0.98      2955\n",
            "\n"
          ]
        }
      ],
      "source": [
        "from sklearn.preprocessing import RobustScaler\n",
        "predictors = data.drop(['transactionRevenue'],axis=1).columns\n",
        "X_train,X_test,y_train,y_test = model_selection.train_test_split(data[predictors], newdata.transactionRevenue, random_state=12)\n",
        "scaler = RobustScaler()\n",
        "X_train = scaler.fit(X_train).transform(X_train)  #训练样本特征归一化\n",
        "X_test = scaler.transform(X_test)                 #测试集样本特征归一化  \n",
        "\n",
        "dt = tree.DecisionTreeClassifier() \n",
        "dt.fit(X_train,y_train)\n",
        "pred = dt.predict(X_test)\n",
        "\n",
        "print(metrics.accuracy_score(y_test, pred))\n",
        "print(metrics.classification_report(y_test, pred))"
      ]
    },
    {
      "cell_type": "markdown",
      "metadata": {
        "id": "5FRs4FvkO6WN"
      },
      "source": [
        "As shown in the above results, the prediction accuracy rate of the decision tree exceeds 99%. Among them, the coverage rate of the prediction no is 99%, but the coverage rate of the yes prediction is 20%. The difference between the two is far, indicating that the classifier is indeed It is biased towards the category with a large sample size (no)."
      ]
    },
    {
      "cell_type": "code",
      "execution_count": null,
      "metadata": {
        "id": "WEHUTJjxPJoI",
        "colab": {
          "base_uri": "https://localhost:8080/",
          "height": 279
        },
        "outputId": "ea4c331f-1c0c-41a0-cdb9-b9a012867c12"
      },
      "outputs": [
        {
          "output_type": "display_data",
          "data": {
            "image/png": "[encoded data removed]",
            "text/plain": [
              "<Figure size 432x288 with 1 Axes>"
            ]
          },
          "metadata": {
            "needs_background": "light"
          }
        }
      ],
      "source": [
        "# Draw ROC curve\n",
        "# Calculate the probability of losing users, which is used to generate ROC curve data\n",
        "y_score = dt.predict_proba(X_test)[:,1] \n",
        "fpr,tpr,threshold = metrics.roc_curve(y_test, y_score)\n",
        "\n",
        "# Calculate the value of AUC\n",
        "roc_auc = metrics.auc(fpr,tpr)\n",
        "# Draw area chart\n",
        "plt.stackplot(fpr, tpr, color='steelblue', alpha = 0.5, edgecolor = 'black')\n",
        "plt.plot(fpr, tpr, color='black', lw = 1)\n",
        "plt.plot([0,1],[0,1], color = 'red', linestyle = '--')\n",
        "plt.text(0.5,0.3,'ROC curve (area = %0.3f)' % roc_auc)\n",
        "plt.xlabel('1-Specificity') \n",
        "plt.ylabel('Sensitivity')\n",
        "plt.show()"
      ]
    },
    {
      "cell_type": "markdown",
      "metadata": {
        "id": "ed89TyLMPtuJ"
      },
      "source": [
        "As shown in the figure above, the area under the ROC curve is 0.597, and the value of AUC is less than 0.8, so the model is considered unreasonable. (Usually take AUC and\n",
        "0.8 comparison, if it is greater than 0.8, the model is considered reasonable). Next, use the SMOTE algorithm to process the data"
      ]
    },
    {
      "cell_type": "code",
      "execution_count": null,
      "metadata": {
        "id": "0aVEpwXbPr19",
        "colab": {
          "base_uri": "https://localhost:8080/"
        },
        "outputId": "4142b20a-fa1b-4ea2-b990-30aa4b27044e"
      },
      "outputs": [
        {
          "output_type": "stream",
          "name": "stdout",
          "text": [
            "\n",
            "0    0.98691\n",
            "1    0.01309\n",
            "Name: transactionRevenue, dtype: float64\n",
            "1    0.5\n",
            "0    0.5\n",
            "Name: transactionRevenue, dtype: float64\n"
          ]
        }
      ],
      "source": [
        "# Balance the training data set\n",
        "over_samples = SMOTE(random_state=1234) \n",
        "over_samples_X,over_samples_y = over_samples.fit_resample(X_train, y_train)\n",
        "\n",
        "# Proportion of categories before resampling\n",
        "print(\"\")\n",
        "print(y_train.value_counts()/len(y_train))\n",
        "# Proportion of categories after resampling\n",
        "print(pd.Series(over_samples_y).value_counts()/len(over_samples_y))"
      ]
    },
    {
      "cell_type": "code",
      "execution_count": null,
      "metadata": {
        "id": "JLj3Tf1GRn5N",
        "colab": {
          "base_uri": "https://localhost:8080/"
        },
        "outputId": "7b7bc54b-31d5-45d5-ee64-94c777b6490a"
      },
      "outputs": [
        {
          "output_type": "stream",
          "name": "stdout",
          "text": [
            "0.9810490693739424\n",
            "              precision    recall  f1-score   support\n",
            "\n",
            "           0       0.99      0.99      0.99      2906\n",
            "           1       0.41      0.35      0.38        49\n",
            "\n",
            "    accuracy                           0.98      2955\n",
            "   macro avg       0.70      0.67      0.68      2955\n",
            "weighted avg       0.98      0.98      0.98      2955\n",
            "\n"
          ]
        }
      ],
      "source": [
        "# Rebuild the decision tree model based on balanced data\n",
        "dt2 = tree.DecisionTreeClassifier() \n",
        "dt2.fit(over_samples_X,over_samples_y)\n",
        "# Model prediction on the test set\n",
        "pred2 =dt2.predict(np.array(X_test))\n",
        "\n",
        "# Model's prediction accuracy\n",
        "print(metrics.accuracy_score(y_test, pred2))\n",
        "# Model evaluation report\n",
        "print(metrics.classification_report(y_test, pred2))"
      ]
    },
    {
      "cell_type": "markdown",
      "metadata": {
        "id": "_Saa8kteUz4u"
      },
      "source": [
        "So we found that if we have used the sampling method, this problem cannot be solved very well, so we decided to use the method of increasing the penalty weight."
      ]
    },
    {
      "cell_type": "code",
      "execution_count": null,
      "metadata": {
        "id": "ZlYx47FnVNnn",
        "colab": {
          "base_uri": "https://localhost:8080/"
        },
        "outputId": "87518077-7dbb-44a1-99c4-22490ae912a2"
      },
      "outputs": [
        {
          "output_type": "execute_result",
          "data": {
            "text/plain": [
              "SVC(class_weight='balanced', kernel='linear')"
            ]
          },
          "metadata": {},
          "execution_count": 90
        }
      ],
      "source": [
        "#Use SVM weight adjustment to deal with unbalanced samples\n",
        "from sklearn.svm import SVC \n",
        " \n",
        "model_svm=SVC(class_weight='balanced', kernel = 'linear')  #Create SVC object and specify category weight\n",
        "model_svm.fit(X_train,y_train)"
      ]
    },
    {
      "cell_type": "code",
      "execution_count": null,
      "metadata": {
        "id": "NA2Zx24dVjeo",
        "colab": {
          "base_uri": "https://localhost:8080/"
        },
        "outputId": "b5697f4c-683c-4843-ffdf-846e23888d93"
      },
      "outputs": [
        {
          "output_type": "stream",
          "name": "stdout",
          "text": [
            "0.9472081218274112\n",
            "              precision    recall  f1-score   support\n",
            "\n",
            "           0       1.00      0.95      0.97      2906\n",
            "           1       0.21      0.82      0.34        49\n",
            "\n",
            "    accuracy                           0.95      2955\n",
            "   macro avg       0.61      0.88      0.66      2955\n",
            "weighted avg       0.98      0.95      0.96      2955\n",
            "\n"
          ]
        }
      ],
      "source": [
        "# Model prediction on the test set\n",
        "pred2 =model_svm.predict(np.array(X_test))\n",
        "\n",
        "# Model's prediction accuracy\n",
        "print(metrics.accuracy_score(y_test, pred2))\n",
        "# Model evaluation report\n",
        "print(metrics.classification_report(y_test, pred2))"
      ]
    },
    {
      "cell_type": "markdown",
      "metadata": {
        "id": "_YH1ciGyWCbK"
      },
      "source": [
        "We can see that there is no problem with the recall of the two categories\n",
        "\n"
      ]
    },
    {
      "cell_type": "markdown",
      "metadata": {
        "id": "iv11hXjn8Jqk"
      },
      "source": [
        "Feature importance"
      ]
    },
    {
      "cell_type": "code",
      "execution_count": null,
      "metadata": {
        "id": "smWef5MoWB5_",
        "colab": {
          "base_uri": "https://localhost:8080/"
        },
        "outputId": "6a344369-359f-426f-8d9b-4c5f97039f09"
      },
      "outputs": [
        {
          "output_type": "execute_result",
          "data": {
            "text/plain": [
              "networkDomain_spectrumnet.us                   3.668738\n",
              "country_United States                          3.175961\n",
              "networkDomain_directmusicservice.com           3.049691\n",
              "networkDomain_fusionbroadband.com              2.239277\n",
              "networkDomain_(not set)                        2.196466\n",
              "networkDomain_zoominternet.net                 2.050820\n",
              "country_Canada                                 2.048799\n",
              "networkDomain_cableone.net                     1.956220\n",
              "source_mall.googleplex.com                     1.837251\n",
              "campaign_AW - Dynamic Search Ads Whole Site    1.701234\n",
              "city_Santa Clara                               1.691986\n",
              "campaign_AW - Accessories                      1.568682\n",
              "region_Texas                                   1.519895\n",
              "deviceCategory_tablet                          1.519895\n",
              "region_Zurich                                  1.488786\n",
              "city_Zurich                                    1.488786\n",
              "browser_Internet Explorer                      1.459076\n",
              "networkDomain_suddenlink.net                   1.357551\n",
              "networkDomain_rr.com                           1.237674\n",
              "networkDomain_cox.net                          1.217991\n",
              "networkDomain_verizon.net                      1.215643\n",
              "browser_Safari                                 1.157554\n",
              "subContinent_Northern America                  1.127162\n",
              "metro_Los Angeles CA                           1.112131\n",
              "networkDomain_sbcglobal.net                    1.110353\n",
              "networkDomain_comcastbusiness.net              1.109391\n",
              "continent_Americas                             1.095097\n",
              "channelGrouping_Social                         1.038521\n",
              "metro_Austin TX                                1.013263\n",
              "city_Austin                                    1.013263\n",
              "city_Palo Alto                                 1.013263\n",
              "networkDomain_universityfightnight.com         1.013263\n",
              "country_Switzerland                            0.982154\n",
              "deviceCategory_mobile                          0.963643\n",
              "pageviews                                      0.945782\n",
              "browser_Edge                                   0.920144\n",
              "city_Milpitas                                  0.914931\n",
              "browser_Firefox                                0.881266\n",
              "channelGrouping_Direct                         0.861210\n",
              "source_(direct)                                0.861210\n",
              "medium_(none)                                  0.861210\n",
              "channelGrouping_Referral                       0.857338\n",
              "networkDomain_bhn.net                          0.838048\n",
              "city_Tigard                                    0.834339\n",
              "networkDomain_att.net                          0.792256\n",
              "browser_Safari (in-app)                        0.783741\n",
              "metro_San Diego CA                             0.777384\n",
              "city_San Diego                                 0.777384\n",
              "networkDomain_unknown.unknown                  0.714302\n",
              "source_google                                  0.713469\n",
              "dtype: float64"
            ]
          },
          "metadata": {},
          "execution_count": 92
        }
      ],
      "source": [
        "pd.Series(abs(model_svm.coef_[0]), index=predictors).nlargest(50)"
      ]
    },
    {
      "cell_type": "code",
      "execution_count": null,
      "metadata": {
        "id": "uCKVOK-sZaG7"
      },
      "outputs": [],
      "source": [
        "newnewfeature=list(pd.Series(abs(model_svm.coef_[0]), index=predictors).index)"
      ]
    },
    {
      "cell_type": "code",
      "execution_count": null,
      "metadata": {
        "id": "MOXRXm1KZjUh",
        "colab": {
          "base_uri": "https://localhost:8080/"
        },
        "outputId": "8ef5880e-7981-46d9-dadb-b0d35d3c340b"
      },
      "outputs": [
        {
          "output_type": "execute_result",
          "data": {
            "text/plain": [
              "SVC(class_weight='balanced', kernel='linear')"
            ]
          },
          "metadata": {},
          "execution_count": 94
        }
      ],
      "source": [
        "X_train,X_test,y_train,y_test = model_selection.train_test_split(data[newnewfeature], newdata.transactionRevenue, random_state=12)\n",
        "from sklearn.svm import SVC \n",
        "\n",
        "model_svm=SVC(class_weight='balanced', kernel = 'linear')  \n",
        "model_svm.fit(X_train,y_train)"
      ]
    },
    {
      "cell_type": "code",
      "execution_count": null,
      "metadata": {
        "id": "v-1STdQlZ6jL",
        "colab": {
          "base_uri": "https://localhost:8080/"
        },
        "outputId": "f14a9919-184b-4a9e-c42c-7d1758b835e5"
      },
      "outputs": [
        {
          "output_type": "stream",
          "name": "stderr",
          "text": [
            "/usr/local/lib/python3.7/dist-packages/sklearn/base.py:446: UserWarning:\n",
            "\n",
            "X does not have valid feature names, but SVC was fitted with feature names\n",
            "\n"
          ]
        },
        {
          "output_type": "stream",
          "name": "stdout",
          "text": [
            "0.9472081218274112\n",
            "              precision    recall  f1-score   support\n",
            "\n",
            "           0       1.00      0.95      0.97      2906\n",
            "           1       0.21      0.82      0.34        49\n",
            "\n",
            "    accuracy                           0.95      2955\n",
            "   macro avg       0.61      0.88      0.66      2955\n",
            "weighted avg       0.98      0.95      0.96      2955\n",
            "\n"
          ]
        }
      ],
      "source": [
        "pred2 =model_svm.predict(np.array(X_test))\n",
        "\n",
        "print(metrics.accuracy_score(y_test, pred2))\n",
        "print(metrics.classification_report(y_test, pred2))"
      ]
    },
    {
      "cell_type": "markdown",
      "metadata": {
        "id": "n8gWepK99tZE"
      },
      "source": [
        "So the performance of our model is : recall 0.95 for no revenue;0.82 for have revenue"
      ]
    },
    {
      "cell_type": "markdown",
      "source": [
        "XGBOOST"
      ],
      "metadata": {
        "id": "Zyn2-peNZEIT"
      }
    },
    {
      "cell_type": "code",
      "source": [
        "scale_pos_weight = round(len(newdata[newdata.transactionRevenue==0]) / len(newdata[newdata.transactionRevenue==1]), 2)"
      ],
      "metadata": {
        "id": "lLUUra3EZGGg"
      },
      "execution_count": null,
      "outputs": []
    },
    {
      "cell_type": "code",
      "source": [
        "from xgboost import XGBClassifier\n",
        "from sklearn.model_selection import train_test_split"
      ],
      "metadata": {
        "id": "e3LXSD9fg0wK"
      },
      "execution_count": null,
      "outputs": []
    },
    {
      "cell_type": "code",
      "source": [
        "X_train,X_test,y_train,y_test = model_selection.train_test_split(data[predictors], newdata.transactionRevenue, random_state=12)\n",
        "\n",
        "model_xgb_class = XGBClassifier(colsample_bytree=0.4603, gamma=0.0468,\n",
        "                             learning_rate=0.05, max_depth=3,early_stopping_rounds=5,\n",
        "                             min_child_weight=1, n_estimators=500,\n",
        "                             reg_alpha=0.4640, reg_lambda=0.8571,\n",
        "                             subsample=0.5213, silent=1,\n",
        "                             random_state =7, nthread = -1,scale_pos_weight=scale_pos_weight)\n",
        "model_xgb_class.fit(X_train, y_train)\n",
        "preds=model_xgb_class.predict(X_test)"
      ],
      "metadata": {
        "id": "Q-Frt6lOYQsx"
      },
      "execution_count": null,
      "outputs": []
    },
    {
      "cell_type": "code",
      "source": [
        "print(metrics.accuracy_score(y_test, preds))\n",
        "print(metrics.classification_report(y_test, preds))"
      ],
      "metadata": {
        "id": "g8qxswM9nepz",
        "colab": {
          "base_uri": "https://localhost:8080/"
        },
        "outputId": "77af53a2-f784-46f0-dd48-4e58082fe72c"
      },
      "execution_count": null,
      "outputs": [
        {
          "output_type": "stream",
          "name": "stdout",
          "text": [
            "0.9631133671742809\n",
            "              precision    recall  f1-score   support\n",
            "\n",
            "           0       1.00      0.97      0.98      2906\n",
            "           1       0.28      0.78      0.41        49\n",
            "\n",
            "    accuracy                           0.96      2955\n",
            "   macro avg       0.64      0.87      0.70      2955\n",
            "weighted avg       0.98      0.96      0.97      2955\n",
            "\n"
          ]
        }
      ]
    },
    {
      "cell_type": "code",
      "source": [
        "model_xgb_class.feature_importances_\n",
        "Feature_importance=pd.DataFrame()\n",
        "Feature_importance[\"Feature Importance\"]=model_xgb_class.feature_importances_\n",
        "Feature_importance.index=X_train.columns\n",
        "Feature_importance[Feature_importance[\"Feature Importance\"] !=0 ].sort_values(\"Feature Importance\").head(10).plot(kind=\"barh\",figsize=(12,12), color='g')\n",
        "plt.xticks(rotation=90)\n",
        "plt.show()"
      ],
      "metadata": {
        "id": "XYRyicxoao2Q",
        "colab": {
          "base_uri": "https://localhost:8080/",
          "height": 725
        },
        "outputId": "090df322-ea62-4780-c6c7-26607dbd6e6d"
      },
      "execution_count": null,
      "outputs": [
        {
          "output_type": "display_data",
          "data": {
            "image/png": "[encoded data removed]",
            "text/plain": [
              "<Figure size 864x864 with 1 Axes>"
            ]
          },
          "metadata": {
            "needs_background": "light"
          }
        }
      ]
    },
    {
      "cell_type": "code",
      "source": [
        "choose_cols =Feature_importance[Feature_importance[\"Feature Importance\"] >0 ].index.tolist()\n",
        "choose_cols.append(\"transactionRevenue\")\n",
        "choose_data = newdata[choose_cols].copy()\n",
        "y=choose_data.transactionRevenue\n",
        "X=choose_data.drop([\"transactionRevenue\"],axis=1)\n",
        "x_train, x_test, y_train, y_test = train_test_split(X, y, test_size=0.30, random_state=42)\n",
        "\n",
        "model_xgb_class2 = XGBClassifier(colsample_bytree=0.4603, gamma=0.0468,\n",
        "                             learning_rate=0.05, max_depth=3,early_stopping_rounds=5,\n",
        "                             min_child_weight=1, n_estimators=500,\n",
        "                             reg_alpha=0.4640, reg_lambda=0.8571,\n",
        "                             subsample=0.5213, silent=1,\n",
        "                             random_state =7, nthread = -1,scale_pos_weight=scale_pos_weight)\n",
        "model_xgb_class2.fit(x_train, y_train)\n",
        "preds=model_xgb_class2.predict(x_test)\n"
      ],
      "metadata": {
        "id": "K9I0WEpChlNh"
      },
      "execution_count": null,
      "outputs": []
    },
    {
      "cell_type": "code",
      "source": [
        "from sklearn import metrics\n",
        "print(metrics.accuracy_score(y_test, preds))\n",
        "print(metrics.classification_report(y_test, preds))"
      ],
      "metadata": {
        "id": "099XT0Wzso44",
        "colab": {
          "base_uri": "https://localhost:8080/"
        },
        "outputId": "675a9b74-4925-4804-d2a9-9262230ec5bf"
      },
      "execution_count": null,
      "outputs": [
        {
          "output_type": "stream",
          "name": "stdout",
          "text": [
            "0.9644670050761421\n",
            "              precision    recall  f1-score   support\n",
            "\n",
            "           0       1.00      0.97      0.98      3495\n",
            "           1       0.27      0.86      0.41        51\n",
            "\n",
            "    accuracy                           0.96      3546\n",
            "   macro avg       0.63      0.91      0.70      3546\n",
            "weighted avg       0.99      0.96      0.97      3546\n",
            "\n"
          ]
        }
      ]
    },
    {
      "cell_type": "markdown",
      "source": [
        "It performance better than before."
      ],
      "metadata": {
        "id": "h6ndq4KsuZ90"
      }
    },
    {
      "cell_type": "markdown",
      "metadata": {
        "id": "-IAaVCAA9p5Y"
      },
      "source": [
        "### Regression"
      ]
    },
    {
      "cell_type": "code",
      "execution_count": null,
      "metadata": {
        "id": "NOVVHp5ZBtaM",
        "colab": {
          "base_uri": "https://localhost:8080/",
          "height": 448
        },
        "outputId": "dbe21d4f-db14-4895-dc8c-260c5a6cb993"
      },
      "outputs": [
        {
          "output_type": "stream",
          "name": "stderr",
          "text": [
            "/usr/local/lib/python3.7/dist-packages/seaborn/distributions.py:2619: FutureWarning:\n",
            "\n",
            "`distplot` is a deprecated function and will be removed in a future version. Please adapt your code to use either `displot` (a figure-level function with similar flexibility) or `histplot` (an axes-level function for histograms).\n",
            "\n"
          ]
        },
        {
          "output_type": "display_data",
          "data": {
            "image/png": "[encoded data removed]",
            "text/plain": [
              "<Figure size 1008x360 with 2 Axes>"
            ]
          },
          "metadata": {
            "needs_background": "light"
          }
        }
      ],
      "source": [
        "import matplotlib.pyplot as plt\n",
        "import seaborn as sns\n",
        "import numpy as np\n",
        "plt.figure(figsize=(14,5))\n",
        "plt.subplot(1,2,1)\n",
        "ax = sns.distplot(regression_data[regression_data['transactionRevenue'] >= 0][\"transactionRevenue\"], bins=40, kde=True)\n",
        "ax.set_xlabel('Transaction Revenue', fontsize=15) #seting the xlabel and size of font\n",
        "ax.set_ylabel('Distribuition', fontsize=15) #seting the ylabel and size of font\n",
        "ax.set_title(\"Distribuition of Revenue\", fontsize=20) #seting the title and size of font\n",
        "\n",
        "# setting the second plot of our grid of graphs\n",
        "plt.subplot(1,2,2)\n",
        "# ordering the total of users and seting the values of transactions to understanding \n",
        "plt.scatter(range(data.shape[0]), np.sort(regression_data['transactionRevenue'].values))\n",
        "plt.xlabel('Index', fontsize=15) # xlabel and size of words\n",
        "plt.ylabel('Revenue value', fontsize=15) # ylabel and size of words\n",
        "plt.title(\"Revenue Value Distribution\", fontsize=20) # Setting Title and fontsize\n",
        "\n",
        "plt.show()"
      ]
    },
    {
      "cell_type": "markdown",
      "metadata": {
        "id": "TrQIbM2RDDGg"
      },
      "source": [
        "We can find that it isn't the normal distribution"
      ]
    },
    {
      "cell_type": "code",
      "execution_count": null,
      "metadata": {
        "id": "NvzD7p1cD83o",
        "colab": {
          "base_uri": "https://localhost:8080/",
          "height": 448
        },
        "outputId": "d0137c88-4274-4d24-f253-494c39a48ea8"
      },
      "outputs": [
        {
          "output_type": "stream",
          "name": "stderr",
          "text": [
            "/usr/local/lib/python3.7/dist-packages/seaborn/distributions.py:2619: FutureWarning:\n",
            "\n",
            "`distplot` is a deprecated function and will be removed in a future version. Please adapt your code to use either `displot` (a figure-level function with similar flexibility) or `histplot` (an axes-level function for histograms).\n",
            "\n"
          ]
        },
        {
          "output_type": "display_data",
          "data": {
            "image/png": "[encoded data removed]",
            "text/plain": [
              "<Figure size 1008x360 with 2 Axes>"
            ]
          },
          "metadata": {
            "needs_background": "light"
          }
        }
      ],
      "source": [
        "import matplotlib.pyplot as plt\n",
        "import seaborn as sns\n",
        "import numpy as np\n",
        "plt.figure(figsize=(14,5))\n",
        "plt.subplot(1,2,1)\n",
        "ax = sns.distplot(np.log(regression_data[regression_data['transactionRevenue'] > 0][\"transactionRevenue\"]+1), bins=40, kde=True)\n",
        "ax.set_xlabel('Transaction Revenue log >0', fontsize=15) #seting the xlabel and size of font\n",
        "ax.set_ylabel('Distribuition', fontsize=15) #seting the ylabel and size of font\n",
        "ax.set_title(\"Distribuition of Revenue log >0\", fontsize=20) #seting the title and size of font\n",
        "\n",
        "# setting the second plot of our grid of graphs\n",
        "plt.subplot(1,2,2)\n",
        "# ordering the total of users and seting the values of transactions to understanding \n",
        "plt.scatter(range(data.shape[0]), np.sort(regression_data['transactionRevenue'].values))\n",
        "plt.xlabel('Index', fontsize=15) # xlabel and size of words\n",
        "plt.ylabel('Revenue value', fontsize=15) # ylabel and size of words\n",
        "plt.title(\"Revenue Value Distribution\", fontsize=20) # Setting Title and fontsize\n",
        "\n",
        "plt.show()"
      ]
    },
    {
      "cell_type": "code",
      "execution_count": null,
      "metadata": {
        "id": "A0N7M75hNe3b"
      },
      "outputs": [],
      "source": [
        "from sklearn.model_selection import train_test_split\n",
        "X_train,X_test,y_train,y_test = model_selection.train_test_split(regression_data[newnewfeature], np.log(regression_data[\"transactionRevenue\"]+1),test_size=0.30, random_state=12)\n"
      ]
    },
    {
      "cell_type": "code",
      "execution_count": null,
      "metadata": {
        "id": "ciHnzuvZa_kr"
      },
      "outputs": [],
      "source": [
        "from xgboost import XGBRegressor"
      ]
    },
    {
      "cell_type": "code",
      "execution_count": null,
      "metadata": {
        "id": "lTnA0ehx-_me"
      },
      "outputs": [],
      "source": [
        "model_xgb = XGBRegressor(colsample_bytree=0.4603, gamma=0.0468,\n",
        "                             learning_rate=0.05, max_depth=3,\n",
        "                             min_child_weight=1.7817, n_estimators=2200,\n",
        "                             reg_alpha=0.4640, reg_lambda=0.8571,\n",
        "                             subsample=0.5213, silent=1,\n",
        "                             random_state =7, nthread = -1)"
      ]
    },
    {
      "cell_type": "code",
      "execution_count": null,
      "metadata": {
        "id": "rGkY7Qmv_bRE",
        "colab": {
          "base_uri": "https://localhost:8080/"
        },
        "outputId": "0667315e-fc83-4104-e415-341a1c48b7c9"
      },
      "outputs": [
        {
          "output_type": "execute_result",
          "data": {
            "text/plain": [
              "XGBRegressor(colsample_bytree=0.4603, gamma=0.0468, learning_rate=0.05,\n",
              "             min_child_weight=1.7817, n_estimators=2200, nthread=-1,\n",
              "             random_state=7, reg_alpha=0.464, reg_lambda=0.8571, silent=1,\n",
              "             subsample=0.5213)"
            ]
          },
          "metadata": {},
          "execution_count": 108
        }
      ],
      "source": [
        "model_xgb.fit(X_train, y_train)"
      ]
    },
    {
      "cell_type": "code",
      "execution_count": null,
      "metadata": {
        "id": "b55YyMI-Ik9E",
        "colab": {
          "base_uri": "https://localhost:8080/"
        },
        "outputId": "38653893-4489-49f3-e3ea-07793a5b032c"
      },
      "outputs": [
        {
          "output_type": "execute_result",
          "data": {
            "text/plain": [
              "0.19397796554816982"
            ]
          },
          "metadata": {},
          "execution_count": 109
        }
      ],
      "source": [
        "preds=model_xgb.predict(X_test)\n",
        "from sklearn import metrics\n",
        "metrics.r2_score(y_test,preds)"
      ]
    },
    {
      "cell_type": "markdown",
      "source": [
        "We can find that,in cause of the data,the score of the function is not very well.R2 score is far from 1\n"
      ],
      "metadata": {
        "id": "g4HMPdq9cicW"
      }
    },
    {
      "cell_type": "code",
      "source": [
        "model_xgb.feature_importances_\n",
        "Feature_importance=pd.DataFrame()\n",
        "Feature_importance[\"Feature Importance\"]=model_xgb.feature_importances_\n",
        "Feature_importance.index=X_train.columns\n",
        "Feature_importance[Feature_importance[\"Feature Importance\"] !=0 ].sort_values(\"Feature Importance\").head(10).plot(kind=\"barh\",figsize=(12,12), color='g')\n",
        "plt.xticks(rotation=90)\n",
        "plt.show()"
      ],
      "metadata": {
        "id": "-snDvdY-Zlja",
        "colab": {
          "base_uri": "https://localhost:8080/",
          "height": 725
        },
        "outputId": "023d4748-940b-405c-afa5-f63d154bbc54"
      },
      "execution_count": null,
      "outputs": [
        {
          "output_type": "display_data",
          "data": {
            "image/png": "[encoded data removed]",
            "text/plain": [
              "<Figure size 864x864 with 1 Axes>"
            ]
          },
          "metadata": {
            "needs_background": "light"
          }
        }
      ]
    },
    {
      "cell_type": "code",
      "source": [
        "choose_cols =Feature_importance[Feature_importance[\"Feature Importance\"] >0 ].index.tolist()\n",
        "choose_cols.append(\"transactionRevenue\")\n",
        "choose_data = regression_data[choose_cols].copy()\n",
        "y=choose_data.transactionRevenue\n",
        "X=choose_data.drop([\"transactionRevenue\"],axis=1)\n",
        "x_train, x_test, y_train, y_test = train_test_split(X, np.log(y+1), test_size=0.30, random_state=42)\n",
        "\n",
        "model_xgb = XGBRegressor(colsample_bytree=0.4603, gamma=0.0468,\n",
        "                             learning_rate=0.05, max_depth=3,\n",
        "                             min_child_weight=1.7817, n_estimators=2200,\n",
        "                             reg_alpha=0.4640, reg_lambda=0.8571,\n",
        "                             subsample=0.5213, silent=1,\n",
        "                             random_state =7, nthread = -1)\n",
        "model_xgb.fit(x_train, y_train)\n",
        "preds=model_xgb.predict(x_test)\n",
        "from sklearn import metrics\n",
        "metrics.r2_score(y_test,preds)"
      ],
      "metadata": {
        "id": "obW2gQXla7e4",
        "colab": {
          "base_uri": "https://localhost:8080/"
        },
        "outputId": "97ee2223-abb2-49a2-a93d-3444f5c70d19"
      },
      "execution_count": null,
      "outputs": [
        {
          "output_type": "execute_result",
          "data": {
            "text/plain": [
              "0.19958136204446453"
            ]
          },
          "metadata": {},
          "execution_count": 111
        }
      ]
    },
    {
      "cell_type": "markdown",
      "source": [
        "We can find that,in cause of the data,the score of the function is not very well.R2 score is far from 1，but it seems better than before\n"
      ],
      "metadata": {
        "id": "64b2wKuIXZ7M"
      }
    },
    {
      "cell_type": "code",
      "source": [
        "'''from  sklearn.model_selection import GridSearchCV\n",
        "param_test1={\n",
        "    'max_depth':range(3,8,2),\n",
        "    \"min_child_weight\":range(1,4,2)\n",
        "}\n",
        "gsearch1=GridSearchCV(estimator=XGBRegressor(colsample_bytree=0.4603, gamma=0.0468,\n",
        "                             learning_rate=0.05, \n",
        "                             n_estimators=2200,\n",
        "                             reg_alpha=0.4640, reg_lambda=0.8571,\n",
        "                             subsample=0.5213, silent=1,\n",
        "                             random_state =7, nthread = -1),param_grid=param_test1,scoring=\"r2\",cv=5)\n",
        "gsearch1.fit(x_train,y_train)\n",
        "gsearch1.cv_results_\n",
        "gsearch1.best_params_\n",
        "gsearch1.best_score_\n",
        "'''"
      ],
      "metadata": {
        "id": "u68vy2gUcoaV",
        "colab": {
          "base_uri": "https://localhost:8080/",
          "height": 105
        },
        "outputId": "c740dc74-ce1a-4492-efe8-57128a77f5f0"
      },
      "execution_count": null,
      "outputs": [
        {
          "output_type": "execute_result",
          "data": {
            "application/vnd.google.colaboratory.intrinsic+json": {
              "type": "string"
            },
            "text/plain": [
              "'from  sklearn.model_selection import GridSearchCV\\nparam_test1={\\n    \\'max_depth\\':range(3,8,2),\\n    \"min_child_weight\":range(1,4,2)\\n}\\ngsearch1=GridSearchCV(estimator=XGBRegressor(colsample_bytree=0.4603, gamma=0.0468,\\n                             learning_rate=0.05, \\n                             n_estimators=2200,\\n                             reg_alpha=0.4640, reg_lambda=0.8571,\\n                             subsample=0.5213, silent=1,\\n                             random_state =7, nthread = -1),param_grid=param_test1,scoring=\"r2\",cv=5)\\ngsearch1.fit(x_train,y_train)\\ngsearch1.cv_results_\\ngsearch1.best_params_\\ngsearch1.best_score_\\n'"
            ]
          },
          "metadata": {},
          "execution_count": 112
        }
      ]
    },
    {
      "cell_type": "markdown",
      "source": [
        "Lasso"
      ],
      "metadata": {
        "id": "jkalpBUWigO7"
      }
    },
    {
      "cell_type": "code",
      "source": [
        "from sklearn import datasets\n",
        "from sklearn.model_selection import train_test_split\n",
        "from sklearn import linear_model\n",
        "from sklearn.metrics import mean_squared_error\n",
        "from sklearn.model_selection import GridSearchCV\n",
        "from sklearn import ensemble\n",
        "import numpy as np\n",
        "import pandas as pd\n",
        "import matplotlib.pyplot as plt\n",
        "\n",
        "X_train,X_test,y_train,y_test = model_selection.train_test_split(regression_data[newnewfeature], np.log(regression_data[\"transactionRevenue\"]+1),test_size=0.30, random_state=12)\n",
        "\n",
        "lasso = linear_model.Lasso(alpha=0.001)\n",
        "lasso.fit(X_train, y_train)\n",
        "preds=lasso.predict(X_test)\n",
        "from sklearn import metrics\n",
        "metrics.r2_score(y_test,preds)\n"
      ],
      "metadata": {
        "id": "16y8faJPihVf",
        "colab": {
          "base_uri": "https://localhost:8080/"
        },
        "outputId": "43c6886f-14a9-4842-9666-dadc2c95844a"
      },
      "execution_count": null,
      "outputs": [
        {
          "output_type": "execute_result",
          "data": {
            "text/plain": [
              "0.19350336532980583"
            ]
          },
          "metadata": {},
          "execution_count": 113
        }
      ]
    },
    {
      "cell_type": "code",
      "source": [
        "lasso.coef_"
      ],
      "metadata": {
        "id": "lVT6gpymy29v",
        "colab": {
          "base_uri": "https://localhost:8080/"
        },
        "outputId": "ff0038b7-263c-4953-df52-6f494c8562b7"
      },
      "execution_count": null,
      "outputs": [
        {
          "output_type": "execute_result",
          "data": {
            "text/plain": [
              "array([-0.00058199, -0.04708458,  0.15638691, ...,  0.        ,\n",
              "        0.        , -0.00041915])"
            ]
          },
          "metadata": {},
          "execution_count": 114
        }
      ]
    },
    {
      "cell_type": "code",
      "source": [
        "Feature_importance=pd.DataFrame()\n",
        "Feature_importance[\"Feature Importance\"]=lasso.coef_\n",
        "Feature_importance.index=X_train.columns\n",
        "Feature_importance[Feature_importance[\"Feature Importance\"] >0 ].sort_values(\"Feature Importance\").head(10).plot(kind=\"barh\",figsize=(12,12), color='g')\n",
        "plt.xticks(rotation=90)\n",
        "plt.show()"
      ],
      "metadata": {
        "id": "3Lu-VkAMxTFF",
        "colab": {
          "base_uri": "https://localhost:8080/",
          "height": 719
        },
        "outputId": "6dffa571-cc9c-4178-eac8-81390e8d0e10"
      },
      "execution_count": null,
      "outputs": [
        {
          "output_type": "display_data",
          "data": {
            "image/png": "[encoded data removed]",
            "text/plain": [
              "<Figure size 864x864 with 1 Axes>"
            ]
          },
          "metadata": {
            "needs_background": "light"
          }
        }
      ]
    },
    {
      "cell_type": "code",
      "source": [
        "choose_cols =Feature_importance[Feature_importance[\"Feature Importance\"] >0 ].index.tolist()\n",
        "choose_cols.append(\"transactionRevenue\")\n",
        "choose_data = regression_data[choose_cols].copy()\n",
        "y=choose_data.transactionRevenue\n",
        "X=choose_data.drop([\"transactionRevenue\"],axis=1)\n",
        "x_train, x_test, y_train, y_test = train_test_split(X, np.log(y+1), test_size=0.30, random_state=42)\n",
        "\n",
        "lasso = linear_model.Lasso(alpha=0.001)\n",
        "\n",
        "lasso.fit(x_train, y_train)\n",
        "preds=lasso.predict(x_test)\n",
        "from sklearn import metrics\n",
        "metrics.r2_score(y_test,preds)"
      ],
      "metadata": {
        "id": "OF99lCMJxeO8",
        "colab": {
          "base_uri": "https://localhost:8080/"
        },
        "outputId": "ab7248a7-7d39-4dee-eba6-a536aa828f6a"
      },
      "execution_count": null,
      "outputs": [
        {
          "output_type": "execute_result",
          "data": {
            "text/plain": [
              "0.23772280367381293"
            ]
          },
          "metadata": {},
          "execution_count": 116
        }
      ]
    },
    {
      "cell_type": "code",
      "source": [
        "len(regression_data[regression_data.transactionRevenue>0])"
      ],
      "metadata": {
        "id": "Aybp84HRz2X1",
        "colab": {
          "base_uri": "https://localhost:8080/"
        },
        "outputId": "663fa902-5495-4ba3-81fd-de389c756425"
      },
      "execution_count": null,
      "outputs": [
        {
          "output_type": "execute_result",
          "data": {
            "text/plain": [
              "165"
            ]
          },
          "metadata": {},
          "execution_count": 117
        }
      ]
    },
    {
      "cell_type": "markdown",
      "source": [
        "So we decided to supprime some data with zero,but therethere is only 165 transaction >0.\n"
      ],
      "metadata": {
        "id": "N3BZmtBtXlKn"
      }
    }
  ],
  "metadata": {
    "colab": {
      "name": "Final_project_AML.ipynb",
      "provenance": []
    },
    "kernelspec": {
      "display_name": "Python 3",
      "name": "python3"
    },
    "language_info": {
      "name": "python"
    },
    "accelerator": "GPU"
  },
  "nbformat": 4,
  "nbformat_minor": 0
}